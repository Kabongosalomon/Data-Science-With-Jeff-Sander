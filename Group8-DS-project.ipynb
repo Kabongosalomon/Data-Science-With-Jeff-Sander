{
 "cells": [
  {
   "cell_type": "markdown",
   "metadata": {},
   "source": [
    "## Importing Some important packages"
   ]
  },
  {
   "cell_type": "code",
   "execution_count": 1,
   "metadata": {},
   "outputs": [
    {
     "name": "stderr",
     "output_type": "stream",
     "text": [
      "c:\\python 3\\lib\\site-packages\\matplotlib\\__init__.py:886: MatplotlibDeprecationWarning: \n",
      "examples.directory is deprecated; in the future, examples will be found relative to the 'datapath' directory.\n",
      "  \"found relative to the 'datapath' directory.\".format(key))\n"
     ]
    }
   ],
   "source": [
    "import pandas as pd\n",
    "import pylab as pl\n",
    "import numpy as np\n",
    "import scipy.optimize as opt\n",
    "from sklearn import preprocessing\n",
    "%matplotlib inline \n",
    "import matplotlib.pyplot as plt\n",
    "from sklearn.ensemble import RandomForestRegressor\n",
    "from sklearn.metrics import mean_absolute_error\n",
    "\n",
    "import seaborn as sns"
   ]
  },
  {
   "cell_type": "markdown",
   "metadata": {},
   "source": [
    "## Loading Datas"
   ]
  },
  {
   "cell_type": "code",
   "execution_count": 2,
   "metadata": {},
   "outputs": [],
   "source": [
    "\n",
    "data_bus = pd.read_csv(\"train_revised.csv\")\n",
    "data_bus.head()\n",
    "\n",
    "df_test_set = pd.read_csv('test_questions.csv', low_memory=False)"
   ]
  },
  {
   "cell_type": "code",
   "execution_count": null,
   "metadata": {},
   "outputs": [],
   "source": []
  },
  {
   "cell_type": "code",
   "execution_count": 3,
   "metadata": {},
   "outputs": [
    {
     "data": {
      "text/html": [
       "<div>\n",
       "<style scoped>\n",
       "    .dataframe tbody tr th:only-of-type {\n",
       "        vertical-align: middle;\n",
       "    }\n",
       "\n",
       "    .dataframe tbody tr th {\n",
       "        vertical-align: top;\n",
       "    }\n",
       "\n",
       "    .dataframe thead th {\n",
       "        text-align: right;\n",
       "    }\n",
       "</style>\n",
       "<table border=\"1\" class=\"dataframe\">\n",
       "  <thead>\n",
       "    <tr style=\"text-align: right;\">\n",
       "      <th></th>\n",
       "      <th>ride_id</th>\n",
       "      <th>travel_date</th>\n",
       "      <th>travel_time</th>\n",
       "      <th>travel_from</th>\n",
       "      <th>travel_to</th>\n",
       "      <th>car_type</th>\n",
       "      <th>max_capacity</th>\n",
       "    </tr>\n",
       "  </thead>\n",
       "  <tbody>\n",
       "    <tr>\n",
       "      <th>0</th>\n",
       "      <td>1442</td>\n",
       "      <td>17-10-17</td>\n",
       "      <td>7:15</td>\n",
       "      <td>Migori</td>\n",
       "      <td>Nairobi</td>\n",
       "      <td>Bus</td>\n",
       "      <td>49</td>\n",
       "    </tr>\n",
       "    <tr>\n",
       "      <th>1</th>\n",
       "      <td>5437</td>\n",
       "      <td>19-11-17</td>\n",
       "      <td>7:12</td>\n",
       "      <td>Migori</td>\n",
       "      <td>Nairobi</td>\n",
       "      <td>Bus</td>\n",
       "      <td>49</td>\n",
       "    </tr>\n",
       "    <tr>\n",
       "      <th>2</th>\n",
       "      <td>5710</td>\n",
       "      <td>26-11-17</td>\n",
       "      <td>7:05</td>\n",
       "      <td>Keroka</td>\n",
       "      <td>Nairobi</td>\n",
       "      <td>Bus</td>\n",
       "      <td>49</td>\n",
       "    </tr>\n",
       "    <tr>\n",
       "      <th>3</th>\n",
       "      <td>5777</td>\n",
       "      <td>27-11-17</td>\n",
       "      <td>7:10</td>\n",
       "      <td>Homa Bay</td>\n",
       "      <td>Nairobi</td>\n",
       "      <td>Bus</td>\n",
       "      <td>49</td>\n",
       "    </tr>\n",
       "    <tr>\n",
       "      <th>4</th>\n",
       "      <td>5778</td>\n",
       "      <td>27-11-17</td>\n",
       "      <td>7:12</td>\n",
       "      <td>Migori</td>\n",
       "      <td>Nairobi</td>\n",
       "      <td>Bus</td>\n",
       "      <td>49</td>\n",
       "    </tr>\n",
       "  </tbody>\n",
       "</table>\n",
       "</div>"
      ],
      "text/plain": [
       "   ride_id travel_date travel_time travel_from travel_to car_type  \\\n",
       "0     1442    17-10-17        7:15      Migori   Nairobi      Bus   \n",
       "1     5437    19-11-17        7:12      Migori   Nairobi      Bus   \n",
       "2     5710    26-11-17        7:05      Keroka   Nairobi      Bus   \n",
       "3     5777    27-11-17        7:10    Homa Bay   Nairobi      Bus   \n",
       "4     5778    27-11-17        7:12      Migori   Nairobi      Bus   \n",
       "\n",
       "   max_capacity  \n",
       "0            49  \n",
       "1            49  \n",
       "2            49  \n",
       "3            49  \n",
       "4            49  "
      ]
     },
     "execution_count": 3,
     "metadata": {},
     "output_type": "execute_result"
    }
   ],
   "source": [
    "# Keeping only column that are usefull for our study \n",
    "data_revised = data_bus.drop(['seat_number', 'payment_method', 'payment_receipt'],axis=1)\n",
    "\n",
    "data_revised.head()"
   ]
  },
  {
   "cell_type": "code",
   "execution_count": 115,
   "metadata": {},
   "outputs": [],
   "source": [
    "# Extra town From Training set: Sori, Keumbu and Oyugis"
   ]
  },
  {
   "cell_type": "code",
   "execution_count": 117,
   "metadata": {},
   "outputs": [],
   "source": [
    "# Keumbu, Oyugis, "
   ]
  },
  {
   "cell_type": "code",
   "execution_count": 4,
   "metadata": {},
   "outputs": [],
   "source": [
    "# This hlep to count the number \n",
    "# of ticket sold for a specific ride_id\n",
    "\n",
    "ride_id_count = {} \n",
    "for ride_id in data_revised[\"ride_id\"]:\n",
    "    if not ride_id in ride_id_count:\n",
    "        ride_id_count[ride_id] = 1\n",
    "    else:\n",
    "        ride_id_count[ride_id] += 1 \n",
    "        \n",
    "data_revised.drop_duplicates(inplace=True)\n",
    "data_revised.reset_index(drop= True, inplace=True)\n",
    "\n",
    "# Initialise our column with zero\n",
    "data_revised[\"number_of_tickets\"]= np.zeros(\n",
    "    len(data_revised),dtype=int)\n",
    "\n",
    "# we update the number of ticket as follow \n",
    "for i in range(len(data_revised)):\n",
    "    ride_id = data_revised.loc[i][\"ride_id\"]\n",
    "    data_revised.at[\n",
    "        i,\"number_of_tickets\"] = ride_id_count[ride_id]"
   ]
  },
  {
   "cell_type": "code",
   "execution_count": 5,
   "metadata": {},
   "outputs": [
    {
     "data": {
      "text/html": [
       "<div>\n",
       "<style scoped>\n",
       "    .dataframe tbody tr th:only-of-type {\n",
       "        vertical-align: middle;\n",
       "    }\n",
       "\n",
       "    .dataframe tbody tr th {\n",
       "        vertical-align: top;\n",
       "    }\n",
       "\n",
       "    .dataframe thead th {\n",
       "        text-align: right;\n",
       "    }\n",
       "</style>\n",
       "<table border=\"1\" class=\"dataframe\">\n",
       "  <thead>\n",
       "    <tr style=\"text-align: right;\">\n",
       "      <th></th>\n",
       "      <th>ride_id</th>\n",
       "      <th>travel_date</th>\n",
       "      <th>travel_time</th>\n",
       "      <th>travel_from</th>\n",
       "      <th>travel_to</th>\n",
       "      <th>car_type</th>\n",
       "      <th>max_capacity</th>\n",
       "      <th>number_of_tickets</th>\n",
       "    </tr>\n",
       "  </thead>\n",
       "  <tbody>\n",
       "    <tr>\n",
       "      <th>0</th>\n",
       "      <td>1442</td>\n",
       "      <td>17-10-17</td>\n",
       "      <td>7:15</td>\n",
       "      <td>Migori</td>\n",
       "      <td>Nairobi</td>\n",
       "      <td>Bus</td>\n",
       "      <td>49</td>\n",
       "      <td>1</td>\n",
       "    </tr>\n",
       "    <tr>\n",
       "      <th>1</th>\n",
       "      <td>5437</td>\n",
       "      <td>19-11-17</td>\n",
       "      <td>7:12</td>\n",
       "      <td>Migori</td>\n",
       "      <td>Nairobi</td>\n",
       "      <td>Bus</td>\n",
       "      <td>49</td>\n",
       "      <td>1</td>\n",
       "    </tr>\n",
       "    <tr>\n",
       "      <th>2</th>\n",
       "      <td>5710</td>\n",
       "      <td>26-11-17</td>\n",
       "      <td>7:05</td>\n",
       "      <td>Keroka</td>\n",
       "      <td>Nairobi</td>\n",
       "      <td>Bus</td>\n",
       "      <td>49</td>\n",
       "      <td>1</td>\n",
       "    </tr>\n",
       "    <tr>\n",
       "      <th>3</th>\n",
       "      <td>5777</td>\n",
       "      <td>27-11-17</td>\n",
       "      <td>7:10</td>\n",
       "      <td>Homa Bay</td>\n",
       "      <td>Nairobi</td>\n",
       "      <td>Bus</td>\n",
       "      <td>49</td>\n",
       "      <td>5</td>\n",
       "    </tr>\n",
       "    <tr>\n",
       "      <th>4</th>\n",
       "      <td>5778</td>\n",
       "      <td>27-11-17</td>\n",
       "      <td>7:12</td>\n",
       "      <td>Migori</td>\n",
       "      <td>Nairobi</td>\n",
       "      <td>Bus</td>\n",
       "      <td>49</td>\n",
       "      <td>31</td>\n",
       "    </tr>\n",
       "  </tbody>\n",
       "</table>\n",
       "</div>"
      ],
      "text/plain": [
       "   ride_id travel_date travel_time travel_from travel_to car_type  \\\n",
       "0     1442    17-10-17        7:15      Migori   Nairobi      Bus   \n",
       "1     5437    19-11-17        7:12      Migori   Nairobi      Bus   \n",
       "2     5710    26-11-17        7:05      Keroka   Nairobi      Bus   \n",
       "3     5777    27-11-17        7:10    Homa Bay   Nairobi      Bus   \n",
       "4     5778    27-11-17        7:12      Migori   Nairobi      Bus   \n",
       "\n",
       "   max_capacity  number_of_tickets  \n",
       "0            49                  1  \n",
       "1            49                  1  \n",
       "2            49                  1  \n",
       "3            49                  5  \n",
       "4            49                 31  "
      ]
     },
     "execution_count": 5,
     "metadata": {},
     "output_type": "execute_result"
    }
   ],
   "source": [
    "data_revised.head()"
   ]
  },
  {
   "cell_type": "markdown",
   "metadata": {},
   "source": [
    "## Binning"
   ]
  },
  {
   "cell_type": "code",
   "execution_count": 6,
   "metadata": {},
   "outputs": [],
   "source": [
    "data_revised[\"Hour\"]= data_revised[\"travel_time\"].str.split(':').apply(lambda x: int(x[0]))\n",
    "data_revised[\"Minute\"]= data_revised[\"travel_time\"].str.split(':').apply(lambda x: int(x[1]))\n",
    "\n",
    "# data_revised data_revised[\"Day_week\"].dt.strftime('%w')\n",
    "data_revised['travel_date'] = pd.to_datetime(data_revised['travel_date'])\n",
    "\n",
    "data_revised['Day_week'] = data_revised['travel_date'].dt.strftime('%w')\n",
    "data_revised['Day_week']=pd.to_numeric(data_revised['Day_week'])\n",
    "\n",
    "data_revised['year_Month'] = data_revised['travel_date'].dt.strftime('%Y-%m')\n",
    "\n",
    "data_revised[\"Day\"]= data_revised['travel_date'].dt.strftime('%d')\n",
    "data_revised[\"Month\"]= data_revised['travel_date'].dt.strftime('%m')\n",
    "data_revised[\"year\"]= data_revised['travel_date'].dt.strftime('%Y')\n"
   ]
  },
  {
   "cell_type": "code",
   "execution_count": null,
   "metadata": {},
   "outputs": [],
   "source": []
  },
  {
   "cell_type": "code",
   "execution_count": 7,
   "metadata": {},
   "outputs": [
    {
     "data": {
      "text/html": [
       "<div>\n",
       "<style scoped>\n",
       "    .dataframe tbody tr th:only-of-type {\n",
       "        vertical-align: middle;\n",
       "    }\n",
       "\n",
       "    .dataframe tbody tr th {\n",
       "        vertical-align: top;\n",
       "    }\n",
       "\n",
       "    .dataframe thead th {\n",
       "        text-align: right;\n",
       "    }\n",
       "</style>\n",
       "<table border=\"1\" class=\"dataframe\">\n",
       "  <thead>\n",
       "    <tr style=\"text-align: right;\">\n",
       "      <th></th>\n",
       "      <th>ride_id</th>\n",
       "      <th>travel_date</th>\n",
       "      <th>travel_time</th>\n",
       "      <th>travel_from</th>\n",
       "      <th>travel_to</th>\n",
       "      <th>car_type</th>\n",
       "      <th>max_capacity</th>\n",
       "      <th>number_of_tickets</th>\n",
       "      <th>Hour</th>\n",
       "      <th>Minute</th>\n",
       "      <th>Day_week</th>\n",
       "      <th>year_Month</th>\n",
       "      <th>Day</th>\n",
       "      <th>Month</th>\n",
       "      <th>year</th>\n",
       "    </tr>\n",
       "  </thead>\n",
       "  <tbody>\n",
       "    <tr>\n",
       "      <th>0</th>\n",
       "      <td>1442</td>\n",
       "      <td>2017-10-17</td>\n",
       "      <td>7:15</td>\n",
       "      <td>Migori</td>\n",
       "      <td>Nairobi</td>\n",
       "      <td>Bus</td>\n",
       "      <td>49</td>\n",
       "      <td>1</td>\n",
       "      <td>7</td>\n",
       "      <td>15</td>\n",
       "      <td>2</td>\n",
       "      <td>2017-10</td>\n",
       "      <td>17</td>\n",
       "      <td>10</td>\n",
       "      <td>2017</td>\n",
       "    </tr>\n",
       "    <tr>\n",
       "      <th>1</th>\n",
       "      <td>5437</td>\n",
       "      <td>2017-11-19</td>\n",
       "      <td>7:12</td>\n",
       "      <td>Migori</td>\n",
       "      <td>Nairobi</td>\n",
       "      <td>Bus</td>\n",
       "      <td>49</td>\n",
       "      <td>1</td>\n",
       "      <td>7</td>\n",
       "      <td>12</td>\n",
       "      <td>0</td>\n",
       "      <td>2017-11</td>\n",
       "      <td>19</td>\n",
       "      <td>11</td>\n",
       "      <td>2017</td>\n",
       "    </tr>\n",
       "    <tr>\n",
       "      <th>2</th>\n",
       "      <td>5710</td>\n",
       "      <td>2017-11-26</td>\n",
       "      <td>7:05</td>\n",
       "      <td>Keroka</td>\n",
       "      <td>Nairobi</td>\n",
       "      <td>Bus</td>\n",
       "      <td>49</td>\n",
       "      <td>1</td>\n",
       "      <td>7</td>\n",
       "      <td>5</td>\n",
       "      <td>0</td>\n",
       "      <td>2017-11</td>\n",
       "      <td>26</td>\n",
       "      <td>11</td>\n",
       "      <td>2017</td>\n",
       "    </tr>\n",
       "    <tr>\n",
       "      <th>3</th>\n",
       "      <td>5777</td>\n",
       "      <td>2017-11-27</td>\n",
       "      <td>7:10</td>\n",
       "      <td>Homa Bay</td>\n",
       "      <td>Nairobi</td>\n",
       "      <td>Bus</td>\n",
       "      <td>49</td>\n",
       "      <td>5</td>\n",
       "      <td>7</td>\n",
       "      <td>10</td>\n",
       "      <td>1</td>\n",
       "      <td>2017-11</td>\n",
       "      <td>27</td>\n",
       "      <td>11</td>\n",
       "      <td>2017</td>\n",
       "    </tr>\n",
       "    <tr>\n",
       "      <th>4</th>\n",
       "      <td>5778</td>\n",
       "      <td>2017-11-27</td>\n",
       "      <td>7:12</td>\n",
       "      <td>Migori</td>\n",
       "      <td>Nairobi</td>\n",
       "      <td>Bus</td>\n",
       "      <td>49</td>\n",
       "      <td>31</td>\n",
       "      <td>7</td>\n",
       "      <td>12</td>\n",
       "      <td>1</td>\n",
       "      <td>2017-11</td>\n",
       "      <td>27</td>\n",
       "      <td>11</td>\n",
       "      <td>2017</td>\n",
       "    </tr>\n",
       "  </tbody>\n",
       "</table>\n",
       "</div>"
      ],
      "text/plain": [
       "   ride_id travel_date travel_time travel_from travel_to car_type  \\\n",
       "0     1442  2017-10-17        7:15      Migori   Nairobi      Bus   \n",
       "1     5437  2017-11-19        7:12      Migori   Nairobi      Bus   \n",
       "2     5710  2017-11-26        7:05      Keroka   Nairobi      Bus   \n",
       "3     5777  2017-11-27        7:10    Homa Bay   Nairobi      Bus   \n",
       "4     5778  2017-11-27        7:12      Migori   Nairobi      Bus   \n",
       "\n",
       "   max_capacity  number_of_tickets  Hour  Minute  Day_week year_Month Day  \\\n",
       "0            49                  1     7      15         2    2017-10  17   \n",
       "1            49                  1     7      12         0    2017-11  19   \n",
       "2            49                  1     7       5         0    2017-11  26   \n",
       "3            49                  5     7      10         1    2017-11  27   \n",
       "4            49                 31     7      12         1    2017-11  27   \n",
       "\n",
       "  Month  year  \n",
       "0    10  2017  \n",
       "1    11  2017  \n",
       "2    11  2017  \n",
       "3    11  2017  \n",
       "4    11  2017  "
      ]
     },
     "execution_count": 7,
     "metadata": {},
     "output_type": "execute_result"
    }
   ],
   "source": [
    "data_revised.head()"
   ]
  },
  {
   "cell_type": "code",
   "execution_count": null,
   "metadata": {},
   "outputs": [],
   "source": []
  },
  {
   "cell_type": "markdown",
   "metadata": {},
   "source": [
    "## Datas Visualisation"
   ]
  },
  {
   "cell_type": "code",
   "execution_count": 8,
   "metadata": {},
   "outputs": [
    {
     "data": {
      "text/plain": [
       "<matplotlib.axes._subplots.AxesSubplot at 0x205586e6a20>"
      ]
     },
     "execution_count": 8,
     "metadata": {},
     "output_type": "execute_result"
    },
    {
     "data": {
      "image/png": "[encoded data removed]",
      "text/plain": [
       "<Figure size 432x288 with 1 Axes>"
      ]
     },
     "metadata": {
      "needs_background": "light"
     },
     "output_type": "display_data"
    }
   ],
   "source": [
    "data_revised['travel_from'].value_counts().plot.bar()"
   ]
  },
  {
   "cell_type": "code",
   "execution_count": 9,
   "metadata": {},
   "outputs": [
    {
     "data": {
      "text/plain": [
       "<matplotlib.axes._subplots.AxesSubplot at 0x20558e52da0>"
      ]
     },
     "execution_count": 9,
     "metadata": {},
     "output_type": "execute_result"
    },
    {
     "data": {
      "image/png": "[encoded data removed]",
      "text/plain": [
       "<Figure size 432x288 with 1 Axes>"
      ]
     },
     "metadata": {
      "needs_background": "light"
     },
     "output_type": "display_data"
    }
   ],
   "source": [
    "data_revised['Hour'].value_counts().plot.bar()"
   ]
  },
  {
   "cell_type": "code",
   "execution_count": 10,
   "metadata": {},
   "outputs": [
    {
     "data": {
      "text/plain": [
       "<matplotlib.axes._subplots.AxesSubplot at 0x20558ee1940>"
      ]
     },
     "execution_count": 10,
     "metadata": {},
     "output_type": "execute_result"
    },
    {
     "data": {
      "image/png": "[encoded data removed]",
      "text/plain": [
       "<Figure size 432x288 with 1 Axes>"
      ]
     },
     "metadata": {
      "needs_background": "light"
     },
     "output_type": "display_data"
    }
   ],
   "source": [
    "data_revised['year_Month'].value_counts().plot.bar()"
   ]
  },
  {
   "cell_type": "code",
   "execution_count": 12,
   "metadata": {},
   "outputs": [
    {
     "data": {
      "text/plain": [
       "<matplotlib.axes._subplots.AxesSubplot at 0x20558ee1048>"
      ]
     },
     "execution_count": 12,
     "metadata": {},
     "output_type": "execute_result"
    },
    {
     "data": {
      "image/png": "[encoded data removed]",
      "text/plain": [
       "<Figure size 432x288 with 1 Axes>"
      ]
     },
     "metadata": {
      "needs_background": "light"
     },
     "output_type": "display_data"
    }
   ],
   "source": [
    "df_test_set.travel_from.value_counts().plot.bar()"
   ]
  },
  {
   "cell_type": "markdown",
   "metadata": {},
   "source": [
    "As Keumbu is not part of our study and is not in the testing sample provided by zindi, we decided to look at it as noice in the data and removed it."
   ]
  },
  {
   "cell_type": "code",
   "execution_count": 13,
   "metadata": {},
   "outputs": [],
   "source": [
    "# Removing occurance of Keumbu\n",
    "data_revised.drop(data_revised[data_revised['travel_from']=='Keumbu'].index, inplace=True)\n",
    "\n",
    "# Removing occurance of Kendu bay not in the test set\n",
    "data_revised.drop(data_revised[data_revised['travel_from']=='Kendu Bay'].index, inplace=True)\n"
   ]
  },
  {
   "cell_type": "code",
   "execution_count": 14,
   "metadata": {},
   "outputs": [
    {
     "data": {
      "text/plain": [
       "<matplotlib.axes._subplots.AxesSubplot at 0x20558d81710>"
      ]
     },
     "execution_count": 14,
     "metadata": {},
     "output_type": "execute_result"
    },
    {
     "data": {
      "image/png": "[encoded data removed]",
      "text/plain": [
       "<Figure size 432x288 with 1 Axes>"
      ]
     },
     "metadata": {
      "needs_background": "light"
     },
     "output_type": "display_data"
    }
   ],
   "source": [
    "data_revised['travel_from'].value_counts().plot.bar()"
   ]
  },
  {
   "cell_type": "code",
   "execution_count": 15,
   "metadata": {},
   "outputs": [
    {
     "data": {
      "text/html": [
       "<div>\n",
       "<style scoped>\n",
       "    .dataframe tbody tr th:only-of-type {\n",
       "        vertical-align: middle;\n",
       "    }\n",
       "\n",
       "    .dataframe tbody tr th {\n",
       "        vertical-align: top;\n",
       "    }\n",
       "\n",
       "    .dataframe thead th {\n",
       "        text-align: right;\n",
       "    }\n",
       "</style>\n",
       "<table border=\"1\" class=\"dataframe\">\n",
       "  <thead>\n",
       "    <tr style=\"text-align: right;\">\n",
       "      <th></th>\n",
       "      <th>ride_id</th>\n",
       "      <th>travel_date</th>\n",
       "      <th>travel_time</th>\n",
       "      <th>travel_from</th>\n",
       "      <th>travel_to</th>\n",
       "      <th>car_type</th>\n",
       "      <th>max_capacity</th>\n",
       "      <th>number_of_tickets</th>\n",
       "      <th>Hour</th>\n",
       "      <th>Minute</th>\n",
       "      <th>Day_week</th>\n",
       "      <th>year_Month</th>\n",
       "      <th>Day</th>\n",
       "      <th>Month</th>\n",
       "      <th>year</th>\n",
       "    </tr>\n",
       "  </thead>\n",
       "  <tbody>\n",
       "    <tr>\n",
       "      <th>0</th>\n",
       "      <td>1442</td>\n",
       "      <td>2017-10-17</td>\n",
       "      <td>7:15</td>\n",
       "      <td>Migori</td>\n",
       "      <td>Nairobi</td>\n",
       "      <td>Bus</td>\n",
       "      <td>49</td>\n",
       "      <td>1</td>\n",
       "      <td>7</td>\n",
       "      <td>15</td>\n",
       "      <td>2</td>\n",
       "      <td>2017-10</td>\n",
       "      <td>17</td>\n",
       "      <td>10</td>\n",
       "      <td>2017</td>\n",
       "    </tr>\n",
       "    <tr>\n",
       "      <th>1</th>\n",
       "      <td>5437</td>\n",
       "      <td>2017-11-19</td>\n",
       "      <td>7:12</td>\n",
       "      <td>Migori</td>\n",
       "      <td>Nairobi</td>\n",
       "      <td>Bus</td>\n",
       "      <td>49</td>\n",
       "      <td>1</td>\n",
       "      <td>7</td>\n",
       "      <td>12</td>\n",
       "      <td>0</td>\n",
       "      <td>2017-11</td>\n",
       "      <td>19</td>\n",
       "      <td>11</td>\n",
       "      <td>2017</td>\n",
       "    </tr>\n",
       "    <tr>\n",
       "      <th>2</th>\n",
       "      <td>5710</td>\n",
       "      <td>2017-11-26</td>\n",
       "      <td>7:05</td>\n",
       "      <td>Keroka</td>\n",
       "      <td>Nairobi</td>\n",
       "      <td>Bus</td>\n",
       "      <td>49</td>\n",
       "      <td>1</td>\n",
       "      <td>7</td>\n",
       "      <td>5</td>\n",
       "      <td>0</td>\n",
       "      <td>2017-11</td>\n",
       "      <td>26</td>\n",
       "      <td>11</td>\n",
       "      <td>2017</td>\n",
       "    </tr>\n",
       "    <tr>\n",
       "      <th>3</th>\n",
       "      <td>5777</td>\n",
       "      <td>2017-11-27</td>\n",
       "      <td>7:10</td>\n",
       "      <td>Homa Bay</td>\n",
       "      <td>Nairobi</td>\n",
       "      <td>Bus</td>\n",
       "      <td>49</td>\n",
       "      <td>5</td>\n",
       "      <td>7</td>\n",
       "      <td>10</td>\n",
       "      <td>1</td>\n",
       "      <td>2017-11</td>\n",
       "      <td>27</td>\n",
       "      <td>11</td>\n",
       "      <td>2017</td>\n",
       "    </tr>\n",
       "    <tr>\n",
       "      <th>4</th>\n",
       "      <td>5778</td>\n",
       "      <td>2017-11-27</td>\n",
       "      <td>7:12</td>\n",
       "      <td>Migori</td>\n",
       "      <td>Nairobi</td>\n",
       "      <td>Bus</td>\n",
       "      <td>49</td>\n",
       "      <td>31</td>\n",
       "      <td>7</td>\n",
       "      <td>12</td>\n",
       "      <td>1</td>\n",
       "      <td>2017-11</td>\n",
       "      <td>27</td>\n",
       "      <td>11</td>\n",
       "      <td>2017</td>\n",
       "    </tr>\n",
       "  </tbody>\n",
       "</table>\n",
       "</div>"
      ],
      "text/plain": [
       "   ride_id travel_date travel_time travel_from travel_to car_type  \\\n",
       "0     1442  2017-10-17        7:15      Migori   Nairobi      Bus   \n",
       "1     5437  2017-11-19        7:12      Migori   Nairobi      Bus   \n",
       "2     5710  2017-11-26        7:05      Keroka   Nairobi      Bus   \n",
       "3     5777  2017-11-27        7:10    Homa Bay   Nairobi      Bus   \n",
       "4     5778  2017-11-27        7:12      Migori   Nairobi      Bus   \n",
       "\n",
       "   max_capacity  number_of_tickets  Hour  Minute  Day_week year_Month Day  \\\n",
       "0            49                  1     7      15         2    2017-10  17   \n",
       "1            49                  1     7      12         0    2017-11  19   \n",
       "2            49                  1     7       5         0    2017-11  26   \n",
       "3            49                  5     7      10         1    2017-11  27   \n",
       "4            49                 31     7      12         1    2017-11  27   \n",
       "\n",
       "  Month  year  \n",
       "0    10  2017  \n",
       "1    11  2017  \n",
       "2    11  2017  \n",
       "3    11  2017  \n",
       "4    11  2017  "
      ]
     },
     "execution_count": 15,
     "metadata": {},
     "output_type": "execute_result"
    }
   ],
   "source": [
    "data_revised.head()"
   ]
  },
  {
   "cell_type": "markdown",
   "metadata": {},
   "source": [
    "We are doing some feature engeneering that will increase accurency of our predictor."
   ]
  },
  {
   "cell_type": "code",
   "execution_count": 16,
   "metadata": {},
   "outputs": [],
   "source": [
    "def classOur(x) :\n",
    "    if (int(x[0])==7):\n",
    "        return 1\n",
    "    return 2\n",
    "\n",
    "data_revised[\"Time_classify\"] = data_revised[\"travel_time\"].str.split(':').apply(classOur)\n",
    "\n",
    "def classProv(x) :\n",
    "    if (x[0]=='Kisii'):\n",
    "        return 1\n",
    "    return 2\n",
    "data_revised[\"Class_Prov\"] = data_revised[\"travel_from\"].str.split(':').apply(classProv)\n",
    "\n",
    "\n",
    "def classdate(x) :\n",
    "#     if (x[0]=='2018/01' or x[0]=='2018/02' or x[0]=='2018/03' or x[0]=='2018/04' or x[0]=='2017/12'):\n",
    "    if (((x[0]=='2017') and (x[1]=='12')) or \n",
    "       ((x[0]=='2018') and (x[1]=='01')) or\n",
    "       ((x[0]=='2018') and (x[1]=='02')) or\n",
    "       ((x[0]=='2018') and (x[1]=='03')) or\n",
    "       ((x[0]=='2018') and (x[1]=='04'))):\n",
    "        return 1\n",
    "    return 2\n",
    "data_revised[\"Class_Data\"] = data_revised[\"year_Month\"].str.split('-').apply(classdate)\n"
   ]
  },
  {
   "cell_type": "code",
   "execution_count": 17,
   "metadata": {},
   "outputs": [
    {
     "data": {
      "text/plain": [
       "<matplotlib.axes._subplots.AxesSubplot at 0x205590a5160>"
      ]
     },
     "execution_count": 17,
     "metadata": {},
     "output_type": "execute_result"
    },
    {
     "data": {
      "image/png": "[encoded data removed]",
      "text/plain": [
       "<Figure size 432x288 with 1 Axes>"
      ]
     },
     "metadata": {
      "needs_background": "light"
     },
     "output_type": "display_data"
    }
   ],
   "source": [
    "data_revised.Time_classify.value_counts().plot.bar()"
   ]
  },
  {
   "cell_type": "code",
   "execution_count": 18,
   "metadata": {},
   "outputs": [
    {
     "data": {
      "text/plain": [
       "<matplotlib.axes._subplots.AxesSubplot at 0x2055908ba58>"
      ]
     },
     "execution_count": 18,
     "metadata": {},
     "output_type": "execute_result"
    },
    {
     "data": {
      "image/png": "[encoded data removed]",
      "text/plain": [
       "<Figure size 432x288 with 1 Axes>"
      ]
     },
     "metadata": {
      "needs_background": "light"
     },
     "output_type": "display_data"
    }
   ],
   "source": [
    "data_revised.Class_Prov.value_counts().plot.bar()"
   ]
  },
  {
   "cell_type": "code",
   "execution_count": 19,
   "metadata": {},
   "outputs": [
    {
     "data": {
      "text/plain": [
       "<matplotlib.axes._subplots.AxesSubplot at 0x205591bc278>"
      ]
     },
     "execution_count": 19,
     "metadata": {},
     "output_type": "execute_result"
    },
    {
     "data": {
      "image/png": "[encoded data removed]",
      "text/plain": [
       "<Figure size 432x288 with 1 Axes>"
      ]
     },
     "metadata": {
      "needs_background": "light"
     },
     "output_type": "display_data"
    }
   ],
   "source": [
    "data_revised.Class_Data.value_counts().plot.bar()"
   ]
  },
  {
   "cell_type": "markdown",
   "metadata": {},
   "source": [
    "As Random Forest requiere the input features to have numerical value, wil will have to encore our categorical variable, in such a way that they can be view by our model as numerical values.\n"
   ]
  },
  {
   "cell_type": "code",
   "execution_count": 20,
   "metadata": {},
   "outputs": [],
   "source": [
    "data_revised[\"travel_date\"] = pd.to_datetime(data_revised[\"travel_date\"],infer_datetime_format=True)\n",
    "data_revised[\"travel_date\"] = data_revised[\"travel_date\"].dt.dayofweek #change the full date to day of week\n",
    "\n",
    "data_revised[\"car_type\"] = pd.Categorical(data_revised[\"car_type\"])\n",
    "# car_type_categories = data_revised.car_type.cat.categories\n",
    "data_revised[\"car_type\"] = data_revised.car_type.cat.codes\n",
    "\n",
    "data_revised[\"travel_from\"] = pd.Categorical(data_revised[\"travel_from\"])\n",
    "# travel_from_categories = data_revised.travel_from.cat.categories\n",
    "data_revised[\"travel_from\"] = data_revised.travel_from.cat.codes\n",
    "\n",
    "data_revised[\"travel_to\"] = pd.Categorical(data_revised[\"travel_to\"])\n",
    "data_revised[\"travel_to\"] = data_revised.travel_to.cat.codes\n",
    "\n",
    "data_revised[\"travel_time\"] = data_revised[\"travel_time\"].str.split(':').apply(lambda x: int(x[0]) * 60 + int(x[1]))\n",
    "\n",
    "# data_revised[\"travel_time\"] = data_revised[\"travel_time\"].str.split(':').apply(lambda x: int(x[0]))"
   ]
  },
  {
   "cell_type": "code",
   "execution_count": 21,
   "metadata": {},
   "outputs": [
    {
     "data": {
      "text/plain": [
       "<matplotlib.axes._subplots.AxesSubplot at 0x2055921ec50>"
      ]
     },
     "execution_count": 21,
     "metadata": {},
     "output_type": "execute_result"
    },
    {
     "data": {
      "image/png": "[encoded data removed]",
      "text/plain": [
       "<Figure size 432x288 with 1 Axes>"
      ]
     },
     "metadata": {
      "needs_background": "light"
     },
     "output_type": "display_data"
    }
   ],
   "source": [
    "data_revised['travel_from'].value_counts().plot.bar()"
   ]
  },
  {
   "cell_type": "code",
   "execution_count": 22,
   "metadata": {},
   "outputs": [
    {
     "data": {
      "text/plain": [
       "<matplotlib.axes._subplots.AxesSubplot at 0x205590ed240>"
      ]
     },
     "execution_count": 22,
     "metadata": {},
     "output_type": "execute_result"
    },
    {
     "data": {
      "image/png": "[encoded data removed]",
      "text/plain": [
       "<Figure size 432x288 with 1 Axes>"
      ]
     },
     "metadata": {
      "needs_background": "light"
     },
     "output_type": "display_data"
    }
   ],
   "source": [
    "data_revised['Hour'].value_counts().plot.bar()"
   ]
  },
  {
   "cell_type": "code",
   "execution_count": 23,
   "metadata": {},
   "outputs": [
    {
     "data": {
      "text/html": [
       "<div>\n",
       "<style scoped>\n",
       "    .dataframe tbody tr th:only-of-type {\n",
       "        vertical-align: middle;\n",
       "    }\n",
       "\n",
       "    .dataframe tbody tr th {\n",
       "        vertical-align: top;\n",
       "    }\n",
       "\n",
       "    .dataframe thead th {\n",
       "        text-align: right;\n",
       "    }\n",
       "</style>\n",
       "<table border=\"1\" class=\"dataframe\">\n",
       "  <thead>\n",
       "    <tr style=\"text-align: right;\">\n",
       "      <th></th>\n",
       "      <th>ride_id</th>\n",
       "      <th>travel_date</th>\n",
       "      <th>travel_time</th>\n",
       "      <th>travel_from</th>\n",
       "      <th>travel_to</th>\n",
       "      <th>car_type</th>\n",
       "      <th>max_capacity</th>\n",
       "      <th>number_of_tickets</th>\n",
       "      <th>Hour</th>\n",
       "      <th>Minute</th>\n",
       "      <th>Day_week</th>\n",
       "      <th>year_Month</th>\n",
       "      <th>Day</th>\n",
       "      <th>Month</th>\n",
       "      <th>year</th>\n",
       "      <th>Time_classify</th>\n",
       "      <th>Class_Prov</th>\n",
       "      <th>Class_Data</th>\n",
       "    </tr>\n",
       "  </thead>\n",
       "  <tbody>\n",
       "    <tr>\n",
       "      <th>0</th>\n",
       "      <td>1442</td>\n",
       "      <td>1</td>\n",
       "      <td>435</td>\n",
       "      <td>7</td>\n",
       "      <td>0</td>\n",
       "      <td>0</td>\n",
       "      <td>49</td>\n",
       "      <td>1</td>\n",
       "      <td>7</td>\n",
       "      <td>15</td>\n",
       "      <td>2</td>\n",
       "      <td>2017-10</td>\n",
       "      <td>17</td>\n",
       "      <td>10</td>\n",
       "      <td>2017</td>\n",
       "      <td>1</td>\n",
       "      <td>2</td>\n",
       "      <td>2</td>\n",
       "    </tr>\n",
       "    <tr>\n",
       "      <th>1</th>\n",
       "      <td>5437</td>\n",
       "      <td>6</td>\n",
       "      <td>432</td>\n",
       "      <td>7</td>\n",
       "      <td>0</td>\n",
       "      <td>0</td>\n",
       "      <td>49</td>\n",
       "      <td>1</td>\n",
       "      <td>7</td>\n",
       "      <td>12</td>\n",
       "      <td>0</td>\n",
       "      <td>2017-11</td>\n",
       "      <td>19</td>\n",
       "      <td>11</td>\n",
       "      <td>2017</td>\n",
       "      <td>1</td>\n",
       "      <td>2</td>\n",
       "      <td>2</td>\n",
       "    </tr>\n",
       "    <tr>\n",
       "      <th>2</th>\n",
       "      <td>5710</td>\n",
       "      <td>6</td>\n",
       "      <td>425</td>\n",
       "      <td>3</td>\n",
       "      <td>0</td>\n",
       "      <td>0</td>\n",
       "      <td>49</td>\n",
       "      <td>1</td>\n",
       "      <td>7</td>\n",
       "      <td>5</td>\n",
       "      <td>0</td>\n",
       "      <td>2017-11</td>\n",
       "      <td>26</td>\n",
       "      <td>11</td>\n",
       "      <td>2017</td>\n",
       "      <td>1</td>\n",
       "      <td>2</td>\n",
       "      <td>2</td>\n",
       "    </tr>\n",
       "    <tr>\n",
       "      <th>3</th>\n",
       "      <td>5777</td>\n",
       "      <td>0</td>\n",
       "      <td>430</td>\n",
       "      <td>1</td>\n",
       "      <td>0</td>\n",
       "      <td>0</td>\n",
       "      <td>49</td>\n",
       "      <td>5</td>\n",
       "      <td>7</td>\n",
       "      <td>10</td>\n",
       "      <td>1</td>\n",
       "      <td>2017-11</td>\n",
       "      <td>27</td>\n",
       "      <td>11</td>\n",
       "      <td>2017</td>\n",
       "      <td>1</td>\n",
       "      <td>2</td>\n",
       "      <td>2</td>\n",
       "    </tr>\n",
       "    <tr>\n",
       "      <th>4</th>\n",
       "      <td>5778</td>\n",
       "      <td>0</td>\n",
       "      <td>432</td>\n",
       "      <td>7</td>\n",
       "      <td>0</td>\n",
       "      <td>0</td>\n",
       "      <td>49</td>\n",
       "      <td>31</td>\n",
       "      <td>7</td>\n",
       "      <td>12</td>\n",
       "      <td>1</td>\n",
       "      <td>2017-11</td>\n",
       "      <td>27</td>\n",
       "      <td>11</td>\n",
       "      <td>2017</td>\n",
       "      <td>1</td>\n",
       "      <td>2</td>\n",
       "      <td>2</td>\n",
       "    </tr>\n",
       "  </tbody>\n",
       "</table>\n",
       "</div>"
      ],
      "text/plain": [
       "   ride_id  travel_date  travel_time  travel_from  travel_to  car_type  \\\n",
       "0     1442            1          435            7          0         0   \n",
       "1     5437            6          432            7          0         0   \n",
       "2     5710            6          425            3          0         0   \n",
       "3     5777            0          430            1          0         0   \n",
       "4     5778            0          432            7          0         0   \n",
       "\n",
       "   max_capacity  number_of_tickets  Hour  Minute  Day_week year_Month Day  \\\n",
       "0            49                  1     7      15         2    2017-10  17   \n",
       "1            49                  1     7      12         0    2017-11  19   \n",
       "2            49                  1     7       5         0    2017-11  26   \n",
       "3            49                  5     7      10         1    2017-11  27   \n",
       "4            49                 31     7      12         1    2017-11  27   \n",
       "\n",
       "  Month  year  Time_classify  Class_Prov  Class_Data  \n",
       "0    10  2017              1           2           2  \n",
       "1    11  2017              1           2           2  \n",
       "2    11  2017              1           2           2  \n",
       "3    11  2017              1           2           2  \n",
       "4    11  2017              1           2           2  "
      ]
     },
     "execution_count": 23,
     "metadata": {},
     "output_type": "execute_result"
    }
   ],
   "source": [
    "data_revised.head()"
   ]
  },
  {
   "cell_type": "code",
   "execution_count": 24,
   "metadata": {},
   "outputs": [
    {
     "data": {
      "text/plain": [
       "1    3198\n",
       "2    3030\n",
       "Name: Time_classify, dtype: int64"
      ]
     },
     "execution_count": 24,
     "metadata": {},
     "output_type": "execute_result"
    }
   ],
   "source": [
    "data_revised.Time_classify.value_counts()"
   ]
  },
  {
   "cell_type": "code",
   "execution_count": null,
   "metadata": {},
   "outputs": [],
   "source": []
  },
  {
   "cell_type": "markdown",
   "metadata": {},
   "source": [
    "# Model"
   ]
  },
  {
   "cell_type": "code",
   "execution_count": 25,
   "metadata": {},
   "outputs": [
    {
     "data": {
      "text/html": [
       "<div>\n",
       "<style scoped>\n",
       "    .dataframe tbody tr th:only-of-type {\n",
       "        vertical-align: middle;\n",
       "    }\n",
       "\n",
       "    .dataframe tbody tr th {\n",
       "        vertical-align: top;\n",
       "    }\n",
       "\n",
       "    .dataframe thead th {\n",
       "        text-align: right;\n",
       "    }\n",
       "</style>\n",
       "<table border=\"1\" class=\"dataframe\">\n",
       "  <thead>\n",
       "    <tr style=\"text-align: right;\">\n",
       "      <th></th>\n",
       "      <th>ride_id</th>\n",
       "      <th>travel_date</th>\n",
       "      <th>travel_time</th>\n",
       "      <th>travel_from</th>\n",
       "      <th>travel_to</th>\n",
       "      <th>car_type</th>\n",
       "      <th>max_capacity</th>\n",
       "      <th>number_of_tickets</th>\n",
       "      <th>Hour</th>\n",
       "      <th>Minute</th>\n",
       "      <th>Day_week</th>\n",
       "      <th>year_Month</th>\n",
       "      <th>Day</th>\n",
       "      <th>Month</th>\n",
       "      <th>year</th>\n",
       "      <th>Time_classify</th>\n",
       "      <th>Class_Prov</th>\n",
       "      <th>Class_Data</th>\n",
       "    </tr>\n",
       "  </thead>\n",
       "  <tbody>\n",
       "    <tr>\n",
       "      <th>0</th>\n",
       "      <td>1442</td>\n",
       "      <td>1</td>\n",
       "      <td>435</td>\n",
       "      <td>7</td>\n",
       "      <td>0</td>\n",
       "      <td>0</td>\n",
       "      <td>49</td>\n",
       "      <td>1</td>\n",
       "      <td>7</td>\n",
       "      <td>15</td>\n",
       "      <td>2</td>\n",
       "      <td>2017-10</td>\n",
       "      <td>17</td>\n",
       "      <td>10</td>\n",
       "      <td>2017</td>\n",
       "      <td>1</td>\n",
       "      <td>2</td>\n",
       "      <td>2</td>\n",
       "    </tr>\n",
       "    <tr>\n",
       "      <th>1</th>\n",
       "      <td>5437</td>\n",
       "      <td>6</td>\n",
       "      <td>432</td>\n",
       "      <td>7</td>\n",
       "      <td>0</td>\n",
       "      <td>0</td>\n",
       "      <td>49</td>\n",
       "      <td>1</td>\n",
       "      <td>7</td>\n",
       "      <td>12</td>\n",
       "      <td>0</td>\n",
       "      <td>2017-11</td>\n",
       "      <td>19</td>\n",
       "      <td>11</td>\n",
       "      <td>2017</td>\n",
       "      <td>1</td>\n",
       "      <td>2</td>\n",
       "      <td>2</td>\n",
       "    </tr>\n",
       "    <tr>\n",
       "      <th>2</th>\n",
       "      <td>5710</td>\n",
       "      <td>6</td>\n",
       "      <td>425</td>\n",
       "      <td>3</td>\n",
       "      <td>0</td>\n",
       "      <td>0</td>\n",
       "      <td>49</td>\n",
       "      <td>1</td>\n",
       "      <td>7</td>\n",
       "      <td>5</td>\n",
       "      <td>0</td>\n",
       "      <td>2017-11</td>\n",
       "      <td>26</td>\n",
       "      <td>11</td>\n",
       "      <td>2017</td>\n",
       "      <td>1</td>\n",
       "      <td>2</td>\n",
       "      <td>2</td>\n",
       "    </tr>\n",
       "    <tr>\n",
       "      <th>3</th>\n",
       "      <td>5777</td>\n",
       "      <td>0</td>\n",
       "      <td>430</td>\n",
       "      <td>1</td>\n",
       "      <td>0</td>\n",
       "      <td>0</td>\n",
       "      <td>49</td>\n",
       "      <td>5</td>\n",
       "      <td>7</td>\n",
       "      <td>10</td>\n",
       "      <td>1</td>\n",
       "      <td>2017-11</td>\n",
       "      <td>27</td>\n",
       "      <td>11</td>\n",
       "      <td>2017</td>\n",
       "      <td>1</td>\n",
       "      <td>2</td>\n",
       "      <td>2</td>\n",
       "    </tr>\n",
       "    <tr>\n",
       "      <th>4</th>\n",
       "      <td>5778</td>\n",
       "      <td>0</td>\n",
       "      <td>432</td>\n",
       "      <td>7</td>\n",
       "      <td>0</td>\n",
       "      <td>0</td>\n",
       "      <td>49</td>\n",
       "      <td>31</td>\n",
       "      <td>7</td>\n",
       "      <td>12</td>\n",
       "      <td>1</td>\n",
       "      <td>2017-11</td>\n",
       "      <td>27</td>\n",
       "      <td>11</td>\n",
       "      <td>2017</td>\n",
       "      <td>1</td>\n",
       "      <td>2</td>\n",
       "      <td>2</td>\n",
       "    </tr>\n",
       "  </tbody>\n",
       "</table>\n",
       "</div>"
      ],
      "text/plain": [
       "   ride_id  travel_date  travel_time  travel_from  travel_to  car_type  \\\n",
       "0     1442            1          435            7          0         0   \n",
       "1     5437            6          432            7          0         0   \n",
       "2     5710            6          425            3          0         0   \n",
       "3     5777            0          430            1          0         0   \n",
       "4     5778            0          432            7          0         0   \n",
       "\n",
       "   max_capacity  number_of_tickets  Hour  Minute  Day_week year_Month Day  \\\n",
       "0            49                  1     7      15         2    2017-10  17   \n",
       "1            49                  1     7      12         0    2017-11  19   \n",
       "2            49                  1     7       5         0    2017-11  26   \n",
       "3            49                  5     7      10         1    2017-11  27   \n",
       "4            49                 31     7      12         1    2017-11  27   \n",
       "\n",
       "  Month  year  Time_classify  Class_Prov  Class_Data  \n",
       "0    10  2017              1           2           2  \n",
       "1    11  2017              1           2           2  \n",
       "2    11  2017              1           2           2  \n",
       "3    11  2017              1           2           2  \n",
       "4    11  2017              1           2           2  "
      ]
     },
     "execution_count": 25,
     "metadata": {},
     "output_type": "execute_result"
    }
   ],
   "source": [
    "data_revised.head()"
   ]
  },
  {
   "cell_type": "code",
   "execution_count": 39,
   "metadata": {},
   "outputs": [
    {
     "name": "stdout",
     "output_type": "stream",
     "text": [
      "Train set: (4982, 6) (4982,)\n",
      "Test set: (1246, 6) (1246,)\n"
     ]
    }
   ],
   "source": [
    "from sklearn.model_selection import train_test_split\n",
    "\n",
    "# We put features that will help us predict number of ticket together in X\n",
    "X = data_revised[[\"Day_week\", \"Time_classify\", \"travel_time\", \"travel_from\", \"car_type\", \"max_capacity\"]]\n",
    "\n",
    "# For competition\n",
    "X_comp = data_revised[[\"Day_week\", \"Class_Data\", \"Time_classify\", \"travel_time\", \"travel_from\", \"car_type\", \"max_capacity\"]]\n",
    "\n",
    "\n",
    "# Our target variable is the number of ticket \n",
    "y = data_revised.number_of_tickets\n",
    "\n",
    "X_train, X_test, y_train, y_test = train_test_split( X, y, test_size=0.2, random_state=4)\n",
    "\n",
    "print ('Train set:', X_train.shape,  y_train.shape)\n",
    "print ('Test set:', X_test.shape,  y_test.shape)"
   ]
  },
  {
   "cell_type": "code",
   "execution_count": 40,
   "metadata": {},
   "outputs": [
    {
     "data": {
      "text/html": [
       "<div>\n",
       "<style scoped>\n",
       "    .dataframe tbody tr th:only-of-type {\n",
       "        vertical-align: middle;\n",
       "    }\n",
       "\n",
       "    .dataframe tbody tr th {\n",
       "        vertical-align: top;\n",
       "    }\n",
       "\n",
       "    .dataframe thead th {\n",
       "        text-align: right;\n",
       "    }\n",
       "</style>\n",
       "<table border=\"1\" class=\"dataframe\">\n",
       "  <thead>\n",
       "    <tr style=\"text-align: right;\">\n",
       "      <th></th>\n",
       "      <th>Day_week</th>\n",
       "      <th>Time_classify</th>\n",
       "      <th>travel_time</th>\n",
       "      <th>travel_from</th>\n",
       "      <th>car_type</th>\n",
       "      <th>max_capacity</th>\n",
       "    </tr>\n",
       "  </thead>\n",
       "  <tbody>\n",
       "    <tr>\n",
       "      <th>0</th>\n",
       "      <td>2</td>\n",
       "      <td>1</td>\n",
       "      <td>435</td>\n",
       "      <td>7</td>\n",
       "      <td>0</td>\n",
       "      <td>49</td>\n",
       "    </tr>\n",
       "    <tr>\n",
       "      <th>1</th>\n",
       "      <td>0</td>\n",
       "      <td>1</td>\n",
       "      <td>432</td>\n",
       "      <td>7</td>\n",
       "      <td>0</td>\n",
       "      <td>49</td>\n",
       "    </tr>\n",
       "    <tr>\n",
       "      <th>2</th>\n",
       "      <td>0</td>\n",
       "      <td>1</td>\n",
       "      <td>425</td>\n",
       "      <td>3</td>\n",
       "      <td>0</td>\n",
       "      <td>49</td>\n",
       "    </tr>\n",
       "    <tr>\n",
       "      <th>3</th>\n",
       "      <td>1</td>\n",
       "      <td>1</td>\n",
       "      <td>430</td>\n",
       "      <td>1</td>\n",
       "      <td>0</td>\n",
       "      <td>49</td>\n",
       "    </tr>\n",
       "    <tr>\n",
       "      <th>4</th>\n",
       "      <td>1</td>\n",
       "      <td>1</td>\n",
       "      <td>432</td>\n",
       "      <td>7</td>\n",
       "      <td>0</td>\n",
       "      <td>49</td>\n",
       "    </tr>\n",
       "  </tbody>\n",
       "</table>\n",
       "</div>"
      ],
      "text/plain": [
       "   Day_week  Time_classify  travel_time  travel_from  car_type  max_capacity\n",
       "0         2              1          435            7         0            49\n",
       "1         0              1          432            7         0            49\n",
       "2         0              1          425            3         0            49\n",
       "3         1              1          430            1         0            49\n",
       "4         1              1          432            7         0            49"
      ]
     },
     "execution_count": 40,
     "metadata": {},
     "output_type": "execute_result"
    }
   ],
   "source": [
    "X.head()"
   ]
  },
  {
   "cell_type": "code",
   "execution_count": 41,
   "metadata": {},
   "outputs": [
    {
     "name": "stdout",
     "output_type": "stream",
     "text": [
      "<class 'pandas.core.frame.DataFrame'>\n",
      "Int64Index: 6228 entries, 0 to 6248\n",
      "Data columns (total 6 columns):\n",
      "Day_week         6228 non-null int64\n",
      "Time_classify    6228 non-null int64\n",
      "travel_time      6228 non-null int64\n",
      "travel_from      6228 non-null int8\n",
      "car_type         6228 non-null int8\n",
      "max_capacity     6228 non-null int64\n",
      "dtypes: int64(4), int8(2)\n",
      "memory usage: 255.4 KB\n"
     ]
    }
   ],
   "source": [
    "X.info()"
   ]
  },
  {
   "cell_type": "code",
   "execution_count": null,
   "metadata": {},
   "outputs": [],
   "source": []
  },
  {
   "cell_type": "markdown",
   "metadata": {},
   "source": [
    "## Random Forest"
   ]
  },
  {
   "cell_type": "markdown",
   "metadata": {},
   "source": [
    "### Spleet version"
   ]
  },
  {
   "cell_type": "code",
   "execution_count": 42,
   "metadata": {},
   "outputs": [],
   "source": [
    "model = RandomForestRegressor(n_estimators=100, criterion=\"mae\", n_jobs=-1)"
   ]
  },
  {
   "cell_type": "code",
   "execution_count": 43,
   "metadata": {},
   "outputs": [
    {
     "data": {
      "text/plain": [
       "RandomForestRegressor(bootstrap=True, criterion='mae', max_depth=None,\n",
       "           max_features='auto', max_leaf_nodes=None,\n",
       "           min_impurity_decrease=0.0, min_impurity_split=None,\n",
       "           min_samples_leaf=1, min_samples_split=2,\n",
       "           min_weight_fraction_leaf=0.0, n_estimators=100, n_jobs=-1,\n",
       "           oob_score=False, random_state=None, verbose=0, warm_start=False)"
      ]
     },
     "execution_count": 43,
     "metadata": {},
     "output_type": "execute_result"
    }
   ],
   "source": [
    "model.fit(X_train,y_train)"
   ]
  },
  {
   "cell_type": "code",
   "execution_count": 44,
   "metadata": {},
   "outputs": [],
   "source": [
    "y_preds = model.predict(X_test)"
   ]
  },
  {
   "cell_type": "code",
   "execution_count": 45,
   "metadata": {},
   "outputs": [],
   "source": [
    "y_preds = np.rint(y_preds)"
   ]
  },
  {
   "cell_type": "markdown",
   "metadata": {},
   "source": [
    "#### Error Checking"
   ]
  },
  {
   "cell_type": "code",
   "execution_count": 46,
   "metadata": {},
   "outputs": [
    {
     "name": "stdout",
     "output_type": "stream",
     "text": [
      "3.8691813804173356\n"
     ]
    }
   ],
   "source": [
    "print (mean_absolute_error(y_preds,y_test))"
   ]
  },
  {
   "cell_type": "code",
   "execution_count": null,
   "metadata": {},
   "outputs": [],
   "source": []
  },
  {
   "cell_type": "markdown",
   "metadata": {},
   "source": [
    "# Other Regressor Method"
   ]
  },
  {
   "cell_type": "markdown",
   "metadata": {},
   "source": [
    "## Linear Regression"
   ]
  },
  {
   "cell_type": "code",
   "execution_count": 52,
   "metadata": {},
   "outputs": [],
   "source": [
    "from sklearn import linear_model"
   ]
  },
  {
   "cell_type": "code",
   "execution_count": 53,
   "metadata": {},
   "outputs": [
    {
     "name": "stdout",
     "output_type": "stream",
     "text": [
      "Coefficient: \n",
      " [ 0.02533938 -1.27059187  0.01174747 -0.24145537 -0.0021016   0.07986083]\n",
      "Intercept: \n",
      " 3.2053611229240584\n"
     ]
    }
   ],
   "source": [
    "# Create linear regression object\n",
    "linear = linear_model.LinearRegression()\n",
    "# Train the model using the training sets and check score\n",
    "linear.fit(X_train, y_train)\n",
    "linear.score(X_train, y_train)\n",
    "#Equation coefficient and Intercept\n",
    "print('Coefficient: \\n', linear.coef_)\n",
    "print('Intercept: \\n', linear.intercept_)\n",
    "#Predict Output\n",
    "predicted= linear.predict(X_test)"
   ]
  },
  {
   "cell_type": "code",
   "execution_count": 54,
   "metadata": {},
   "outputs": [
    {
     "name": "stdout",
     "output_type": "stream",
     "text": [
      "6.023043587624796\n"
     ]
    }
   ],
   "source": [
    "print (mean_absolute_error(predicted,y_test))"
   ]
  },
  {
   "cell_type": "markdown",
   "metadata": {},
   "source": [
    "Not good at all."
   ]
  },
  {
   "cell_type": "code",
   "execution_count": null,
   "metadata": {},
   "outputs": [],
   "source": []
  },
  {
   "cell_type": "markdown",
   "metadata": {},
   "source": [
    "## KNeighborsRegressor"
   ]
  },
  {
   "cell_type": "code",
   "execution_count": 55,
   "metadata": {},
   "outputs": [],
   "source": [
    "from sklearn.neighbors import KNeighborsRegressor"
   ]
  },
  {
   "cell_type": "code",
   "execution_count": 56,
   "metadata": {},
   "outputs": [],
   "source": [
    "neigh = KNeighborsRegressor(n_neighbors=16)\n",
    "neigh.fit(X_train, y_train) \n",
    "\n",
    "y_preds3 = neigh.predict(X_test)"
   ]
  },
  {
   "cell_type": "code",
   "execution_count": 57,
   "metadata": {},
   "outputs": [
    {
     "name": "stdout",
     "output_type": "stream",
     "text": [
      "4.282403691813804\n"
     ]
    }
   ],
   "source": [
    "print (mean_absolute_error(y_preds3,y_test))"
   ]
  },
  {
   "cell_type": "code",
   "execution_count": null,
   "metadata": {},
   "outputs": [],
   "source": []
  },
  {
   "cell_type": "code",
   "execution_count": null,
   "metadata": {},
   "outputs": [],
   "source": []
  },
  {
   "cell_type": "code",
   "execution_count": null,
   "metadata": {},
   "outputs": [],
   "source": []
  },
  {
   "cell_type": "code",
   "execution_count": null,
   "metadata": {},
   "outputs": [],
   "source": []
  },
  {
   "cell_type": "markdown",
   "metadata": {},
   "source": [
    "## CatBoostRegressor"
   ]
  },
  {
   "cell_type": "code",
   "execution_count": 58,
   "metadata": {},
   "outputs": [
    {
     "data": {
      "text/html": [
       "<div>\n",
       "<style scoped>\n",
       "    .dataframe tbody tr th:only-of-type {\n",
       "        vertical-align: middle;\n",
       "    }\n",
       "\n",
       "    .dataframe tbody tr th {\n",
       "        vertical-align: top;\n",
       "    }\n",
       "\n",
       "    .dataframe thead th {\n",
       "        text-align: right;\n",
       "    }\n",
       "</style>\n",
       "<table border=\"1\" class=\"dataframe\">\n",
       "  <thead>\n",
       "    <tr style=\"text-align: right;\">\n",
       "      <th></th>\n",
       "      <th>Day_week</th>\n",
       "      <th>Time_classify</th>\n",
       "      <th>travel_time</th>\n",
       "      <th>travel_from</th>\n",
       "      <th>car_type</th>\n",
       "      <th>max_capacity</th>\n",
       "    </tr>\n",
       "  </thead>\n",
       "  <tbody>\n",
       "    <tr>\n",
       "      <th>0</th>\n",
       "      <td>2</td>\n",
       "      <td>1</td>\n",
       "      <td>435</td>\n",
       "      <td>7</td>\n",
       "      <td>0</td>\n",
       "      <td>49</td>\n",
       "    </tr>\n",
       "    <tr>\n",
       "      <th>1</th>\n",
       "      <td>0</td>\n",
       "      <td>1</td>\n",
       "      <td>432</td>\n",
       "      <td>7</td>\n",
       "      <td>0</td>\n",
       "      <td>49</td>\n",
       "    </tr>\n",
       "    <tr>\n",
       "      <th>2</th>\n",
       "      <td>0</td>\n",
       "      <td>1</td>\n",
       "      <td>425</td>\n",
       "      <td>3</td>\n",
       "      <td>0</td>\n",
       "      <td>49</td>\n",
       "    </tr>\n",
       "    <tr>\n",
       "      <th>3</th>\n",
       "      <td>1</td>\n",
       "      <td>1</td>\n",
       "      <td>430</td>\n",
       "      <td>1</td>\n",
       "      <td>0</td>\n",
       "      <td>49</td>\n",
       "    </tr>\n",
       "    <tr>\n",
       "      <th>4</th>\n",
       "      <td>1</td>\n",
       "      <td>1</td>\n",
       "      <td>432</td>\n",
       "      <td>7</td>\n",
       "      <td>0</td>\n",
       "      <td>49</td>\n",
       "    </tr>\n",
       "  </tbody>\n",
       "</table>\n",
       "</div>"
      ],
      "text/plain": [
       "   Day_week  Time_classify  travel_time  travel_from  car_type  max_capacity\n",
       "0         2              1          435            7         0            49\n",
       "1         0              1          432            7         0            49\n",
       "2         0              1          425            3         0            49\n",
       "3         1              1          430            1         0            49\n",
       "4         1              1          432            7         0            49"
      ]
     },
     "execution_count": 58,
     "metadata": {},
     "output_type": "execute_result"
    }
   ],
   "source": [
    "X.head()"
   ]
  },
  {
   "cell_type": "code",
   "execution_count": 71,
   "metadata": {},
   "outputs": [
    {
     "name": "stdout",
     "output_type": "stream",
     "text": [
      "0:\tlearn: 11.6925786\ttotal: 21.3ms\tremaining: 21.3s\n",
      "1:\tlearn: 11.4779037\ttotal: 42ms\tremaining: 20.9s\n",
      "2:\tlearn: 11.2960223\ttotal: 66.8ms\tremaining: 22.2s\n",
      "3:\tlearn: 11.0923661\ttotal: 89.8ms\tremaining: 22.4s\n",
      "4:\tlearn: 10.9040007\ttotal: 114ms\tremaining: 22.8s\n",
      "5:\tlearn: 10.7505630\ttotal: 129ms\tremaining: 21.3s\n",
      "6:\tlearn: 10.5661745\ttotal: 152ms\tremaining: 21.6s\n",
      "7:\tlearn: 10.4034143\ttotal: 178ms\tremaining: 22s\n",
      "8:\tlearn: 10.2589444\ttotal: 202ms\tremaining: 22.3s\n",
      "9:\tlearn: 10.1098182\ttotal: 241ms\tremaining: 23.9s\n",
      "10:\tlearn: 9.9546241\ttotal: 269ms\tremaining: 24.1s\n",
      "11:\tlearn: 9.8452787\ttotal: 287ms\tremaining: 23.6s\n",
      "12:\tlearn: 9.6898034\ttotal: 317ms\tremaining: 24.1s\n",
      "13:\tlearn: 9.5591901\ttotal: 340ms\tremaining: 23.9s\n",
      "14:\tlearn: 9.4219820\ttotal: 363ms\tremaining: 23.8s\n",
      "15:\tlearn: 9.3148298\ttotal: 381ms\tremaining: 23.4s\n",
      "16:\tlearn: 9.1845410\ttotal: 404ms\tremaining: 23.4s\n",
      "17:\tlearn: 9.0673365\ttotal: 440ms\tremaining: 24s\n",
      "18:\tlearn: 8.9567825\ttotal: 465ms\tremaining: 24s\n",
      "19:\tlearn: 8.8577288\ttotal: 486ms\tremaining: 23.8s\n",
      "20:\tlearn: 8.7419344\ttotal: 510ms\tremaining: 23.8s\n",
      "21:\tlearn: 8.6551955\ttotal: 530ms\tremaining: 23.6s\n",
      "22:\tlearn: 8.5670679\ttotal: 555ms\tremaining: 23.6s\n",
      "23:\tlearn: 8.4849387\ttotal: 580ms\tremaining: 23.6s\n",
      "24:\tlearn: 8.4172639\ttotal: 601ms\tremaining: 23.5s\n",
      "25:\tlearn: 8.3465448\ttotal: 631ms\tremaining: 23.7s\n",
      "26:\tlearn: 8.2769308\ttotal: 657ms\tremaining: 23.7s\n",
      "27:\tlearn: 8.1917695\ttotal: 680ms\tremaining: 23.6s\n",
      "28:\tlearn: 8.1057277\ttotal: 705ms\tremaining: 23.6s\n",
      "29:\tlearn: 8.0416370\ttotal: 729ms\tremaining: 23.6s\n",
      "30:\tlearn: 7.9627077\ttotal: 752ms\tremaining: 23.5s\n",
      "31:\tlearn: 7.8942882\ttotal: 776ms\tremaining: 23.5s\n",
      "32:\tlearn: 7.8353032\ttotal: 796ms\tremaining: 23.3s\n",
      "33:\tlearn: 7.7943967\ttotal: 820ms\tremaining: 23.3s\n",
      "34:\tlearn: 7.7315906\ttotal: 848ms\tremaining: 23.4s\n",
      "35:\tlearn: 7.6633991\ttotal: 872ms\tremaining: 23.3s\n",
      "36:\tlearn: 7.6046333\ttotal: 901ms\tremaining: 23.5s\n",
      "37:\tlearn: 7.5571905\ttotal: 934ms\tremaining: 23.6s\n",
      "38:\tlearn: 7.5166139\ttotal: 962ms\tremaining: 23.7s\n",
      "39:\tlearn: 7.4672070\ttotal: 987ms\tremaining: 23.7s\n",
      "40:\tlearn: 7.4140664\ttotal: 1.02s\tremaining: 23.8s\n",
      "41:\tlearn: 7.3693958\ttotal: 1.06s\tremaining: 24.1s\n",
      "42:\tlearn: 7.3300926\ttotal: 1.09s\tremaining: 24.3s\n",
      "43:\tlearn: 7.2876868\ttotal: 1.14s\tremaining: 24.7s\n",
      "44:\tlearn: 7.2502834\ttotal: 1.17s\tremaining: 24.8s\n",
      "45:\tlearn: 7.2089576\ttotal: 1.21s\tremaining: 25.2s\n",
      "46:\tlearn: 7.1774218\ttotal: 1.24s\tremaining: 25.1s\n",
      "47:\tlearn: 7.1475522\ttotal: 1.27s\tremaining: 25.3s\n",
      "48:\tlearn: 7.1310694\ttotal: 1.29s\tremaining: 25.1s\n",
      "49:\tlearn: 7.1078542\ttotal: 1.33s\tremaining: 25.3s\n",
      "50:\tlearn: 7.0740609\ttotal: 1.36s\tremaining: 25.3s\n",
      "51:\tlearn: 7.0400212\ttotal: 1.4s\tremaining: 25.6s\n",
      "52:\tlearn: 7.0058285\ttotal: 1.44s\tremaining: 25.7s\n",
      "53:\tlearn: 6.9829174\ttotal: 1.47s\tremaining: 25.7s\n",
      "54:\tlearn: 6.9519167\ttotal: 1.5s\tremaining: 25.7s\n",
      "55:\tlearn: 6.9195844\ttotal: 1.52s\tremaining: 25.6s\n",
      "56:\tlearn: 6.9037375\ttotal: 1.54s\tremaining: 25.6s\n",
      "57:\tlearn: 6.8770653\ttotal: 1.58s\tremaining: 25.7s\n",
      "58:\tlearn: 6.8663578\ttotal: 1.6s\tremaining: 25.5s\n",
      "59:\tlearn: 6.8407081\ttotal: 1.62s\tremaining: 25.5s\n",
      "60:\tlearn: 6.8241190\ttotal: 1.66s\tremaining: 25.5s\n",
      "61:\tlearn: 6.7943712\ttotal: 1.69s\tremaining: 25.5s\n",
      "62:\tlearn: 6.7705582\ttotal: 1.72s\tremaining: 25.5s\n",
      "63:\tlearn: 6.7359487\ttotal: 1.74s\tremaining: 25.5s\n",
      "64:\tlearn: 6.7260733\ttotal: 1.77s\tremaining: 25.5s\n",
      "65:\tlearn: 6.7039980\ttotal: 1.81s\tremaining: 25.6s\n",
      "66:\tlearn: 6.6890149\ttotal: 1.84s\tremaining: 25.6s\n",
      "67:\tlearn: 6.6725003\ttotal: 1.86s\tremaining: 25.6s\n",
      "68:\tlearn: 6.6540940\ttotal: 1.89s\tremaining: 25.5s\n",
      "69:\tlearn: 6.6366601\ttotal: 1.92s\tremaining: 25.5s\n",
      "70:\tlearn: 6.6178741\ttotal: 1.96s\tremaining: 25.7s\n",
      "71:\tlearn: 6.5980104\ttotal: 2s\tremaining: 25.8s\n",
      "72:\tlearn: 6.5822107\ttotal: 2.03s\tremaining: 25.7s\n",
      "73:\tlearn: 6.5720927\ttotal: 2.05s\tremaining: 25.7s\n",
      "74:\tlearn: 6.5558618\ttotal: 2.08s\tremaining: 25.7s\n",
      "75:\tlearn: 6.5425066\ttotal: 2.12s\tremaining: 25.8s\n",
      "76:\tlearn: 6.5365683\ttotal: 2.16s\tremaining: 25.8s\n",
      "77:\tlearn: 6.5201646\ttotal: 2.19s\tremaining: 25.8s\n",
      "78:\tlearn: 6.5106648\ttotal: 2.22s\tremaining: 25.8s\n",
      "79:\tlearn: 6.4982953\ttotal: 2.24s\tremaining: 25.8s\n",
      "80:\tlearn: 6.4917054\ttotal: 2.27s\tremaining: 25.8s\n",
      "81:\tlearn: 6.4808011\ttotal: 2.3s\tremaining: 25.8s\n",
      "82:\tlearn: 6.4681046\ttotal: 2.34s\tremaining: 25.9s\n",
      "83:\tlearn: 6.4500462\ttotal: 2.37s\tremaining: 25.8s\n",
      "84:\tlearn: 6.4402400\ttotal: 2.4s\tremaining: 25.8s\n",
      "85:\tlearn: 6.4298888\ttotal: 2.42s\tremaining: 25.8s\n",
      "86:\tlearn: 6.4220366\ttotal: 2.46s\tremaining: 25.8s\n",
      "87:\tlearn: 6.4163853\ttotal: 2.48s\tremaining: 25.7s\n",
      "88:\tlearn: 6.4072908\ttotal: 2.52s\tremaining: 25.8s\n",
      "89:\tlearn: 6.4002910\ttotal: 2.55s\tremaining: 25.8s\n",
      "90:\tlearn: 6.3966511\ttotal: 2.57s\tremaining: 25.7s\n",
      "91:\tlearn: 6.3828911\ttotal: 2.6s\tremaining: 25.7s\n",
      "92:\tlearn: 6.3745480\ttotal: 2.62s\tremaining: 25.6s\n",
      "93:\tlearn: 6.3617613\ttotal: 2.65s\tremaining: 25.5s\n",
      "94:\tlearn: 6.3569561\ttotal: 2.67s\tremaining: 25.5s\n",
      "95:\tlearn: 6.3530257\ttotal: 2.71s\tremaining: 25.5s\n",
      "96:\tlearn: 6.3461064\ttotal: 2.74s\tremaining: 25.5s\n",
      "97:\tlearn: 6.3425157\ttotal: 2.77s\tremaining: 25.5s\n",
      "98:\tlearn: 6.3365768\ttotal: 2.81s\tremaining: 25.5s\n",
      "99:\tlearn: 6.3301338\ttotal: 2.84s\tremaining: 25.5s\n",
      "100:\tlearn: 6.3185039\ttotal: 2.87s\tremaining: 25.5s\n",
      "101:\tlearn: 6.3130404\ttotal: 2.9s\tremaining: 25.6s\n",
      "102:\tlearn: 6.3099435\ttotal: 2.93s\tremaining: 25.5s\n",
      "103:\tlearn: 6.3047128\ttotal: 2.96s\tremaining: 25.5s\n",
      "104:\tlearn: 6.2942782\ttotal: 2.99s\tremaining: 25.5s\n",
      "105:\tlearn: 6.2878691\ttotal: 3.02s\tremaining: 25.5s\n",
      "106:\tlearn: 6.2825191\ttotal: 3.05s\tremaining: 25.4s\n",
      "107:\tlearn: 6.2786076\ttotal: 3.08s\tremaining: 25.5s\n",
      "108:\tlearn: 6.2698203\ttotal: 3.12s\tremaining: 25.5s\n",
      "109:\tlearn: 6.2555075\ttotal: 3.14s\tremaining: 25.4s\n",
      "110:\tlearn: 6.2500087\ttotal: 3.17s\tremaining: 25.4s\n",
      "111:\tlearn: 6.2447026\ttotal: 3.2s\tremaining: 25.4s\n",
      "112:\tlearn: 6.2435558\ttotal: 3.23s\tremaining: 25.3s\n",
      "113:\tlearn: 6.2431999\ttotal: 3.24s\tremaining: 25.2s\n",
      "114:\tlearn: 6.2382338\ttotal: 3.27s\tremaining: 25.2s\n",
      "115:\tlearn: 6.2343296\ttotal: 3.3s\tremaining: 25.2s\n",
      "116:\tlearn: 6.2222491\ttotal: 3.34s\tremaining: 25.2s\n",
      "117:\tlearn: 6.2205779\ttotal: 3.36s\tremaining: 25.1s\n",
      "118:\tlearn: 6.2131484\ttotal: 3.39s\tremaining: 25.1s\n",
      "119:\tlearn: 6.2114215\ttotal: 3.42s\tremaining: 25.1s\n",
      "120:\tlearn: 6.2099765\ttotal: 3.45s\tremaining: 25.1s\n",
      "121:\tlearn: 6.2058418\ttotal: 3.48s\tremaining: 25s\n",
      "122:\tlearn: 6.1979497\ttotal: 3.51s\tremaining: 25s\n",
      "123:\tlearn: 6.1959823\ttotal: 3.54s\tremaining: 25s\n",
      "124:\tlearn: 6.1905388\ttotal: 3.56s\tremaining: 24.9s\n",
      "125:\tlearn: 6.1788693\ttotal: 3.59s\tremaining: 24.9s\n",
      "126:\tlearn: 6.1759178\ttotal: 3.62s\tremaining: 24.9s\n",
      "127:\tlearn: 6.1757670\ttotal: 3.63s\tremaining: 24.7s\n",
      "128:\tlearn: 6.1687656\ttotal: 3.66s\tremaining: 24.7s\n",
      "129:\tlearn: 6.1640996\ttotal: 3.68s\tremaining: 24.7s\n",
      "130:\tlearn: 6.1633602\ttotal: 3.7s\tremaining: 24.5s\n",
      "131:\tlearn: 6.1562308\ttotal: 3.73s\tremaining: 24.5s\n",
      "132:\tlearn: 6.1529614\ttotal: 3.75s\tremaining: 24.4s\n",
      "133:\tlearn: 6.1450728\ttotal: 3.77s\tremaining: 24.4s\n",
      "134:\tlearn: 6.1389562\ttotal: 3.8s\tremaining: 24.3s\n",
      "135:\tlearn: 6.1354312\ttotal: 3.83s\tremaining: 24.4s\n",
      "136:\tlearn: 6.1344994\ttotal: 3.87s\tremaining: 24.4s\n",
      "137:\tlearn: 6.1335622\ttotal: 3.9s\tremaining: 24.3s\n",
      "138:\tlearn: 6.1317961\ttotal: 3.92s\tremaining: 24.3s\n",
      "139:\tlearn: 6.1273151\ttotal: 3.95s\tremaining: 24.3s\n",
      "140:\tlearn: 6.1264707\ttotal: 3.98s\tremaining: 24.2s\n",
      "141:\tlearn: 6.1181538\ttotal: 4.01s\tremaining: 24.2s\n",
      "142:\tlearn: 6.1155148\ttotal: 4.04s\tremaining: 24.2s\n",
      "143:\tlearn: 6.1130535\ttotal: 4.07s\tremaining: 24.2s\n",
      "144:\tlearn: 6.1125846\ttotal: 4.08s\tremaining: 24.1s\n",
      "145:\tlearn: 6.1059387\ttotal: 4.12s\tremaining: 24.1s\n",
      "146:\tlearn: 6.1049935\ttotal: 4.14s\tremaining: 24s\n",
      "147:\tlearn: 6.0971817\ttotal: 4.17s\tremaining: 24s\n",
      "148:\tlearn: 6.0926786\ttotal: 4.2s\tremaining: 24s\n",
      "149:\tlearn: 6.0874756\ttotal: 4.23s\tremaining: 24s\n",
      "150:\tlearn: 6.0799931\ttotal: 4.26s\tremaining: 23.9s\n",
      "151:\tlearn: 6.0793508\ttotal: 4.28s\tremaining: 23.9s\n",
      "152:\tlearn: 6.0780963\ttotal: 4.3s\tremaining: 23.8s\n",
      "153:\tlearn: 6.0744200\ttotal: 4.33s\tremaining: 23.8s\n",
      "154:\tlearn: 6.0739049\ttotal: 4.35s\tremaining: 23.7s\n",
      "155:\tlearn: 6.0731426\ttotal: 4.38s\tremaining: 23.7s\n",
      "156:\tlearn: 6.0718481\ttotal: 4.41s\tremaining: 23.7s\n",
      "157:\tlearn: 6.0711722\ttotal: 4.43s\tremaining: 23.6s\n",
      "158:\tlearn: 6.0697435\ttotal: 4.46s\tremaining: 23.6s\n",
      "159:\tlearn: 6.0686839\ttotal: 4.48s\tremaining: 23.5s\n",
      "160:\tlearn: 6.0665979\ttotal: 4.51s\tremaining: 23.5s\n",
      "161:\tlearn: 6.0592987\ttotal: 4.53s\tremaining: 23.5s\n"
     ]
    },
    {
     "name": "stdout",
     "output_type": "stream",
     "text": [
      "162:\tlearn: 6.0532775\ttotal: 4.57s\tremaining: 23.5s\n",
      "163:\tlearn: 6.0514188\ttotal: 4.6s\tremaining: 23.4s\n",
      "164:\tlearn: 6.0490978\ttotal: 4.63s\tremaining: 23.4s\n",
      "165:\tlearn: 6.0419225\ttotal: 4.66s\tremaining: 23.4s\n",
      "166:\tlearn: 6.0412764\ttotal: 4.68s\tremaining: 23.3s\n",
      "167:\tlearn: 6.0381361\ttotal: 4.71s\tremaining: 23.3s\n",
      "168:\tlearn: 6.0378248\ttotal: 4.73s\tremaining: 23.2s\n",
      "169:\tlearn: 6.0371044\ttotal: 4.76s\tremaining: 23.2s\n",
      "170:\tlearn: 6.0331418\ttotal: 4.78s\tremaining: 23.2s\n",
      "171:\tlearn: 6.0281148\ttotal: 4.81s\tremaining: 23.2s\n",
      "172:\tlearn: 6.0273842\ttotal: 4.84s\tremaining: 23.2s\n",
      "173:\tlearn: 6.0244416\ttotal: 4.87s\tremaining: 23.1s\n",
      "174:\tlearn: 6.0230645\ttotal: 4.9s\tremaining: 23.1s\n",
      "175:\tlearn: 6.0216586\ttotal: 4.92s\tremaining: 23.1s\n",
      "176:\tlearn: 6.0192842\ttotal: 4.95s\tremaining: 23s\n",
      "177:\tlearn: 6.0149718\ttotal: 4.98s\tremaining: 23s\n",
      "178:\tlearn: 6.0145412\ttotal: 5s\tremaining: 23s\n",
      "179:\tlearn: 6.0130259\ttotal: 5.03s\tremaining: 22.9s\n",
      "180:\tlearn: 6.0057783\ttotal: 5.06s\tremaining: 22.9s\n",
      "181:\tlearn: 6.0030491\ttotal: 5.09s\tremaining: 22.9s\n",
      "182:\tlearn: 6.0012083\ttotal: 5.12s\tremaining: 22.9s\n",
      "183:\tlearn: 5.9987971\ttotal: 5.15s\tremaining: 22.8s\n",
      "184:\tlearn: 5.9973410\ttotal: 5.17s\tremaining: 22.8s\n",
      "185:\tlearn: 5.9938055\ttotal: 5.2s\tremaining: 22.8s\n",
      "186:\tlearn: 5.9927969\ttotal: 5.23s\tremaining: 22.7s\n",
      "187:\tlearn: 5.9899936\ttotal: 5.26s\tremaining: 22.7s\n",
      "188:\tlearn: 5.9898087\ttotal: 5.28s\tremaining: 22.7s\n",
      "189:\tlearn: 5.9881437\ttotal: 5.32s\tremaining: 22.7s\n",
      "190:\tlearn: 5.9848735\ttotal: 5.34s\tremaining: 22.6s\n",
      "191:\tlearn: 5.9830964\ttotal: 5.37s\tremaining: 22.6s\n",
      "192:\tlearn: 5.9827533\ttotal: 5.4s\tremaining: 22.6s\n",
      "193:\tlearn: 5.9823332\ttotal: 5.43s\tremaining: 22.6s\n",
      "194:\tlearn: 5.9821790\ttotal: 5.45s\tremaining: 22.5s\n",
      "195:\tlearn: 5.9817382\ttotal: 5.48s\tremaining: 22.5s\n",
      "196:\tlearn: 5.9806797\ttotal: 5.51s\tremaining: 22.5s\n",
      "197:\tlearn: 5.9801095\ttotal: 5.53s\tremaining: 22.4s\n",
      "198:\tlearn: 5.9775328\ttotal: 5.56s\tremaining: 22.4s\n",
      "199:\tlearn: 5.9762130\ttotal: 5.59s\tremaining: 22.4s\n",
      "200:\tlearn: 5.9742461\ttotal: 5.62s\tremaining: 22.3s\n",
      "201:\tlearn: 5.9740325\ttotal: 5.64s\tremaining: 22.3s\n",
      "202:\tlearn: 5.9710853\ttotal: 5.66s\tremaining: 22.2s\n",
      "203:\tlearn: 5.9703914\ttotal: 5.69s\tremaining: 22.2s\n",
      "204:\tlearn: 5.9702688\ttotal: 5.71s\tremaining: 22.2s\n",
      "205:\tlearn: 5.9688743\ttotal: 5.74s\tremaining: 22.1s\n",
      "206:\tlearn: 5.9677041\ttotal: 5.77s\tremaining: 22.1s\n",
      "207:\tlearn: 5.9670323\ttotal: 5.79s\tremaining: 22.1s\n",
      "208:\tlearn: 5.9669628\ttotal: 5.81s\tremaining: 22s\n",
      "209:\tlearn: 5.9665661\ttotal: 5.84s\tremaining: 22s\n",
      "210:\tlearn: 5.9664521\ttotal: 5.86s\tremaining: 21.9s\n",
      "211:\tlearn: 5.9663975\ttotal: 5.87s\tremaining: 21.8s\n",
      "212:\tlearn: 5.9641719\ttotal: 5.9s\tremaining: 21.8s\n",
      "213:\tlearn: 5.9633202\ttotal: 5.93s\tremaining: 21.8s\n",
      "214:\tlearn: 5.9630520\ttotal: 5.95s\tremaining: 21.7s\n",
      "215:\tlearn: 5.9587963\ttotal: 5.97s\tremaining: 21.7s\n",
      "216:\tlearn: 5.9565195\ttotal: 6s\tremaining: 21.6s\n",
      "217:\tlearn: 5.9545160\ttotal: 6.02s\tremaining: 21.6s\n",
      "218:\tlearn: 5.9540502\ttotal: 6.05s\tremaining: 21.6s\n",
      "219:\tlearn: 5.9531410\ttotal: 6.07s\tremaining: 21.5s\n",
      "220:\tlearn: 5.9530513\ttotal: 6.09s\tremaining: 21.5s\n",
      "221:\tlearn: 5.9521356\ttotal: 6.11s\tremaining: 21.4s\n",
      "222:\tlearn: 5.9475047\ttotal: 6.14s\tremaining: 21.4s\n",
      "223:\tlearn: 5.9473587\ttotal: 6.16s\tremaining: 21.4s\n",
      "224:\tlearn: 5.9469405\ttotal: 6.18s\tremaining: 21.3s\n",
      "225:\tlearn: 5.9422887\ttotal: 6.21s\tremaining: 21.3s\n",
      "226:\tlearn: 5.9421352\ttotal: 6.22s\tremaining: 21.2s\n",
      "227:\tlearn: 5.9412509\ttotal: 6.25s\tremaining: 21.2s\n",
      "228:\tlearn: 5.9388295\ttotal: 6.28s\tremaining: 21.1s\n",
      "229:\tlearn: 5.9388013\ttotal: 6.29s\tremaining: 21.1s\n",
      "230:\tlearn: 5.9369042\ttotal: 6.31s\tremaining: 21s\n",
      "231:\tlearn: 5.9355758\ttotal: 6.34s\tremaining: 21s\n",
      "232:\tlearn: 5.9336840\ttotal: 6.36s\tremaining: 20.9s\n",
      "233:\tlearn: 5.9329190\ttotal: 6.39s\tremaining: 20.9s\n",
      "234:\tlearn: 5.9320409\ttotal: 6.41s\tremaining: 20.9s\n",
      "235:\tlearn: 5.9312849\ttotal: 6.44s\tremaining: 20.8s\n",
      "236:\tlearn: 5.9283219\ttotal: 6.47s\tremaining: 20.8s\n",
      "237:\tlearn: 5.9273787\ttotal: 6.5s\tremaining: 20.8s\n",
      "238:\tlearn: 5.9268268\ttotal: 6.52s\tremaining: 20.8s\n",
      "239:\tlearn: 5.9231007\ttotal: 6.54s\tremaining: 20.7s\n",
      "240:\tlearn: 5.9220218\ttotal: 6.57s\tremaining: 20.7s\n",
      "241:\tlearn: 5.9203458\ttotal: 6.61s\tremaining: 20.7s\n",
      "242:\tlearn: 5.9172123\ttotal: 6.64s\tremaining: 20.7s\n",
      "243:\tlearn: 5.9169430\ttotal: 6.67s\tremaining: 20.7s\n",
      "244:\tlearn: 5.9168347\ttotal: 6.69s\tremaining: 20.6s\n",
      "245:\tlearn: 5.9143163\ttotal: 6.73s\tremaining: 20.6s\n",
      "246:\tlearn: 5.9137661\ttotal: 6.75s\tremaining: 20.6s\n",
      "247:\tlearn: 5.9136395\ttotal: 6.78s\tremaining: 20.5s\n",
      "248:\tlearn: 5.9116633\ttotal: 6.8s\tremaining: 20.5s\n",
      "249:\tlearn: 5.9097950\ttotal: 6.84s\tremaining: 20.5s\n",
      "250:\tlearn: 5.9095957\ttotal: 6.87s\tremaining: 20.5s\n",
      "251:\tlearn: 5.9058898\ttotal: 6.9s\tremaining: 20.5s\n",
      "252:\tlearn: 5.9044924\ttotal: 6.93s\tremaining: 20.5s\n",
      "253:\tlearn: 5.9024088\ttotal: 6.96s\tremaining: 20.4s\n",
      "254:\tlearn: 5.8999920\ttotal: 6.98s\tremaining: 20.4s\n",
      "255:\tlearn: 5.8999474\ttotal: 7s\tremaining: 20.4s\n",
      "256:\tlearn: 5.8979679\ttotal: 7.03s\tremaining: 20.3s\n",
      "257:\tlearn: 5.8977956\ttotal: 7.06s\tremaining: 20.3s\n",
      "258:\tlearn: 5.8974647\ttotal: 7.08s\tremaining: 20.3s\n",
      "259:\tlearn: 5.8967207\ttotal: 7.11s\tremaining: 20.2s\n",
      "260:\tlearn: 5.8941418\ttotal: 7.14s\tremaining: 20.2s\n",
      "261:\tlearn: 5.8928672\ttotal: 7.17s\tremaining: 20.2s\n",
      "262:\tlearn: 5.8918907\ttotal: 7.2s\tremaining: 20.2s\n",
      "263:\tlearn: 5.8915913\ttotal: 7.22s\tremaining: 20.1s\n",
      "264:\tlearn: 5.8915015\ttotal: 7.25s\tremaining: 20.1s\n",
      "265:\tlearn: 5.8914581\ttotal: 7.28s\tremaining: 20.1s\n",
      "266:\tlearn: 5.8906126\ttotal: 7.3s\tremaining: 20.1s\n",
      "267:\tlearn: 5.8905969\ttotal: 7.33s\tremaining: 20s\n",
      "268:\tlearn: 5.8905541\ttotal: 7.36s\tremaining: 20s\n",
      "269:\tlearn: 5.8878281\ttotal: 7.38s\tremaining: 20s\n",
      "270:\tlearn: 5.8878094\ttotal: 7.4s\tremaining: 19.9s\n",
      "271:\tlearn: 5.8870996\ttotal: 7.43s\tremaining: 19.9s\n",
      "272:\tlearn: 5.8863033\ttotal: 7.46s\tremaining: 19.9s\n",
      "273:\tlearn: 5.8861814\ttotal: 7.48s\tremaining: 19.8s\n",
      "274:\tlearn: 5.8856286\ttotal: 7.51s\tremaining: 19.8s\n",
      "275:\tlearn: 5.8850928\ttotal: 7.54s\tremaining: 19.8s\n",
      "276:\tlearn: 5.8833674\ttotal: 7.57s\tremaining: 19.7s\n",
      "277:\tlearn: 5.8832696\ttotal: 7.59s\tremaining: 19.7s\n",
      "278:\tlearn: 5.8821292\ttotal: 7.62s\tremaining: 19.7s\n",
      "279:\tlearn: 5.8819793\ttotal: 7.64s\tremaining: 19.6s\n",
      "280:\tlearn: 5.8811918\ttotal: 7.66s\tremaining: 19.6s\n",
      "281:\tlearn: 5.8802606\ttotal: 7.69s\tremaining: 19.6s\n",
      "282:\tlearn: 5.8795991\ttotal: 7.71s\tremaining: 19.5s\n",
      "283:\tlearn: 5.8784632\ttotal: 7.73s\tremaining: 19.5s\n",
      "284:\tlearn: 5.8764257\ttotal: 7.76s\tremaining: 19.5s\n",
      "285:\tlearn: 5.8763991\ttotal: 7.78s\tremaining: 19.4s\n",
      "286:\tlearn: 5.8763740\ttotal: 7.79s\tremaining: 19.4s\n",
      "287:\tlearn: 5.8762280\ttotal: 7.82s\tremaining: 19.3s\n",
      "288:\tlearn: 5.8748751\ttotal: 7.84s\tremaining: 19.3s\n",
      "289:\tlearn: 5.8748161\ttotal: 7.87s\tremaining: 19.3s\n",
      "290:\tlearn: 5.8740454\ttotal: 7.89s\tremaining: 19.2s\n",
      "291:\tlearn: 5.8728162\ttotal: 7.92s\tremaining: 19.2s\n",
      "292:\tlearn: 5.8703559\ttotal: 7.96s\tremaining: 19.2s\n",
      "293:\tlearn: 5.8702538\ttotal: 7.98s\tremaining: 19.2s\n",
      "294:\tlearn: 5.8672731\ttotal: 8.01s\tremaining: 19.1s\n",
      "295:\tlearn: 5.8666119\ttotal: 8.05s\tremaining: 19.2s\n",
      "296:\tlearn: 5.8665443\ttotal: 8.09s\tremaining: 19.1s\n",
      "297:\tlearn: 5.8665369\ttotal: 8.1s\tremaining: 19.1s\n",
      "298:\tlearn: 5.8659628\ttotal: 8.16s\tremaining: 19.1s\n",
      "299:\tlearn: 5.8653483\ttotal: 8.21s\tremaining: 19.2s\n",
      "300:\tlearn: 5.8622875\ttotal: 8.27s\tremaining: 19.2s\n",
      "301:\tlearn: 5.8621852\ttotal: 8.3s\tremaining: 19.2s\n",
      "302:\tlearn: 5.8606622\ttotal: 8.35s\tremaining: 19.2s\n",
      "303:\tlearn: 5.8593084\ttotal: 8.4s\tremaining: 19.2s\n",
      "304:\tlearn: 5.8592269\ttotal: 8.43s\tremaining: 19.2s\n",
      "305:\tlearn: 5.8590380\ttotal: 8.45s\tremaining: 19.2s\n",
      "306:\tlearn: 5.8584287\ttotal: 8.52s\tremaining: 19.2s\n",
      "307:\tlearn: 5.8583712\ttotal: 8.54s\tremaining: 19.2s\n",
      "308:\tlearn: 5.8583578\ttotal: 8.57s\tremaining: 19.2s\n",
      "309:\tlearn: 5.8574675\ttotal: 8.6s\tremaining: 19.1s\n",
      "310:\tlearn: 5.8546883\ttotal: 8.63s\tremaining: 19.1s\n",
      "311:\tlearn: 5.8540343\ttotal: 8.66s\tremaining: 19.1s\n",
      "312:\tlearn: 5.8535389\ttotal: 8.68s\tremaining: 19.1s\n",
      "313:\tlearn: 5.8533443\ttotal: 8.71s\tremaining: 19s\n",
      "314:\tlearn: 5.8515575\ttotal: 8.74s\tremaining: 19s\n",
      "315:\tlearn: 5.8515534\ttotal: 8.76s\tremaining: 19s\n",
      "316:\tlearn: 5.8511913\ttotal: 8.79s\tremaining: 18.9s\n",
      "317:\tlearn: 5.8501999\ttotal: 8.82s\tremaining: 18.9s\n",
      "318:\tlearn: 5.8471113\ttotal: 8.85s\tremaining: 18.9s\n",
      "319:\tlearn: 5.8466924\ttotal: 8.87s\tremaining: 18.9s\n",
      "320:\tlearn: 5.8433674\ttotal: 8.91s\tremaining: 18.8s\n",
      "321:\tlearn: 5.8425969\ttotal: 8.94s\tremaining: 18.8s\n",
      "322:\tlearn: 5.8388891\ttotal: 8.97s\tremaining: 18.8s\n",
      "323:\tlearn: 5.8388088\ttotal: 8.99s\tremaining: 18.8s\n",
      "324:\tlearn: 5.8366306\ttotal: 9.02s\tremaining: 18.7s\n",
      "325:\tlearn: 5.8327722\ttotal: 9.04s\tremaining: 18.7s\n",
      "326:\tlearn: 5.8320894\ttotal: 9.07s\tremaining: 18.7s\n",
      "327:\tlearn: 5.8320856\ttotal: 9.08s\tremaining: 18.6s\n"
     ]
    },
    {
     "name": "stdout",
     "output_type": "stream",
     "text": [
      "328:\tlearn: 5.8313680\ttotal: 9.12s\tremaining: 18.6s\n",
      "329:\tlearn: 5.8298378\ttotal: 9.14s\tremaining: 18.6s\n",
      "330:\tlearn: 5.8280853\ttotal: 9.18s\tremaining: 18.5s\n",
      "331:\tlearn: 5.8279402\ttotal: 9.2s\tremaining: 18.5s\n",
      "332:\tlearn: 5.8272732\ttotal: 9.23s\tremaining: 18.5s\n",
      "333:\tlearn: 5.8272663\ttotal: 9.26s\tremaining: 18.5s\n",
      "334:\tlearn: 5.8263253\ttotal: 9.29s\tremaining: 18.4s\n",
      "335:\tlearn: 5.8252231\ttotal: 9.33s\tremaining: 18.4s\n",
      "336:\tlearn: 5.8234928\ttotal: 9.35s\tremaining: 18.4s\n",
      "337:\tlearn: 5.8230272\ttotal: 9.41s\tremaining: 18.4s\n",
      "338:\tlearn: 5.8224595\ttotal: 9.45s\tremaining: 18.4s\n",
      "339:\tlearn: 5.8192225\ttotal: 9.49s\tremaining: 18.4s\n",
      "340:\tlearn: 5.8163941\ttotal: 9.54s\tremaining: 18.4s\n",
      "341:\tlearn: 5.8163724\ttotal: 9.57s\tremaining: 18.4s\n",
      "342:\tlearn: 5.8163684\ttotal: 9.59s\tremaining: 18.4s\n",
      "343:\tlearn: 5.8159582\ttotal: 9.62s\tremaining: 18.3s\n",
      "344:\tlearn: 5.8155208\ttotal: 9.65s\tremaining: 18.3s\n",
      "345:\tlearn: 5.8154827\ttotal: 9.67s\tremaining: 18.3s\n",
      "346:\tlearn: 5.8146148\ttotal: 9.7s\tremaining: 18.3s\n",
      "347:\tlearn: 5.8136281\ttotal: 9.73s\tremaining: 18.2s\n",
      "348:\tlearn: 5.8115008\ttotal: 9.76s\tremaining: 18.2s\n",
      "349:\tlearn: 5.8114569\ttotal: 9.78s\tremaining: 18.2s\n",
      "350:\tlearn: 5.8114459\ttotal: 9.8s\tremaining: 18.1s\n",
      "351:\tlearn: 5.8108456\ttotal: 9.82s\tremaining: 18.1s\n",
      "352:\tlearn: 5.8101920\ttotal: 9.86s\tremaining: 18.1s\n",
      "353:\tlearn: 5.8080205\ttotal: 9.89s\tremaining: 18s\n",
      "354:\tlearn: 5.8065948\ttotal: 9.91s\tremaining: 18s\n",
      "355:\tlearn: 5.8064940\ttotal: 9.95s\tremaining: 18s\n",
      "356:\tlearn: 5.8058065\ttotal: 9.97s\tremaining: 18s\n",
      "357:\tlearn: 5.8046660\ttotal: 10s\tremaining: 17.9s\n",
      "358:\tlearn: 5.8041199\ttotal: 10s\tremaining: 17.9s\n",
      "359:\tlearn: 5.8034216\ttotal: 10.1s\tremaining: 17.9s\n",
      "360:\tlearn: 5.8027205\ttotal: 10.1s\tremaining: 17.9s\n",
      "361:\tlearn: 5.8027092\ttotal: 10.1s\tremaining: 17.8s\n",
      "362:\tlearn: 5.8023895\ttotal: 10.1s\tremaining: 17.8s\n",
      "363:\tlearn: 5.8023854\ttotal: 10.1s\tremaining: 17.7s\n",
      "364:\tlearn: 5.8023781\ttotal: 10.2s\tremaining: 17.7s\n",
      "365:\tlearn: 5.8009614\ttotal: 10.2s\tremaining: 17.6s\n",
      "366:\tlearn: 5.8009491\ttotal: 10.2s\tremaining: 17.6s\n",
      "367:\tlearn: 5.7993216\ttotal: 10.2s\tremaining: 17.6s\n",
      "368:\tlearn: 5.7993184\ttotal: 10.3s\tremaining: 17.5s\n",
      "369:\tlearn: 5.7993155\ttotal: 10.3s\tremaining: 17.5s\n",
      "370:\tlearn: 5.7974202\ttotal: 10.3s\tremaining: 17.5s\n",
      "371:\tlearn: 5.7974072\ttotal: 10.3s\tremaining: 17.5s\n",
      "372:\tlearn: 5.7960022\ttotal: 10.4s\tremaining: 17.4s\n",
      "373:\tlearn: 5.7953947\ttotal: 10.4s\tremaining: 17.4s\n",
      "374:\tlearn: 5.7946173\ttotal: 10.4s\tremaining: 17.4s\n",
      "375:\tlearn: 5.7932167\ttotal: 10.5s\tremaining: 17.4s\n",
      "376:\tlearn: 5.7932160\ttotal: 10.5s\tremaining: 17.3s\n",
      "377:\tlearn: 5.7919806\ttotal: 10.5s\tremaining: 17.3s\n",
      "378:\tlearn: 5.7919611\ttotal: 10.6s\tremaining: 17.3s\n",
      "379:\tlearn: 5.7919524\ttotal: 10.6s\tremaining: 17.3s\n",
      "380:\tlearn: 5.7919145\ttotal: 10.6s\tremaining: 17.2s\n",
      "381:\tlearn: 5.7909071\ttotal: 10.6s\tremaining: 17.2s\n",
      "382:\tlearn: 5.7899787\ttotal: 10.7s\tremaining: 17.2s\n",
      "383:\tlearn: 5.7879339\ttotal: 10.7s\tremaining: 17.2s\n",
      "384:\tlearn: 5.7875966\ttotal: 10.7s\tremaining: 17.2s\n",
      "385:\tlearn: 5.7875960\ttotal: 10.8s\tremaining: 17.1s\n",
      "386:\tlearn: 5.7866916\ttotal: 10.8s\tremaining: 17.1s\n",
      "387:\tlearn: 5.7850543\ttotal: 10.8s\tremaining: 17.1s\n",
      "388:\tlearn: 5.7845313\ttotal: 10.8s\tremaining: 17s\n",
      "389:\tlearn: 5.7845128\ttotal: 10.9s\tremaining: 17s\n",
      "390:\tlearn: 5.7844974\ttotal: 10.9s\tremaining: 17s\n",
      "391:\tlearn: 5.7840504\ttotal: 10.9s\tremaining: 16.9s\n",
      "392:\tlearn: 5.7820381\ttotal: 10.9s\tremaining: 16.9s\n",
      "393:\tlearn: 5.7819956\ttotal: 11s\tremaining: 16.9s\n",
      "394:\tlearn: 5.7819728\ttotal: 11s\tremaining: 16.8s\n",
      "395:\tlearn: 5.7807795\ttotal: 11s\tremaining: 16.8s\n",
      "396:\tlearn: 5.7801728\ttotal: 11s\tremaining: 16.8s\n",
      "397:\tlearn: 5.7801720\ttotal: 11.1s\tremaining: 16.7s\n",
      "398:\tlearn: 5.7793359\ttotal: 11.1s\tremaining: 16.7s\n",
      "399:\tlearn: 5.7779215\ttotal: 11.1s\tremaining: 16.7s\n",
      "400:\tlearn: 5.7779015\ttotal: 11.1s\tremaining: 16.6s\n",
      "401:\tlearn: 5.7777577\ttotal: 11.2s\tremaining: 16.6s\n",
      "402:\tlearn: 5.7765907\ttotal: 11.2s\tremaining: 16.6s\n",
      "403:\tlearn: 5.7763764\ttotal: 11.2s\tremaining: 16.5s\n",
      "404:\tlearn: 5.7758152\ttotal: 11.2s\tremaining: 16.5s\n",
      "405:\tlearn: 5.7750495\ttotal: 11.3s\tremaining: 16.5s\n",
      "406:\tlearn: 5.7747827\ttotal: 11.3s\tremaining: 16.4s\n",
      "407:\tlearn: 5.7747802\ttotal: 11.3s\tremaining: 16.4s\n",
      "408:\tlearn: 5.7747437\ttotal: 11.3s\tremaining: 16.3s\n",
      "409:\tlearn: 5.7742153\ttotal: 11.3s\tremaining: 16.3s\n",
      "410:\tlearn: 5.7742056\ttotal: 11.4s\tremaining: 16.3s\n",
      "411:\tlearn: 5.7716149\ttotal: 11.4s\tremaining: 16.2s\n",
      "412:\tlearn: 5.7710707\ttotal: 11.4s\tremaining: 16.2s\n",
      "413:\tlearn: 5.7710493\ttotal: 11.5s\tremaining: 16.2s\n",
      "414:\tlearn: 5.7704291\ttotal: 11.5s\tremaining: 16.2s\n",
      "415:\tlearn: 5.7702682\ttotal: 11.5s\tremaining: 16.2s\n",
      "416:\tlearn: 5.7702606\ttotal: 11.5s\tremaining: 16.1s\n",
      "417:\tlearn: 5.7675601\ttotal: 11.6s\tremaining: 16.1s\n",
      "418:\tlearn: 5.7671105\ttotal: 11.6s\tremaining: 16.1s\n",
      "419:\tlearn: 5.7669647\ttotal: 11.6s\tremaining: 16.1s\n",
      "420:\tlearn: 5.7660209\ttotal: 11.7s\tremaining: 16s\n",
      "421:\tlearn: 5.7660206\ttotal: 11.7s\tremaining: 16s\n",
      "422:\tlearn: 5.7660076\ttotal: 11.7s\tremaining: 15.9s\n",
      "423:\tlearn: 5.7658711\ttotal: 11.7s\tremaining: 15.9s\n",
      "424:\tlearn: 5.7653089\ttotal: 11.7s\tremaining: 15.9s\n",
      "425:\tlearn: 5.7653067\ttotal: 11.7s\tremaining: 15.8s\n",
      "426:\tlearn: 5.7652948\ttotal: 11.8s\tremaining: 15.8s\n",
      "427:\tlearn: 5.7652931\ttotal: 11.8s\tremaining: 15.7s\n",
      "428:\tlearn: 5.7652423\ttotal: 11.8s\tremaining: 15.7s\n",
      "429:\tlearn: 5.7652056\ttotal: 11.8s\tremaining: 15.7s\n",
      "430:\tlearn: 5.7638605\ttotal: 11.8s\tremaining: 15.6s\n",
      "431:\tlearn: 5.7638409\ttotal: 11.9s\tremaining: 15.6s\n",
      "432:\tlearn: 5.7636325\ttotal: 11.9s\tremaining: 15.6s\n",
      "433:\tlearn: 5.7636319\ttotal: 11.9s\tremaining: 15.5s\n",
      "434:\tlearn: 5.7628482\ttotal: 11.9s\tremaining: 15.5s\n",
      "435:\tlearn: 5.7627948\ttotal: 11.9s\tremaining: 15.4s\n",
      "436:\tlearn: 5.7627565\ttotal: 12s\tremaining: 15.4s\n",
      "437:\tlearn: 5.7615458\ttotal: 12s\tremaining: 15.4s\n",
      "438:\tlearn: 5.7615306\ttotal: 12s\tremaining: 15.3s\n",
      "439:\tlearn: 5.7606962\ttotal: 12s\tremaining: 15.3s\n",
      "440:\tlearn: 5.7604342\ttotal: 12.1s\tremaining: 15.3s\n",
      "441:\tlearn: 5.7604336\ttotal: 12.1s\tremaining: 15.2s\n",
      "442:\tlearn: 5.7598243\ttotal: 12.1s\tremaining: 15.2s\n",
      "443:\tlearn: 5.7598182\ttotal: 12.1s\tremaining: 15.2s\n",
      "444:\tlearn: 5.7597703\ttotal: 12.1s\tremaining: 15.1s\n",
      "445:\tlearn: 5.7592503\ttotal: 12.2s\tremaining: 15.1s\n",
      "446:\tlearn: 5.7592502\ttotal: 12.2s\tremaining: 15.1s\n",
      "447:\tlearn: 5.7592447\ttotal: 12.2s\tremaining: 15s\n",
      "448:\tlearn: 5.7576844\ttotal: 12.2s\tremaining: 15s\n",
      "449:\tlearn: 5.7557841\ttotal: 12.2s\tremaining: 15s\n",
      "450:\tlearn: 5.7557147\ttotal: 12.3s\tremaining: 14.9s\n",
      "451:\tlearn: 5.7545797\ttotal: 12.3s\tremaining: 14.9s\n",
      "452:\tlearn: 5.7537256\ttotal: 12.3s\tremaining: 14.9s\n",
      "453:\tlearn: 5.7531327\ttotal: 12.3s\tremaining: 14.8s\n",
      "454:\tlearn: 5.7524509\ttotal: 12.4s\tremaining: 14.8s\n",
      "455:\tlearn: 5.7521611\ttotal: 12.4s\tremaining: 14.8s\n",
      "456:\tlearn: 5.7516644\ttotal: 12.4s\tremaining: 14.8s\n",
      "457:\tlearn: 5.7516624\ttotal: 12.4s\tremaining: 14.7s\n",
      "458:\tlearn: 5.7516623\ttotal: 12.5s\tremaining: 14.7s\n",
      "459:\tlearn: 5.7516422\ttotal: 12.5s\tremaining: 14.7s\n",
      "460:\tlearn: 5.7516421\ttotal: 12.5s\tremaining: 14.6s\n",
      "461:\tlearn: 5.7516261\ttotal: 12.5s\tremaining: 14.6s\n",
      "462:\tlearn: 5.7516205\ttotal: 12.6s\tremaining: 14.6s\n",
      "463:\tlearn: 5.7516187\ttotal: 12.6s\tremaining: 14.5s\n",
      "464:\tlearn: 5.7508814\ttotal: 12.6s\tremaining: 14.5s\n",
      "465:\tlearn: 5.7482016\ttotal: 12.6s\tremaining: 14.5s\n",
      "466:\tlearn: 5.7480752\ttotal: 12.7s\tremaining: 14.5s\n",
      "467:\tlearn: 5.7477626\ttotal: 12.7s\tremaining: 14.5s\n",
      "468:\tlearn: 5.7477608\ttotal: 12.7s\tremaining: 14.4s\n",
      "469:\tlearn: 5.7477590\ttotal: 12.8s\tremaining: 14.4s\n",
      "470:\tlearn: 5.7467988\ttotal: 12.8s\tremaining: 14.4s\n",
      "471:\tlearn: 5.7462910\ttotal: 12.9s\tremaining: 14.4s\n",
      "472:\tlearn: 5.7462897\ttotal: 12.9s\tremaining: 14.3s\n",
      "473:\tlearn: 5.7462756\ttotal: 12.9s\tremaining: 14.3s\n",
      "474:\tlearn: 5.7460596\ttotal: 12.9s\tremaining: 14.3s\n",
      "475:\tlearn: 5.7455288\ttotal: 12.9s\tremaining: 14.2s\n",
      "476:\tlearn: 5.7448588\ttotal: 13s\tremaining: 14.2s\n",
      "477:\tlearn: 5.7448251\ttotal: 13s\tremaining: 14.2s\n",
      "478:\tlearn: 5.7439250\ttotal: 13s\tremaining: 14.2s\n",
      "479:\tlearn: 5.7425046\ttotal: 13.1s\tremaining: 14.2s\n",
      "480:\tlearn: 5.7424710\ttotal: 13.1s\tremaining: 14.1s\n",
      "481:\tlearn: 5.7415753\ttotal: 13.1s\tremaining: 14.1s\n",
      "482:\tlearn: 5.7415721\ttotal: 13.1s\tremaining: 14.1s\n",
      "483:\tlearn: 5.7410212\ttotal: 13.2s\tremaining: 14s\n",
      "484:\tlearn: 5.7408830\ttotal: 13.2s\tremaining: 14s\n",
      "485:\tlearn: 5.7386612\ttotal: 13.2s\tremaining: 14s\n",
      "486:\tlearn: 5.7386611\ttotal: 13.2s\tremaining: 14s\n",
      "487:\tlearn: 5.7386442\ttotal: 13.3s\tremaining: 13.9s\n",
      "488:\tlearn: 5.7381325\ttotal: 13.3s\tremaining: 13.9s\n",
      "489:\tlearn: 5.7376816\ttotal: 13.3s\tremaining: 13.9s\n",
      "490:\tlearn: 5.7374808\ttotal: 13.4s\tremaining: 13.8s\n",
      "491:\tlearn: 5.7373017\ttotal: 13.4s\tremaining: 13.8s\n"
     ]
    },
    {
     "name": "stdout",
     "output_type": "stream",
     "text": [
      "492:\tlearn: 5.7366791\ttotal: 13.4s\tremaining: 13.8s\n",
      "493:\tlearn: 5.7365380\ttotal: 13.4s\tremaining: 13.8s\n",
      "494:\tlearn: 5.7355113\ttotal: 13.5s\tremaining: 13.7s\n",
      "495:\tlearn: 5.7354977\ttotal: 13.5s\tremaining: 13.7s\n",
      "496:\tlearn: 5.7351422\ttotal: 13.5s\tremaining: 13.7s\n",
      "497:\tlearn: 5.7347425\ttotal: 13.5s\tremaining: 13.7s\n",
      "498:\tlearn: 5.7347095\ttotal: 13.6s\tremaining: 13.6s\n",
      "499:\tlearn: 5.7334171\ttotal: 13.6s\tremaining: 13.6s\n",
      "500:\tlearn: 5.7332483\ttotal: 13.6s\tremaining: 13.6s\n",
      "501:\tlearn: 5.7316214\ttotal: 13.6s\tremaining: 13.5s\n",
      "502:\tlearn: 5.7315981\ttotal: 13.7s\tremaining: 13.5s\n",
      "503:\tlearn: 5.7301440\ttotal: 13.7s\tremaining: 13.5s\n",
      "504:\tlearn: 5.7299698\ttotal: 13.7s\tremaining: 13.5s\n",
      "505:\tlearn: 5.7295598\ttotal: 13.8s\tremaining: 13.4s\n",
      "506:\tlearn: 5.7283553\ttotal: 13.8s\tremaining: 13.4s\n",
      "507:\tlearn: 5.7283532\ttotal: 13.8s\tremaining: 13.4s\n",
      "508:\tlearn: 5.7274002\ttotal: 13.8s\tremaining: 13.3s\n",
      "509:\tlearn: 5.7272218\ttotal: 13.9s\tremaining: 13.3s\n",
      "510:\tlearn: 5.7272205\ttotal: 13.9s\tremaining: 13.3s\n",
      "511:\tlearn: 5.7272204\ttotal: 13.9s\tremaining: 13.3s\n",
      "512:\tlearn: 5.7272183\ttotal: 13.9s\tremaining: 13.2s\n",
      "513:\tlearn: 5.7272164\ttotal: 13.9s\tremaining: 13.2s\n",
      "514:\tlearn: 5.7256650\ttotal: 14s\tremaining: 13.2s\n",
      "515:\tlearn: 5.7249570\ttotal: 14s\tremaining: 13.1s\n",
      "516:\tlearn: 5.7249376\ttotal: 14s\tremaining: 13.1s\n",
      "517:\tlearn: 5.7240766\ttotal: 14.1s\tremaining: 13.1s\n",
      "518:\tlearn: 5.7240730\ttotal: 14.1s\tremaining: 13.1s\n",
      "519:\tlearn: 5.7240586\ttotal: 14.1s\tremaining: 13s\n",
      "520:\tlearn: 5.7227456\ttotal: 14.1s\tremaining: 13s\n",
      "521:\tlearn: 5.7225893\ttotal: 14.2s\tremaining: 13s\n",
      "522:\tlearn: 5.7225775\ttotal: 14.2s\tremaining: 12.9s\n",
      "523:\tlearn: 5.7220207\ttotal: 14.2s\tremaining: 12.9s\n",
      "524:\tlearn: 5.7214152\ttotal: 14.2s\tremaining: 12.9s\n",
      "525:\tlearn: 5.7214063\ttotal: 14.3s\tremaining: 12.8s\n",
      "526:\tlearn: 5.7213963\ttotal: 14.3s\tremaining: 12.8s\n",
      "527:\tlearn: 5.7209399\ttotal: 14.3s\tremaining: 12.8s\n",
      "528:\tlearn: 5.7209383\ttotal: 14.3s\tremaining: 12.7s\n",
      "529:\tlearn: 5.7209229\ttotal: 14.3s\tremaining: 12.7s\n",
      "530:\tlearn: 5.7207294\ttotal: 14.4s\tremaining: 12.7s\n",
      "531:\tlearn: 5.7207283\ttotal: 14.4s\tremaining: 12.7s\n",
      "532:\tlearn: 5.7206561\ttotal: 14.4s\tremaining: 12.6s\n",
      "533:\tlearn: 5.7206551\ttotal: 14.4s\tremaining: 12.6s\n",
      "534:\tlearn: 5.7197480\ttotal: 14.4s\tremaining: 12.6s\n",
      "535:\tlearn: 5.7191905\ttotal: 14.5s\tremaining: 12.5s\n",
      "536:\tlearn: 5.7191882\ttotal: 14.5s\tremaining: 12.5s\n",
      "537:\tlearn: 5.7186170\ttotal: 14.5s\tremaining: 12.5s\n",
      "538:\tlearn: 5.7174057\ttotal: 14.5s\tremaining: 12.4s\n",
      "539:\tlearn: 5.7170784\ttotal: 14.6s\tremaining: 12.4s\n",
      "540:\tlearn: 5.7168668\ttotal: 14.6s\tremaining: 12.4s\n",
      "541:\tlearn: 5.7166033\ttotal: 14.6s\tremaining: 12.3s\n",
      "542:\tlearn: 5.7160934\ttotal: 14.6s\tremaining: 12.3s\n",
      "543:\tlearn: 5.7154909\ttotal: 14.7s\tremaining: 12.3s\n",
      "544:\tlearn: 5.7154889\ttotal: 14.7s\tremaining: 12.3s\n",
      "545:\tlearn: 5.7154880\ttotal: 14.7s\tremaining: 12.2s\n",
      "546:\tlearn: 5.7142201\ttotal: 14.7s\tremaining: 12.2s\n",
      "547:\tlearn: 5.7142173\ttotal: 14.7s\tremaining: 12.2s\n",
      "548:\tlearn: 5.7142112\ttotal: 14.7s\tremaining: 12.1s\n",
      "549:\tlearn: 5.7135252\ttotal: 14.8s\tremaining: 12.1s\n",
      "550:\tlearn: 5.7135174\ttotal: 14.8s\tremaining: 12s\n",
      "551:\tlearn: 5.7130240\ttotal: 14.8s\tremaining: 12s\n",
      "552:\tlearn: 5.7130213\ttotal: 14.8s\tremaining: 12s\n",
      "553:\tlearn: 5.7130195\ttotal: 14.8s\tremaining: 11.9s\n",
      "554:\tlearn: 5.7130034\ttotal: 14.9s\tremaining: 11.9s\n",
      "555:\tlearn: 5.7129763\ttotal: 14.9s\tremaining: 11.9s\n",
      "556:\tlearn: 5.7129668\ttotal: 14.9s\tremaining: 11.9s\n",
      "557:\tlearn: 5.7127387\ttotal: 14.9s\tremaining: 11.8s\n",
      "558:\tlearn: 5.7123917\ttotal: 15s\tremaining: 11.8s\n",
      "559:\tlearn: 5.7120885\ttotal: 15s\tremaining: 11.8s\n",
      "560:\tlearn: 5.7120861\ttotal: 15s\tremaining: 11.7s\n",
      "561:\tlearn: 5.7120788\ttotal: 15s\tremaining: 11.7s\n",
      "562:\tlearn: 5.7107434\ttotal: 15.1s\tremaining: 11.7s\n",
      "563:\tlearn: 5.7105714\ttotal: 15.1s\tremaining: 11.7s\n",
      "564:\tlearn: 5.7101135\ttotal: 15.1s\tremaining: 11.6s\n",
      "565:\tlearn: 5.7093404\ttotal: 15.1s\tremaining: 11.6s\n",
      "566:\tlearn: 5.7083414\ttotal: 15.2s\tremaining: 11.6s\n",
      "567:\tlearn: 5.7083197\ttotal: 15.2s\tremaining: 11.5s\n",
      "568:\tlearn: 5.7083168\ttotal: 15.2s\tremaining: 11.5s\n",
      "569:\tlearn: 5.7071830\ttotal: 15.2s\tremaining: 11.5s\n",
      "570:\tlearn: 5.7071563\ttotal: 15.3s\tremaining: 11.5s\n",
      "571:\tlearn: 5.7071461\ttotal: 15.3s\tremaining: 11.4s\n",
      "572:\tlearn: 5.7071460\ttotal: 15.3s\tremaining: 11.4s\n",
      "573:\tlearn: 5.7067642\ttotal: 15.3s\tremaining: 11.4s\n",
      "574:\tlearn: 5.7055665\ttotal: 15.4s\tremaining: 11.4s\n",
      "575:\tlearn: 5.7051533\ttotal: 15.4s\tremaining: 11.3s\n",
      "576:\tlearn: 5.7051345\ttotal: 15.4s\tremaining: 11.3s\n",
      "577:\tlearn: 5.7050394\ttotal: 15.4s\tremaining: 11.3s\n",
      "578:\tlearn: 5.7049737\ttotal: 15.5s\tremaining: 11.3s\n",
      "579:\tlearn: 5.7046681\ttotal: 15.5s\tremaining: 11.2s\n",
      "580:\tlearn: 5.7046664\ttotal: 15.5s\tremaining: 11.2s\n",
      "581:\tlearn: 5.7046470\ttotal: 15.6s\tremaining: 11.2s\n",
      "582:\tlearn: 5.7045718\ttotal: 15.6s\tremaining: 11.1s\n",
      "583:\tlearn: 5.7045651\ttotal: 15.6s\tremaining: 11.1s\n",
      "584:\tlearn: 5.7045635\ttotal: 15.6s\tremaining: 11.1s\n",
      "585:\tlearn: 5.7045316\ttotal: 15.6s\tremaining: 11.1s\n",
      "586:\tlearn: 5.7045284\ttotal: 15.7s\tremaining: 11s\n",
      "587:\tlearn: 5.7041804\ttotal: 15.7s\tremaining: 11s\n",
      "588:\tlearn: 5.7041049\ttotal: 15.7s\tremaining: 11s\n",
      "589:\tlearn: 5.7038976\ttotal: 15.8s\tremaining: 10.9s\n",
      "590:\tlearn: 5.7038747\ttotal: 15.8s\tremaining: 10.9s\n",
      "591:\tlearn: 5.7035643\ttotal: 15.8s\tremaining: 10.9s\n",
      "592:\tlearn: 5.7035578\ttotal: 15.8s\tremaining: 10.9s\n",
      "593:\tlearn: 5.7035555\ttotal: 15.8s\tremaining: 10.8s\n",
      "594:\tlearn: 5.7035534\ttotal: 15.9s\tremaining: 10.8s\n",
      "595:\tlearn: 5.7035512\ttotal: 15.9s\tremaining: 10.8s\n",
      "596:\tlearn: 5.7035269\ttotal: 15.9s\tremaining: 10.7s\n",
      "597:\tlearn: 5.7029067\ttotal: 15.9s\tremaining: 10.7s\n",
      "598:\tlearn: 5.7023463\ttotal: 16s\tremaining: 10.7s\n",
      "599:\tlearn: 5.7019893\ttotal: 16s\tremaining: 10.7s\n",
      "600:\tlearn: 5.7011957\ttotal: 16s\tremaining: 10.6s\n",
      "601:\tlearn: 5.7009129\ttotal: 16.1s\tremaining: 10.6s\n",
      "602:\tlearn: 5.7009108\ttotal: 16.1s\tremaining: 10.6s\n",
      "603:\tlearn: 5.7008842\ttotal: 16.1s\tremaining: 10.6s\n",
      "604:\tlearn: 5.7000222\ttotal: 16.1s\tremaining: 10.5s\n",
      "605:\tlearn: 5.7000215\ttotal: 16.1s\tremaining: 10.5s\n",
      "606:\tlearn: 5.7000062\ttotal: 16.2s\tremaining: 10.5s\n",
      "607:\tlearn: 5.6994937\ttotal: 16.2s\tremaining: 10.4s\n",
      "608:\tlearn: 5.6988539\ttotal: 16.2s\tremaining: 10.4s\n",
      "609:\tlearn: 5.6986247\ttotal: 16.3s\tremaining: 10.4s\n",
      "610:\tlearn: 5.6977796\ttotal: 16.3s\tremaining: 10.4s\n",
      "611:\tlearn: 5.6972093\ttotal: 16.3s\tremaining: 10.3s\n",
      "612:\tlearn: 5.6967861\ttotal: 16.3s\tremaining: 10.3s\n",
      "613:\tlearn: 5.6966552\ttotal: 16.4s\tremaining: 10.3s\n",
      "614:\tlearn: 5.6960075\ttotal: 16.4s\tremaining: 10.3s\n",
      "615:\tlearn: 5.6952553\ttotal: 16.4s\tremaining: 10.2s\n",
      "616:\tlearn: 5.6952488\ttotal: 16.5s\tremaining: 10.2s\n",
      "617:\tlearn: 5.6952472\ttotal: 16.5s\tremaining: 10.2s\n",
      "618:\tlearn: 5.6951619\ttotal: 16.5s\tremaining: 10.2s\n",
      "619:\tlearn: 5.6948213\ttotal: 16.5s\tremaining: 10.1s\n",
      "620:\tlearn: 5.6948187\ttotal: 16.6s\tremaining: 10.1s\n",
      "621:\tlearn: 5.6946572\ttotal: 16.6s\tremaining: 10.1s\n",
      "622:\tlearn: 5.6932771\ttotal: 16.6s\tremaining: 10.1s\n",
      "623:\tlearn: 5.6932755\ttotal: 16.6s\tremaining: 10s\n",
      "624:\tlearn: 5.6932357\ttotal: 16.7s\tremaining: 10s\n",
      "625:\tlearn: 5.6932351\ttotal: 16.7s\tremaining: 9.97s\n",
      "626:\tlearn: 5.6932299\ttotal: 16.7s\tremaining: 9.94s\n",
      "627:\tlearn: 5.6932287\ttotal: 16.7s\tremaining: 9.9s\n",
      "628:\tlearn: 5.6927047\ttotal: 16.7s\tremaining: 9.88s\n",
      "629:\tlearn: 5.6915553\ttotal: 16.8s\tremaining: 9.85s\n",
      "630:\tlearn: 5.6911956\ttotal: 16.8s\tremaining: 9.83s\n",
      "631:\tlearn: 5.6903332\ttotal: 16.8s\tremaining: 9.8s\n",
      "632:\tlearn: 5.6901622\ttotal: 16.9s\tremaining: 9.78s\n",
      "633:\tlearn: 5.6901573\ttotal: 16.9s\tremaining: 9.75s\n",
      "634:\tlearn: 5.6896484\ttotal: 16.9s\tremaining: 9.72s\n",
      "635:\tlearn: 5.6896355\ttotal: 16.9s\tremaining: 9.69s\n",
      "636:\tlearn: 5.6891720\ttotal: 16.9s\tremaining: 9.66s\n",
      "637:\tlearn: 5.6890369\ttotal: 17s\tremaining: 9.63s\n",
      "638:\tlearn: 5.6890359\ttotal: 17s\tremaining: 9.6s\n",
      "639:\tlearn: 5.6890318\ttotal: 17s\tremaining: 9.57s\n",
      "640:\tlearn: 5.6889822\ttotal: 17s\tremaining: 9.54s\n",
      "641:\tlearn: 5.6889558\ttotal: 17.1s\tremaining: 9.51s\n",
      "642:\tlearn: 5.6889323\ttotal: 17.1s\tremaining: 9.48s\n",
      "643:\tlearn: 5.6888428\ttotal: 17.1s\tremaining: 9.45s\n",
      "644:\tlearn: 5.6887871\ttotal: 17.1s\tremaining: 9.42s\n",
      "645:\tlearn: 5.6882830\ttotal: 17.1s\tremaining: 9.39s\n",
      "646:\tlearn: 5.6882820\ttotal: 17.2s\tremaining: 9.36s\n",
      "647:\tlearn: 5.6882784\ttotal: 17.2s\tremaining: 9.33s\n",
      "648:\tlearn: 5.6882679\ttotal: 17.2s\tremaining: 9.3s\n",
      "649:\tlearn: 5.6882634\ttotal: 17.2s\tremaining: 9.27s\n",
      "650:\tlearn: 5.6879809\ttotal: 17.2s\tremaining: 9.24s\n",
      "651:\tlearn: 5.6879479\ttotal: 17.3s\tremaining: 9.21s\n",
      "652:\tlearn: 5.6871548\ttotal: 17.3s\tremaining: 9.18s\n",
      "653:\tlearn: 5.6864477\ttotal: 17.3s\tremaining: 9.15s\n",
      "654:\tlearn: 5.6864466\ttotal: 17.3s\tremaining: 9.12s\n",
      "655:\tlearn: 5.6864451\ttotal: 17.3s\tremaining: 9.09s\n",
      "656:\tlearn: 5.6863705\ttotal: 17.4s\tremaining: 9.06s\n"
     ]
    },
    {
     "name": "stdout",
     "output_type": "stream",
     "text": [
      "657:\tlearn: 5.6863698\ttotal: 17.4s\tremaining: 9.03s\n",
      "658:\tlearn: 5.6863259\ttotal: 17.4s\tremaining: 9s\n",
      "659:\tlearn: 5.6852964\ttotal: 17.4s\tremaining: 8.97s\n",
      "660:\tlearn: 5.6852935\ttotal: 17.4s\tremaining: 8.94s\n",
      "661:\tlearn: 5.6852924\ttotal: 17.4s\tremaining: 8.9s\n",
      "662:\tlearn: 5.6844712\ttotal: 17.5s\tremaining: 8.88s\n",
      "663:\tlearn: 5.6844329\ttotal: 17.5s\tremaining: 8.85s\n",
      "664:\tlearn: 5.6842535\ttotal: 17.5s\tremaining: 8.82s\n",
      "665:\tlearn: 5.6841413\ttotal: 17.5s\tremaining: 8.8s\n",
      "666:\tlearn: 5.6841215\ttotal: 17.6s\tremaining: 8.77s\n",
      "667:\tlearn: 5.6839672\ttotal: 17.6s\tremaining: 8.74s\n",
      "668:\tlearn: 5.6828631\ttotal: 17.6s\tremaining: 8.72s\n",
      "669:\tlearn: 5.6828492\ttotal: 17.6s\tremaining: 8.69s\n",
      "670:\tlearn: 5.6828134\ttotal: 17.7s\tremaining: 8.67s\n",
      "671:\tlearn: 5.6823675\ttotal: 17.7s\tremaining: 8.64s\n",
      "672:\tlearn: 5.6815024\ttotal: 17.7s\tremaining: 8.62s\n",
      "673:\tlearn: 5.6814998\ttotal: 17.8s\tremaining: 8.59s\n",
      "674:\tlearn: 5.6814617\ttotal: 17.8s\tremaining: 8.57s\n",
      "675:\tlearn: 5.6814568\ttotal: 17.8s\tremaining: 8.54s\n",
      "676:\tlearn: 5.6814382\ttotal: 17.9s\tremaining: 8.52s\n",
      "677:\tlearn: 5.6810753\ttotal: 17.9s\tremaining: 8.49s\n",
      "678:\tlearn: 5.6803776\ttotal: 17.9s\tremaining: 8.47s\n",
      "679:\tlearn: 5.6796391\ttotal: 18s\tremaining: 8.45s\n",
      "680:\tlearn: 5.6796312\ttotal: 18s\tremaining: 8.42s\n",
      "681:\tlearn: 5.6795627\ttotal: 18s\tremaining: 8.4s\n",
      "682:\tlearn: 5.6795606\ttotal: 18s\tremaining: 8.37s\n",
      "683:\tlearn: 5.6795587\ttotal: 18.1s\tremaining: 8.34s\n",
      "684:\tlearn: 5.6795474\ttotal: 18.1s\tremaining: 8.31s\n",
      "685:\tlearn: 5.6795378\ttotal: 18.1s\tremaining: 8.28s\n",
      "686:\tlearn: 5.6788500\ttotal: 18.1s\tremaining: 8.26s\n",
      "687:\tlearn: 5.6788195\ttotal: 18.2s\tremaining: 8.23s\n",
      "688:\tlearn: 5.6788169\ttotal: 18.2s\tremaining: 8.21s\n",
      "689:\tlearn: 5.6787991\ttotal: 18.2s\tremaining: 8.18s\n",
      "690:\tlearn: 5.6787885\ttotal: 18.2s\tremaining: 8.15s\n",
      "691:\tlearn: 5.6787800\ttotal: 18.3s\tremaining: 8.13s\n",
      "692:\tlearn: 5.6783855\ttotal: 18.3s\tremaining: 8.1s\n",
      "693:\tlearn: 5.6782807\ttotal: 18.3s\tremaining: 8.08s\n",
      "694:\tlearn: 5.6771628\ttotal: 18.3s\tremaining: 8.05s\n",
      "695:\tlearn: 5.6771496\ttotal: 18.4s\tremaining: 8.02s\n",
      "696:\tlearn: 5.6771445\ttotal: 18.4s\tremaining: 7.99s\n",
      "697:\tlearn: 5.6771220\ttotal: 18.4s\tremaining: 7.96s\n",
      "698:\tlearn: 5.6771094\ttotal: 18.4s\tremaining: 7.93s\n",
      "699:\tlearn: 5.6771045\ttotal: 18.4s\tremaining: 7.91s\n",
      "700:\tlearn: 5.6771016\ttotal: 18.5s\tremaining: 7.87s\n",
      "701:\tlearn: 5.6767694\ttotal: 18.5s\tremaining: 7.84s\n",
      "702:\tlearn: 5.6764418\ttotal: 18.5s\tremaining: 7.82s\n",
      "703:\tlearn: 5.6756468\ttotal: 18.5s\tremaining: 7.79s\n",
      "704:\tlearn: 5.6756434\ttotal: 18.6s\tremaining: 7.76s\n",
      "705:\tlearn: 5.6756423\ttotal: 18.6s\tremaining: 7.73s\n",
      "706:\tlearn: 5.6756127\ttotal: 18.6s\tremaining: 7.71s\n",
      "707:\tlearn: 5.6756025\ttotal: 18.6s\tremaining: 7.68s\n",
      "708:\tlearn: 5.6746901\ttotal: 18.6s\tremaining: 7.65s\n",
      "709:\tlearn: 5.6736381\ttotal: 18.7s\tremaining: 7.62s\n",
      "710:\tlearn: 5.6734777\ttotal: 18.7s\tremaining: 7.6s\n",
      "711:\tlearn: 5.6729705\ttotal: 18.7s\tremaining: 7.57s\n",
      "712:\tlearn: 5.6716954\ttotal: 18.7s\tremaining: 7.54s\n",
      "713:\tlearn: 5.6709508\ttotal: 18.8s\tremaining: 7.52s\n",
      "714:\tlearn: 5.6709447\ttotal: 18.8s\tremaining: 7.49s\n",
      "715:\tlearn: 5.6707390\ttotal: 18.8s\tremaining: 7.46s\n",
      "716:\tlearn: 5.6706330\ttotal: 18.8s\tremaining: 7.43s\n",
      "717:\tlearn: 5.6705890\ttotal: 18.9s\tremaining: 7.41s\n",
      "718:\tlearn: 5.6705890\ttotal: 18.9s\tremaining: 7.38s\n",
      "719:\tlearn: 5.6703146\ttotal: 18.9s\tremaining: 7.35s\n",
      "720:\tlearn: 5.6703101\ttotal: 18.9s\tremaining: 7.33s\n",
      "721:\tlearn: 5.6701572\ttotal: 19s\tremaining: 7.3s\n",
      "722:\tlearn: 5.6701563\ttotal: 19s\tremaining: 7.27s\n",
      "723:\tlearn: 5.6698807\ttotal: 19s\tremaining: 7.24s\n",
      "724:\tlearn: 5.6698792\ttotal: 19s\tremaining: 7.21s\n",
      "725:\tlearn: 5.6697632\ttotal: 19s\tremaining: 7.18s\n",
      "726:\tlearn: 5.6693071\ttotal: 19.1s\tremaining: 7.16s\n",
      "727:\tlearn: 5.6693047\ttotal: 19.1s\tremaining: 7.13s\n",
      "728:\tlearn: 5.6689278\ttotal: 19.1s\tremaining: 7.1s\n",
      "729:\tlearn: 5.6689236\ttotal: 19.1s\tremaining: 7.07s\n",
      "730:\tlearn: 5.6688456\ttotal: 19.1s\tremaining: 7.05s\n",
      "731:\tlearn: 5.6688124\ttotal: 19.2s\tremaining: 7.02s\n",
      "732:\tlearn: 5.6688100\ttotal: 19.2s\tremaining: 6.99s\n",
      "733:\tlearn: 5.6687908\ttotal: 19.2s\tremaining: 6.96s\n",
      "734:\tlearn: 5.6684878\ttotal: 19.2s\tremaining: 6.94s\n",
      "735:\tlearn: 5.6680804\ttotal: 19.3s\tremaining: 6.91s\n",
      "736:\tlearn: 5.6680779\ttotal: 19.3s\tremaining: 6.88s\n",
      "737:\tlearn: 5.6680736\ttotal: 19.3s\tremaining: 6.85s\n",
      "738:\tlearn: 5.6679491\ttotal: 19.3s\tremaining: 6.82s\n",
      "739:\tlearn: 5.6679185\ttotal: 19.3s\tremaining: 6.8s\n",
      "740:\tlearn: 5.6677138\ttotal: 19.4s\tremaining: 6.77s\n",
      "741:\tlearn: 5.6677036\ttotal: 19.4s\tremaining: 6.74s\n",
      "742:\tlearn: 5.6676854\ttotal: 19.4s\tremaining: 6.72s\n",
      "743:\tlearn: 5.6675151\ttotal: 19.4s\tremaining: 6.69s\n",
      "744:\tlearn: 5.6675107\ttotal: 19.5s\tremaining: 6.66s\n",
      "745:\tlearn: 5.6675089\ttotal: 19.5s\tremaining: 6.63s\n",
      "746:\tlearn: 5.6674855\ttotal: 19.5s\tremaining: 6.61s\n",
      "747:\tlearn: 5.6674825\ttotal: 19.5s\tremaining: 6.58s\n",
      "748:\tlearn: 5.6674811\ttotal: 19.6s\tremaining: 6.55s\n",
      "749:\tlearn: 5.6674798\ttotal: 19.6s\tremaining: 6.53s\n",
      "750:\tlearn: 5.6674755\ttotal: 19.6s\tremaining: 6.5s\n",
      "751:\tlearn: 5.6674629\ttotal: 19.6s\tremaining: 6.47s\n",
      "752:\tlearn: 5.6672222\ttotal: 19.7s\tremaining: 6.45s\n",
      "753:\tlearn: 5.6669298\ttotal: 19.7s\tremaining: 6.42s\n",
      "754:\tlearn: 5.6659443\ttotal: 19.7s\tremaining: 6.39s\n",
      "755:\tlearn: 5.6659239\ttotal: 19.7s\tremaining: 6.37s\n",
      "756:\tlearn: 5.6659221\ttotal: 19.7s\tremaining: 6.34s\n",
      "757:\tlearn: 5.6659209\ttotal: 19.8s\tremaining: 6.31s\n",
      "758:\tlearn: 5.6658892\ttotal: 19.8s\tremaining: 6.29s\n",
      "759:\tlearn: 5.6658817\ttotal: 19.8s\tremaining: 6.26s\n",
      "760:\tlearn: 5.6658782\ttotal: 19.8s\tremaining: 6.23s\n",
      "761:\tlearn: 5.6658743\ttotal: 19.9s\tremaining: 6.21s\n",
      "762:\tlearn: 5.6658732\ttotal: 19.9s\tremaining: 6.18s\n",
      "763:\tlearn: 5.6658592\ttotal: 19.9s\tremaining: 6.15s\n",
      "764:\tlearn: 5.6652146\ttotal: 20s\tremaining: 6.13s\n",
      "765:\tlearn: 5.6650471\ttotal: 20s\tremaining: 6.11s\n",
      "766:\tlearn: 5.6650468\ttotal: 20s\tremaining: 6.08s\n",
      "767:\tlearn: 5.6650455\ttotal: 20s\tremaining: 6.05s\n",
      "768:\tlearn: 5.6650065\ttotal: 20.1s\tremaining: 6.03s\n",
      "769:\tlearn: 5.6649936\ttotal: 20.1s\tremaining: 6s\n",
      "770:\tlearn: 5.6647781\ttotal: 20.1s\tremaining: 5.97s\n",
      "771:\tlearn: 5.6647330\ttotal: 20.1s\tremaining: 5.95s\n",
      "772:\tlearn: 5.6647313\ttotal: 20.2s\tremaining: 5.92s\n",
      "773:\tlearn: 5.6645997\ttotal: 20.2s\tremaining: 5.9s\n",
      "774:\tlearn: 5.6645639\ttotal: 20.2s\tremaining: 5.87s\n",
      "775:\tlearn: 5.6645123\ttotal: 20.3s\tremaining: 5.85s\n",
      "776:\tlearn: 5.6640284\ttotal: 20.3s\tremaining: 5.82s\n",
      "777:\tlearn: 5.6635940\ttotal: 20.3s\tremaining: 5.8s\n",
      "778:\tlearn: 5.6634754\ttotal: 20.4s\tremaining: 5.77s\n",
      "779:\tlearn: 5.6633761\ttotal: 20.4s\tremaining: 5.75s\n",
      "780:\tlearn: 5.6633721\ttotal: 20.4s\tremaining: 5.72s\n",
      "781:\tlearn: 5.6633680\ttotal: 20.4s\tremaining: 5.69s\n",
      "782:\tlearn: 5.6633292\ttotal: 20.4s\tremaining: 5.67s\n",
      "783:\tlearn: 5.6633243\ttotal: 20.5s\tremaining: 5.64s\n",
      "784:\tlearn: 5.6633183\ttotal: 20.5s\tremaining: 5.61s\n",
      "785:\tlearn: 5.6633169\ttotal: 20.5s\tremaining: 5.58s\n",
      "786:\tlearn: 5.6633151\ttotal: 20.5s\tremaining: 5.56s\n",
      "787:\tlearn: 5.6631826\ttotal: 20.6s\tremaining: 5.53s\n",
      "788:\tlearn: 5.6631811\ttotal: 20.6s\tremaining: 5.5s\n",
      "789:\tlearn: 5.6631737\ttotal: 20.6s\tremaining: 5.48s\n",
      "790:\tlearn: 5.6626882\ttotal: 20.6s\tremaining: 5.45s\n",
      "791:\tlearn: 5.6625700\ttotal: 20.7s\tremaining: 5.43s\n",
      "792:\tlearn: 5.6625605\ttotal: 20.7s\tremaining: 5.4s\n",
      "793:\tlearn: 5.6620529\ttotal: 20.7s\tremaining: 5.38s\n",
      "794:\tlearn: 5.6620367\ttotal: 20.8s\tremaining: 5.35s\n",
      "795:\tlearn: 5.6620336\ttotal: 20.8s\tremaining: 5.33s\n",
      "796:\tlearn: 5.6620108\ttotal: 20.8s\tremaining: 5.3s\n",
      "797:\tlearn: 5.6617381\ttotal: 20.9s\tremaining: 5.28s\n",
      "798:\tlearn: 5.6617371\ttotal: 20.9s\tremaining: 5.25s\n",
      "799:\tlearn: 5.6615513\ttotal: 20.9s\tremaining: 5.23s\n",
      "800:\tlearn: 5.6612986\ttotal: 20.9s\tremaining: 5.2s\n",
      "801:\tlearn: 5.6607828\ttotal: 21s\tremaining: 5.18s\n",
      "802:\tlearn: 5.6607805\ttotal: 21s\tremaining: 5.15s\n",
      "803:\tlearn: 5.6607792\ttotal: 21s\tremaining: 5.12s\n",
      "804:\tlearn: 5.6607173\ttotal: 21s\tremaining: 5.1s\n",
      "805:\tlearn: 5.6607169\ttotal: 21.1s\tremaining: 5.07s\n",
      "806:\tlearn: 5.6607103\ttotal: 21.1s\tremaining: 5.05s\n",
      "807:\tlearn: 5.6607093\ttotal: 21.1s\tremaining: 5.02s\n",
      "808:\tlearn: 5.6607083\ttotal: 21.1s\tremaining: 4.99s\n",
      "809:\tlearn: 5.6607072\ttotal: 21.2s\tremaining: 4.97s\n",
      "810:\tlearn: 5.6607009\ttotal: 21.2s\tremaining: 4.94s\n",
      "811:\tlearn: 5.6606699\ttotal: 21.2s\tremaining: 4.92s\n",
      "812:\tlearn: 5.6606138\ttotal: 21.3s\tremaining: 4.89s\n",
      "813:\tlearn: 5.6604941\ttotal: 21.3s\tremaining: 4.87s\n",
      "814:\tlearn: 5.6599069\ttotal: 21.3s\tremaining: 4.84s\n",
      "815:\tlearn: 5.6598987\ttotal: 21.4s\tremaining: 4.82s\n"
     ]
    },
    {
     "name": "stdout",
     "output_type": "stream",
     "text": [
      "816:\tlearn: 5.6598936\ttotal: 21.4s\tremaining: 4.79s\n",
      "817:\tlearn: 5.6598918\ttotal: 21.4s\tremaining: 4.76s\n",
      "818:\tlearn: 5.6598909\ttotal: 21.4s\tremaining: 4.74s\n",
      "819:\tlearn: 5.6595066\ttotal: 21.5s\tremaining: 4.71s\n",
      "820:\tlearn: 5.6595042\ttotal: 21.5s\tremaining: 4.69s\n",
      "821:\tlearn: 5.6593592\ttotal: 21.5s\tremaining: 4.66s\n",
      "822:\tlearn: 5.6592196\ttotal: 21.6s\tremaining: 4.64s\n",
      "823:\tlearn: 5.6588340\ttotal: 21.6s\tremaining: 4.62s\n",
      "824:\tlearn: 5.6587912\ttotal: 21.6s\tremaining: 4.59s\n",
      "825:\tlearn: 5.6585124\ttotal: 21.7s\tremaining: 4.57s\n",
      "826:\tlearn: 5.6585030\ttotal: 21.7s\tremaining: 4.54s\n",
      "827:\tlearn: 5.6573741\ttotal: 21.8s\tremaining: 4.52s\n",
      "828:\tlearn: 5.6573715\ttotal: 21.8s\tremaining: 4.49s\n",
      "829:\tlearn: 5.6573691\ttotal: 21.8s\tremaining: 4.47s\n",
      "830:\tlearn: 5.6573672\ttotal: 21.8s\tremaining: 4.44s\n",
      "831:\tlearn: 5.6573643\ttotal: 21.9s\tremaining: 4.42s\n",
      "832:\tlearn: 5.6573123\ttotal: 21.9s\tremaining: 4.39s\n",
      "833:\tlearn: 5.6571061\ttotal: 22s\tremaining: 4.37s\n",
      "834:\tlearn: 5.6571046\ttotal: 22s\tremaining: 4.34s\n",
      "835:\tlearn: 5.6570965\ttotal: 22s\tremaining: 4.32s\n",
      "836:\tlearn: 5.6570785\ttotal: 22s\tremaining: 4.29s\n",
      "837:\tlearn: 5.6569520\ttotal: 22.1s\tremaining: 4.26s\n",
      "838:\tlearn: 5.6569309\ttotal: 22.1s\tremaining: 4.24s\n",
      "839:\tlearn: 5.6562089\ttotal: 22.1s\tremaining: 4.21s\n",
      "840:\tlearn: 5.6562056\ttotal: 22.1s\tremaining: 4.19s\n",
      "841:\tlearn: 5.6558238\ttotal: 22.2s\tremaining: 4.16s\n",
      "842:\tlearn: 5.6557489\ttotal: 22.2s\tremaining: 4.14s\n",
      "843:\tlearn: 5.6556771\ttotal: 22.3s\tremaining: 4.11s\n",
      "844:\tlearn: 5.6556764\ttotal: 22.3s\tremaining: 4.08s\n",
      "845:\tlearn: 5.6556745\ttotal: 22.3s\tremaining: 4.06s\n",
      "846:\tlearn: 5.6556728\ttotal: 22.3s\tremaining: 4.03s\n",
      "847:\tlearn: 5.6556716\ttotal: 22.3s\tremaining: 4s\n",
      "848:\tlearn: 5.6556716\ttotal: 22.3s\tremaining: 3.97s\n",
      "849:\tlearn: 5.6556715\ttotal: 22.4s\tremaining: 3.95s\n",
      "850:\tlearn: 5.6556351\ttotal: 22.4s\tremaining: 3.92s\n",
      "851:\tlearn: 5.6554939\ttotal: 22.4s\tremaining: 3.9s\n",
      "852:\tlearn: 5.6554923\ttotal: 22.5s\tremaining: 3.87s\n",
      "853:\tlearn: 5.6554898\ttotal: 22.5s\tremaining: 3.84s\n",
      "854:\tlearn: 5.6553942\ttotal: 22.5s\tremaining: 3.82s\n",
      "855:\tlearn: 5.6553923\ttotal: 22.5s\tremaining: 3.79s\n",
      "856:\tlearn: 5.6552336\ttotal: 22.6s\tremaining: 3.76s\n",
      "857:\tlearn: 5.6552320\ttotal: 22.6s\tremaining: 3.74s\n",
      "858:\tlearn: 5.6552320\ttotal: 22.6s\tremaining: 3.71s\n",
      "859:\tlearn: 5.6552294\ttotal: 22.6s\tremaining: 3.68s\n",
      "860:\tlearn: 5.6552279\ttotal: 22.6s\tremaining: 3.65s\n",
      "861:\tlearn: 5.6551926\ttotal: 22.7s\tremaining: 3.63s\n",
      "862:\tlearn: 5.6551912\ttotal: 22.7s\tremaining: 3.6s\n",
      "863:\tlearn: 5.6546784\ttotal: 22.7s\tremaining: 3.57s\n",
      "864:\tlearn: 5.6545715\ttotal: 22.7s\tremaining: 3.55s\n",
      "865:\tlearn: 5.6545701\ttotal: 22.8s\tremaining: 3.52s\n",
      "866:\tlearn: 5.6545689\ttotal: 22.8s\tremaining: 3.49s\n",
      "867:\tlearn: 5.6545530\ttotal: 22.8s\tremaining: 3.47s\n",
      "868:\tlearn: 5.6545518\ttotal: 22.8s\tremaining: 3.44s\n",
      "869:\tlearn: 5.6538248\ttotal: 22.8s\tremaining: 3.41s\n",
      "870:\tlearn: 5.6537551\ttotal: 22.9s\tremaining: 3.39s\n",
      "871:\tlearn: 5.6537549\ttotal: 22.9s\tremaining: 3.36s\n",
      "872:\tlearn: 5.6537236\ttotal: 22.9s\tremaining: 3.33s\n",
      "873:\tlearn: 5.6536984\ttotal: 23s\tremaining: 3.31s\n",
      "874:\tlearn: 5.6536552\ttotal: 23s\tremaining: 3.28s\n",
      "875:\tlearn: 5.6536539\ttotal: 23s\tremaining: 3.26s\n",
      "876:\tlearn: 5.6536497\ttotal: 23s\tremaining: 3.23s\n",
      "877:\tlearn: 5.6536177\ttotal: 23.1s\tremaining: 3.2s\n",
      "878:\tlearn: 5.6536177\ttotal: 23.1s\tremaining: 3.18s\n",
      "879:\tlearn: 5.6536165\ttotal: 23.1s\tremaining: 3.15s\n",
      "880:\tlearn: 5.6536137\ttotal: 23.1s\tremaining: 3.12s\n",
      "881:\tlearn: 5.6536126\ttotal: 23.1s\tremaining: 3.1s\n",
      "882:\tlearn: 5.6536082\ttotal: 23.2s\tremaining: 3.07s\n",
      "883:\tlearn: 5.6534123\ttotal: 23.2s\tremaining: 3.04s\n",
      "884:\tlearn: 5.6534111\ttotal: 23.2s\tremaining: 3.01s\n",
      "885:\tlearn: 5.6534106\ttotal: 23.2s\tremaining: 2.99s\n",
      "886:\tlearn: 5.6534089\ttotal: 23.2s\tremaining: 2.96s\n",
      "887:\tlearn: 5.6534078\ttotal: 23.3s\tremaining: 2.93s\n",
      "888:\tlearn: 5.6534072\ttotal: 23.3s\tremaining: 2.91s\n",
      "889:\tlearn: 5.6533101\ttotal: 23.3s\tremaining: 2.88s\n",
      "890:\tlearn: 5.6533090\ttotal: 23.3s\tremaining: 2.85s\n",
      "891:\tlearn: 5.6530422\ttotal: 23.4s\tremaining: 2.83s\n",
      "892:\tlearn: 5.6530410\ttotal: 23.4s\tremaining: 2.8s\n",
      "893:\tlearn: 5.6530399\ttotal: 23.4s\tremaining: 2.77s\n",
      "894:\tlearn: 5.6530392\ttotal: 23.4s\tremaining: 2.75s\n",
      "895:\tlearn: 5.6530381\ttotal: 23.4s\tremaining: 2.72s\n",
      "896:\tlearn: 5.6527884\ttotal: 23.5s\tremaining: 2.69s\n",
      "897:\tlearn: 5.6527811\ttotal: 23.5s\tremaining: 2.67s\n",
      "898:\tlearn: 5.6527811\ttotal: 23.5s\tremaining: 2.64s\n",
      "899:\tlearn: 5.6522758\ttotal: 23.5s\tremaining: 2.62s\n",
      "900:\tlearn: 5.6522739\ttotal: 23.6s\tremaining: 2.59s\n",
      "901:\tlearn: 5.6522728\ttotal: 23.6s\tremaining: 2.56s\n",
      "902:\tlearn: 5.6522177\ttotal: 23.6s\tremaining: 2.54s\n",
      "903:\tlearn: 5.6522167\ttotal: 23.6s\tremaining: 2.51s\n",
      "904:\tlearn: 5.6522156\ttotal: 23.7s\tremaining: 2.48s\n",
      "905:\tlearn: 5.6522146\ttotal: 23.7s\tremaining: 2.46s\n",
      "906:\tlearn: 5.6522139\ttotal: 23.7s\tremaining: 2.43s\n",
      "907:\tlearn: 5.6521437\ttotal: 23.7s\tremaining: 2.4s\n",
      "908:\tlearn: 5.6521428\ttotal: 23.7s\tremaining: 2.38s\n",
      "909:\tlearn: 5.6521424\ttotal: 23.8s\tremaining: 2.35s\n",
      "910:\tlearn: 5.6512071\ttotal: 23.8s\tremaining: 2.33s\n",
      "911:\tlearn: 5.6511034\ttotal: 23.9s\tremaining: 2.3s\n",
      "912:\tlearn: 5.6510985\ttotal: 23.9s\tremaining: 2.27s\n",
      "913:\tlearn: 5.6510980\ttotal: 23.9s\tremaining: 2.25s\n",
      "914:\tlearn: 5.6510790\ttotal: 23.9s\tremaining: 2.22s\n",
      "915:\tlearn: 5.6510725\ttotal: 24s\tremaining: 2.2s\n",
      "916:\tlearn: 5.6510639\ttotal: 24s\tremaining: 2.17s\n",
      "917:\tlearn: 5.6510546\ttotal: 24s\tremaining: 2.15s\n",
      "918:\tlearn: 5.6510489\ttotal: 24.1s\tremaining: 2.12s\n",
      "919:\tlearn: 5.6510479\ttotal: 24.1s\tremaining: 2.09s\n",
      "920:\tlearn: 5.6510470\ttotal: 24.1s\tremaining: 2.07s\n",
      "921:\tlearn: 5.6507534\ttotal: 24.1s\tremaining: 2.04s\n",
      "922:\tlearn: 5.6507524\ttotal: 24.1s\tremaining: 2.01s\n",
      "923:\tlearn: 5.6507515\ttotal: 24.2s\tremaining: 1.99s\n",
      "924:\tlearn: 5.6503019\ttotal: 24.2s\tremaining: 1.96s\n",
      "925:\tlearn: 5.6502287\ttotal: 24.2s\tremaining: 1.94s\n",
      "926:\tlearn: 5.6502279\ttotal: 24.2s\tremaining: 1.91s\n",
      "927:\tlearn: 5.6502268\ttotal: 24.3s\tremaining: 1.88s\n",
      "928:\tlearn: 5.6498212\ttotal: 24.3s\tremaining: 1.86s\n",
      "929:\tlearn: 5.6498098\ttotal: 24.3s\tremaining: 1.83s\n",
      "930:\tlearn: 5.6498089\ttotal: 24.3s\tremaining: 1.8s\n",
      "931:\tlearn: 5.6498081\ttotal: 24.4s\tremaining: 1.78s\n",
      "932:\tlearn: 5.6498073\ttotal: 24.4s\tremaining: 1.75s\n",
      "933:\tlearn: 5.6497305\ttotal: 24.4s\tremaining: 1.72s\n",
      "934:\tlearn: 5.6497180\ttotal: 24.4s\tremaining: 1.7s\n",
      "935:\tlearn: 5.6497173\ttotal: 24.5s\tremaining: 1.67s\n",
      "936:\tlearn: 5.6497129\ttotal: 24.5s\tremaining: 1.65s\n",
      "937:\tlearn: 5.6496940\ttotal: 24.5s\tremaining: 1.62s\n",
      "938:\tlearn: 5.6496873\ttotal: 24.5s\tremaining: 1.59s\n",
      "939:\tlearn: 5.6496865\ttotal: 24.6s\tremaining: 1.57s\n",
      "940:\tlearn: 5.6496856\ttotal: 24.6s\tremaining: 1.54s\n",
      "941:\tlearn: 5.6496837\ttotal: 24.6s\tremaining: 1.51s\n",
      "942:\tlearn: 5.6496403\ttotal: 24.6s\tremaining: 1.49s\n",
      "943:\tlearn: 5.6496228\ttotal: 24.7s\tremaining: 1.46s\n",
      "944:\tlearn: 5.6493800\ttotal: 24.7s\tremaining: 1.44s\n",
      "945:\tlearn: 5.6493792\ttotal: 24.7s\tremaining: 1.41s\n",
      "946:\tlearn: 5.6493420\ttotal: 24.7s\tremaining: 1.39s\n",
      "947:\tlearn: 5.6493412\ttotal: 24.8s\tremaining: 1.36s\n",
      "948:\tlearn: 5.6493252\ttotal: 24.8s\tremaining: 1.33s\n",
      "949:\tlearn: 5.6493249\ttotal: 24.8s\tremaining: 1.3s\n",
      "950:\tlearn: 5.6489987\ttotal: 24.8s\tremaining: 1.28s\n",
      "951:\tlearn: 5.6489972\ttotal: 24.9s\tremaining: 1.25s\n",
      "952:\tlearn: 5.6489860\ttotal: 24.9s\tremaining: 1.23s\n",
      "953:\tlearn: 5.6489821\ttotal: 24.9s\tremaining: 1.2s\n",
      "954:\tlearn: 5.6489099\ttotal: 24.9s\tremaining: 1.18s\n",
      "955:\tlearn: 5.6488053\ttotal: 25s\tremaining: 1.15s\n",
      "956:\tlearn: 5.6487748\ttotal: 25s\tremaining: 1.12s\n",
      "957:\tlearn: 5.6486742\ttotal: 25s\tremaining: 1.1s\n",
      "958:\tlearn: 5.6486734\ttotal: 25s\tremaining: 1.07s\n",
      "959:\tlearn: 5.6486728\ttotal: 25.1s\tremaining: 1.04s\n",
      "960:\tlearn: 5.6486714\ttotal: 25.1s\tremaining: 1.02s\n",
      "961:\tlearn: 5.6483735\ttotal: 25.1s\tremaining: 992ms\n",
      "962:\tlearn: 5.6481984\ttotal: 25.1s\tremaining: 966ms\n",
      "963:\tlearn: 5.6481977\ttotal: 25.1s\tremaining: 939ms\n",
      "964:\tlearn: 5.6478953\ttotal: 25.2s\tremaining: 913ms\n",
      "965:\tlearn: 5.6478945\ttotal: 25.2s\tremaining: 887ms\n",
      "966:\tlearn: 5.6478938\ttotal: 25.2s\tremaining: 860ms\n",
      "967:\tlearn: 5.6478757\ttotal: 25.2s\tremaining: 834ms\n",
      "968:\tlearn: 5.6478670\ttotal: 25.3s\tremaining: 808ms\n",
      "969:\tlearn: 5.6477188\ttotal: 25.3s\tremaining: 782ms\n",
      "970:\tlearn: 5.6477180\ttotal: 25.3s\tremaining: 755ms\n",
      "971:\tlearn: 5.6477171\ttotal: 25.3s\tremaining: 729ms\n",
      "972:\tlearn: 5.6476764\ttotal: 25.3s\tremaining: 703ms\n",
      "973:\tlearn: 5.6476744\ttotal: 25.4s\tremaining: 677ms\n",
      "974:\tlearn: 5.6476736\ttotal: 25.4s\tremaining: 651ms\n",
      "975:\tlearn: 5.6476191\ttotal: 25.4s\tremaining: 625ms\n",
      "976:\tlearn: 5.6476183\ttotal: 25.4s\tremaining: 598ms\n",
      "977:\tlearn: 5.6475768\ttotal: 25.4s\tremaining: 572ms\n",
      "978:\tlearn: 5.6475763\ttotal: 25.5s\tremaining: 546ms\n",
      "979:\tlearn: 5.6475689\ttotal: 25.5s\tremaining: 520ms\n",
      "980:\tlearn: 5.6475619\ttotal: 25.5s\tremaining: 494ms\n",
      "981:\tlearn: 5.6475612\ttotal: 25.5s\tremaining: 468ms\n"
     ]
    },
    {
     "name": "stdout",
     "output_type": "stream",
     "text": [
      "982:\tlearn: 5.6475611\ttotal: 25.5s\tremaining: 442ms\n",
      "983:\tlearn: 5.6475611\ttotal: 25.5s\tremaining: 415ms\n",
      "984:\tlearn: 5.6475599\ttotal: 25.6s\tremaining: 389ms\n",
      "985:\tlearn: 5.6475566\ttotal: 25.6s\tremaining: 363ms\n",
      "986:\tlearn: 5.6468335\ttotal: 25.6s\tremaining: 337ms\n",
      "987:\tlearn: 5.6468327\ttotal: 25.6s\tremaining: 311ms\n",
      "988:\tlearn: 5.6468320\ttotal: 25.6s\tremaining: 285ms\n",
      "989:\tlearn: 5.6468313\ttotal: 25.7s\tremaining: 259ms\n",
      "990:\tlearn: 5.6468273\ttotal: 25.7s\tremaining: 233ms\n",
      "991:\tlearn: 5.6468210\ttotal: 25.7s\tremaining: 207ms\n",
      "992:\tlearn: 5.6468165\ttotal: 25.7s\tremaining: 181ms\n",
      "993:\tlearn: 5.6468164\ttotal: 25.7s\tremaining: 155ms\n",
      "994:\tlearn: 5.6468158\ttotal: 25.8s\tremaining: 129ms\n",
      "995:\tlearn: 5.6468153\ttotal: 25.8s\tremaining: 104ms\n",
      "996:\tlearn: 5.6468152\ttotal: 25.8s\tremaining: 77.6ms\n",
      "997:\tlearn: 5.6468152\ttotal: 25.8s\tremaining: 51.7ms\n",
      "998:\tlearn: 5.6468110\ttotal: 25.8s\tremaining: 25.9ms\n",
      "999:\tlearn: 5.6468106\ttotal: 25.8s\tremaining: 0us\n"
     ]
    },
    {
     "data": {
      "text/plain": [
       "<catboost.core.CatBoostRegressor at 0x205594f2780>"
      ]
     },
     "execution_count": 71,
     "metadata": {},
     "output_type": "execute_result"
    }
   ],
   "source": [
    "from catboost import CatBoostRegressor\n",
    "\n",
    "model_cat = CatBoostRegressor()\n",
    "\n",
    "# Specify cathegorical variable \n",
    "cat_features = [0, 1, 2, 3, 4, 5] \n",
    "# model_cat.fit(X_train, y_train, cat_features)\n",
    "model_cat.fit(X_train, y_train)"
   ]
  },
  {
   "cell_type": "code",
   "execution_count": 74,
   "metadata": {},
   "outputs": [],
   "source": [
    "preds = model_cat.predict(X_test)\n",
    "\n",
    "preds = np.rint(preds)"
   ]
  },
  {
   "cell_type": "code",
   "execution_count": 75,
   "metadata": {},
   "outputs": [
    {
     "name": "stdout",
     "output_type": "stream",
     "text": [
      "3.865168539325843\n"
     ]
    }
   ],
   "source": [
    "print (mean_absolute_error(preds,y_test))"
   ]
  },
  {
   "cell_type": "code",
   "execution_count": null,
   "metadata": {},
   "outputs": [],
   "source": []
  },
  {
   "cell_type": "code",
   "execution_count": null,
   "metadata": {},
   "outputs": [],
   "source": []
  },
  {
   "cell_type": "markdown",
   "metadata": {},
   "source": [
    "## XGBoost"
   ]
  },
  {
   "cell_type": "code",
   "execution_count": 48,
   "metadata": {},
   "outputs": [],
   "source": [
    "from xgboost import XGBClassifier\n",
    "from sklearn.metrics import accuracy_score\n",
    "import xgboost as xgb"
   ]
  },
  {
   "cell_type": "code",
   "execution_count": 49,
   "metadata": {},
   "outputs": [
    {
     "name": "stdout",
     "output_type": "stream",
     "text": [
      "<class 'pandas.core.frame.DataFrame'>\n",
      "Int64Index: 6228 entries, 0 to 6248\n",
      "Data columns (total 6 columns):\n",
      "Day_week         6228 non-null int64\n",
      "Time_classify    6228 non-null int64\n",
      "travel_time      6228 non-null int64\n",
      "travel_from      6228 non-null int8\n",
      "car_type         6228 non-null int8\n",
      "max_capacity     6228 non-null int64\n",
      "dtypes: int64(4), int8(2)\n",
      "memory usage: 255.4 KB\n"
     ]
    }
   ],
   "source": [
    "X.info()"
   ]
  },
  {
   "cell_type": "code",
   "execution_count": 63,
   "metadata": {},
   "outputs": [],
   "source": [
    "xgb_model = xgb.XGBRegressor()\n",
    "\n",
    "xgb_model.fit(X_train, y_train)\n",
    "# xgb_model.fit(X, y)\n",
    "\n",
    "\n",
    "y_pred_xgb = xgb_model.predict(X_test)"
   ]
  },
  {
   "cell_type": "code",
   "execution_count": 64,
   "metadata": {},
   "outputs": [
    {
     "name": "stdout",
     "output_type": "stream",
     "text": [
      "3.982234814193811\n"
     ]
    }
   ],
   "source": [
    "print (mean_absolute_error(y_pred_xgb,y_test))"
   ]
  },
  {
   "cell_type": "markdown",
   "metadata": {},
   "source": [
    "## XGBoost"
   ]
  },
  {
   "cell_type": "code",
   "execution_count": 48,
   "metadata": {},
   "outputs": [],
   "source": [
    "from xgboost import XGBClassifier\n",
    "from sklearn.metrics import accuracy_score\n",
    "import xgboost as xgb"
   ]
  },
  {
   "cell_type": "code",
   "execution_count": 49,
   "metadata": {},
   "outputs": [
    {
     "name": "stdout",
     "output_type": "stream",
     "text": [
      "<class 'pandas.core.frame.DataFrame'>\n",
      "Int64Index: 6228 entries, 0 to 6248\n",
      "Data columns (total 6 columns):\n",
      "Day_week         6228 non-null int64\n",
      "Time_classify    6228 non-null int64\n",
      "travel_time      6228 non-null int64\n",
      "travel_from      6228 non-null int8\n",
      "car_type         6228 non-null int8\n",
      "max_capacity     6228 non-null int64\n",
      "dtypes: int64(4), int8(2)\n",
      "memory usage: 255.4 KB\n"
     ]
    }
   ],
   "source": [
    "X.info()"
   ]
  },
  {
   "cell_type": "code",
   "execution_count": 50,
   "metadata": {},
   "outputs": [],
   "source": [
    "xgb_model = xgb.XGBRegressor()\n",
    "\n",
    "xgb_model.fit(X, y)\n",
    "# xgb_model.fit(X, y)\n",
    "\n",
    "\n",
    "y_pred_xgb = xgb_model.predict(X_test)"
   ]
  },
  {
   "cell_type": "code",
   "execution_count": 51,
   "metadata": {},
   "outputs": [
    {
     "name": "stdout",
     "output_type": "stream",
     "text": [
      "3.8973900331348705\n"
     ]
    }
   ],
   "source": [
    "print (mean_absolute_error(y_pred_xgb,y_test))"
   ]
  },
  {
   "cell_type": "markdown",
   "metadata": {},
   "source": [
    "### All dataset (For the cometition purpose)"
   ]
  },
  {
   "cell_type": "code",
   "execution_count": 227,
   "metadata": {},
   "outputs": [],
   "source": [
    "# model_all = RandomForestRegressor(n_estimators=100, criterion=\"mae\", n_jobs=-1)\n",
    "model_all = RandomForestRegressor(n_estimators=100, criterion='mae', max_depth=None, \n",
    "                                  min_samples_split=2, min_samples_leaf=1, min_weight_fraction_leaf=0.0,\n",
    "                                  max_features='auto', max_leaf_nodes=None, min_impurity_decrease=0.0, \n",
    "                                  min_impurity_split=None, bootstrap=True, oob_score=False, n_jobs=-1, \n",
    "                                  random_state=None, verbose=0, warm_start=False)"
   ]
  },
  {
   "cell_type": "code",
   "execution_count": 228,
   "metadata": {},
   "outputs": [
    {
     "data": {
      "text/plain": [
       "RandomForestRegressor(bootstrap=True, criterion='mae', max_depth=None,\n",
       "           max_features='auto', max_leaf_nodes=None,\n",
       "           min_impurity_decrease=0.0, min_impurity_split=None,\n",
       "           min_samples_leaf=1, min_samples_split=2,\n",
       "           min_weight_fraction_leaf=0.0, n_estimators=100, n_jobs=-1,\n",
       "           oob_score=False, random_state=None, verbose=0, warm_start=False)"
      ]
     },
     "execution_count": 228,
     "metadata": {},
     "output_type": "execute_result"
    }
   ],
   "source": [
    "model_all.fit(X_comp,y)"
   ]
  },
  {
   "cell_type": "code",
   "execution_count": 229,
   "metadata": {},
   "outputs": [],
   "source": [
    "y_preds_all = model_all.predict(X)"
   ]
  },
  {
   "cell_type": "code",
   "execution_count": 230,
   "metadata": {},
   "outputs": [],
   "source": [
    "y_preds_all = np.rint(y_preds_all)"
   ]
  },
  {
   "cell_type": "code",
   "execution_count": 231,
   "metadata": {},
   "outputs": [
    {
     "data": {
      "text/html": [
       "<div>\n",
       "<style scoped>\n",
       "    .dataframe tbody tr th:only-of-type {\n",
       "        vertical-align: middle;\n",
       "    }\n",
       "\n",
       "    .dataframe tbody tr th {\n",
       "        vertical-align: top;\n",
       "    }\n",
       "\n",
       "    .dataframe thead th {\n",
       "        text-align: right;\n",
       "    }\n",
       "</style>\n",
       "<table border=\"1\" class=\"dataframe\">\n",
       "  <thead>\n",
       "    <tr style=\"text-align: right;\">\n",
       "      <th></th>\n",
       "      <th>Day_week</th>\n",
       "      <th>Class_Data</th>\n",
       "      <th>Time_classify</th>\n",
       "      <th>travel_time</th>\n",
       "      <th>travel_from</th>\n",
       "      <th>car_type</th>\n",
       "      <th>max_capacity</th>\n",
       "    </tr>\n",
       "  </thead>\n",
       "  <tbody>\n",
       "    <tr>\n",
       "      <th>0</th>\n",
       "      <td>2</td>\n",
       "      <td>2</td>\n",
       "      <td>1</td>\n",
       "      <td>435</td>\n",
       "      <td>7</td>\n",
       "      <td>0</td>\n",
       "      <td>49</td>\n",
       "    </tr>\n",
       "    <tr>\n",
       "      <th>1</th>\n",
       "      <td>0</td>\n",
       "      <td>2</td>\n",
       "      <td>1</td>\n",
       "      <td>432</td>\n",
       "      <td>7</td>\n",
       "      <td>0</td>\n",
       "      <td>49</td>\n",
       "    </tr>\n",
       "    <tr>\n",
       "      <th>2</th>\n",
       "      <td>0</td>\n",
       "      <td>2</td>\n",
       "      <td>1</td>\n",
       "      <td>425</td>\n",
       "      <td>3</td>\n",
       "      <td>0</td>\n",
       "      <td>49</td>\n",
       "    </tr>\n",
       "    <tr>\n",
       "      <th>3</th>\n",
       "      <td>1</td>\n",
       "      <td>2</td>\n",
       "      <td>1</td>\n",
       "      <td>430</td>\n",
       "      <td>1</td>\n",
       "      <td>0</td>\n",
       "      <td>49</td>\n",
       "    </tr>\n",
       "    <tr>\n",
       "      <th>4</th>\n",
       "      <td>1</td>\n",
       "      <td>2</td>\n",
       "      <td>1</td>\n",
       "      <td>432</td>\n",
       "      <td>7</td>\n",
       "      <td>0</td>\n",
       "      <td>49</td>\n",
       "    </tr>\n",
       "  </tbody>\n",
       "</table>\n",
       "</div>"
      ],
      "text/plain": [
       "   Day_week  Class_Data  Time_classify  travel_time  travel_from  car_type  \\\n",
       "0         2           2              1          435            7         0   \n",
       "1         0           2              1          432            7         0   \n",
       "2         0           2              1          425            3         0   \n",
       "3         1           2              1          430            1         0   \n",
       "4         1           2              1          432            7         0   \n",
       "\n",
       "   max_capacity  \n",
       "0            49  \n",
       "1            49  \n",
       "2            49  \n",
       "3            49  \n",
       "4            49  "
      ]
     },
     "execution_count": 231,
     "metadata": {},
     "output_type": "execute_result"
    }
   ],
   "source": [
    "X.head()"
   ]
  },
  {
   "cell_type": "code",
   "execution_count": null,
   "metadata": {},
   "outputs": [],
   "source": []
  },
  {
   "cell_type": "markdown",
   "metadata": {},
   "source": [
    "#### Error Checking"
   ]
  },
  {
   "cell_type": "code",
   "execution_count": 232,
   "metadata": {},
   "outputs": [
    {
     "name": "stdout",
     "output_type": "stream",
     "text": [
      "2.9373795761079\n"
     ]
    }
   ],
   "source": [
    "print (mean_absolute_error(y_preds_all,y))"
   ]
  },
  {
   "cell_type": "markdown",
   "metadata": {},
   "source": [
    "Using rint()\n",
    "with id : 1.1870699311889903\n",
    "with id and travel_to : 1.172827652424388\n"
   ]
  },
  {
   "cell_type": "code",
   "execution_count": 938,
   "metadata": {
    "scrolled": false
   },
   "outputs": [
    {
     "name": "stdout",
     "output_type": "stream",
     "text": [
      "<class 'pandas.core.frame.DataFrame'>\n",
      "RangeIndex: 6249 entries, 0 to 6248\n",
      "Data columns (total 5 columns):\n",
      "Day_week        6249 non-null int64\n",
      "travel_time     6249 non-null int64\n",
      "travel_from     6249 non-null int8\n",
      "car_type        6249 non-null int8\n",
      "max_capacity    6249 non-null int64\n",
      "dtypes: int64(3), int8(2)\n",
      "memory usage: 158.7 KB\n"
     ]
    }
   ],
   "source": [
    "X.info()"
   ]
  },
  {
   "cell_type": "code",
   "execution_count": null,
   "metadata": {},
   "outputs": [],
   "source": []
  },
  {
   "cell_type": "code",
   "execution_count": null,
   "metadata": {},
   "outputs": [],
   "source": []
  },
  {
   "cell_type": "code",
   "execution_count": null,
   "metadata": {},
   "outputs": [],
   "source": []
  },
  {
   "cell_type": "markdown",
   "metadata": {},
   "source": [
    "# Testing "
   ]
  },
  {
   "cell_type": "code",
   "execution_count": 209,
   "metadata": {},
   "outputs": [],
   "source": [
    "df_test_set = pd.read_csv('test_questions.csv', low_memory=False)"
   ]
  },
  {
   "cell_type": "code",
   "execution_count": 210,
   "metadata": {},
   "outputs": [
    {
     "data": {
      "text/plain": [
       "49    599\n",
       "11    512\n",
       "Name: max_capacity, dtype: int64"
      ]
     },
     "execution_count": 210,
     "metadata": {},
     "output_type": "execute_result"
    }
   ],
   "source": [
    "df_test_set.max_capacity.value_counts()"
   ]
  },
  {
   "cell_type": "code",
   "execution_count": 211,
   "metadata": {},
   "outputs": [
    {
     "data": {
      "text/html": [
       "<div>\n",
       "<style scoped>\n",
       "    .dataframe tbody tr th:only-of-type {\n",
       "        vertical-align: middle;\n",
       "    }\n",
       "\n",
       "    .dataframe tbody tr th {\n",
       "        vertical-align: top;\n",
       "    }\n",
       "\n",
       "    .dataframe thead th {\n",
       "        text-align: right;\n",
       "    }\n",
       "</style>\n",
       "<table border=\"1\" class=\"dataframe\">\n",
       "  <thead>\n",
       "    <tr style=\"text-align: right;\">\n",
       "      <th></th>\n",
       "      <th>ride_id</th>\n",
       "      <th>travel_date</th>\n",
       "      <th>travel_time</th>\n",
       "      <th>travel_from</th>\n",
       "      <th>travel_to</th>\n",
       "      <th>car_type</th>\n",
       "      <th>max_capacity</th>\n",
       "    </tr>\n",
       "  </thead>\n",
       "  <tbody>\n",
       "    <tr>\n",
       "      <th>0</th>\n",
       "      <td>247</td>\n",
       "      <td>2018-05-07</td>\n",
       "      <td>07:06</td>\n",
       "      <td>Kisii</td>\n",
       "      <td>Nairobi</td>\n",
       "      <td>Bus</td>\n",
       "      <td>49</td>\n",
       "    </tr>\n",
       "    <tr>\n",
       "      <th>1</th>\n",
       "      <td>256</td>\n",
       "      <td>2018-05-06</td>\n",
       "      <td>11:08</td>\n",
       "      <td>Kisii</td>\n",
       "      <td>Nairobi</td>\n",
       "      <td>shuttle</td>\n",
       "      <td>11</td>\n",
       "    </tr>\n",
       "    <tr>\n",
       "      <th>2</th>\n",
       "      <td>275</td>\n",
       "      <td>2018-05-04</td>\n",
       "      <td>05:00</td>\n",
       "      <td>Kisii</td>\n",
       "      <td>Nairobi</td>\n",
       "      <td>shuttle</td>\n",
       "      <td>11</td>\n",
       "    </tr>\n",
       "    <tr>\n",
       "      <th>3</th>\n",
       "      <td>285</td>\n",
       "      <td>2018-05-04</td>\n",
       "      <td>09:10</td>\n",
       "      <td>Kisii</td>\n",
       "      <td>Nairobi</td>\n",
       "      <td>shuttle</td>\n",
       "      <td>11</td>\n",
       "    </tr>\n",
       "    <tr>\n",
       "      <th>4</th>\n",
       "      <td>286</td>\n",
       "      <td>2018-05-04</td>\n",
       "      <td>09:20</td>\n",
       "      <td>Kisii</td>\n",
       "      <td>Nairobi</td>\n",
       "      <td>shuttle</td>\n",
       "      <td>11</td>\n",
       "    </tr>\n",
       "  </tbody>\n",
       "</table>\n",
       "</div>"
      ],
      "text/plain": [
       "   ride_id travel_date travel_time travel_from travel_to car_type  \\\n",
       "0      247  2018-05-07       07:06       Kisii   Nairobi      Bus   \n",
       "1      256  2018-05-06       11:08       Kisii   Nairobi  shuttle   \n",
       "2      275  2018-05-04       05:00       Kisii   Nairobi  shuttle   \n",
       "3      285  2018-05-04       09:10       Kisii   Nairobi  shuttle   \n",
       "4      286  2018-05-04       09:20       Kisii   Nairobi  shuttle   \n",
       "\n",
       "   max_capacity  \n",
       "0            49  \n",
       "1            11  \n",
       "2            11  \n",
       "3            11  \n",
       "4            11  "
      ]
     },
     "execution_count": 211,
     "metadata": {},
     "output_type": "execute_result"
    }
   ],
   "source": [
    "df_test_set.head()"
   ]
  },
  {
   "cell_type": "code",
   "execution_count": 212,
   "metadata": {},
   "outputs": [],
   "source": [
    "df_test_set[\"Hour\"]= df_test_set[\"travel_time\"].str.split(':').apply(lambda x: int(x[0]))\n",
    "df_test_set[\"Minute\"]= df_test_set[\"travel_time\"].str.split(':').apply(lambda x: int(x[1]))\n",
    "\n",
    "df_test_set['travel_date'] = pd.to_datetime(df_test_set['travel_date'])\n",
    "df_test_set['Day_week'] = df_test_set['travel_date'].dt.strftime('%w')\n",
    "df_test_set['Day_week'] = pd.to_numeric(df_test_set['Day_week'])\n",
    "\n",
    "df_test_set['year_Month'] = df_test_set['travel_date'].dt.strftime('%Y-%m')\n",
    "\n",
    "df_test_set[\"Day\"]= df_test_set['travel_date'].dt.strftime('%d')\n",
    "df_test_set[\"Month\"]= df_test_set['travel_date'].dt.strftime('%m')\n",
    "df_test_set[\"year\"]= df_test_set['travel_date'].dt.strftime('%Y')\n",
    "\n",
    "# def classOur(x) :\n",
    "#     if (int(x[0])==7):\n",
    "#         return 0\n",
    "#     if (int(x[0])>19):\n",
    "#         return 1\n",
    "#     return 2\n",
    "\n",
    "def classOur(x) :\n",
    "    if (int(x[0])==7):\n",
    "        return 1\n",
    "    return 2\n",
    "\n",
    "df_test_set[\"Time_classify\"] = df_test_set[\"travel_time\"].str.split(':').apply(classOur)\n",
    "\n",
    "def classProv(x) :\n",
    "    if (x[0]=='Kisii'):\n",
    "        return 1\n",
    "    return 2\n",
    "df_test_set[\"Class_Prov\"] = df_test_set[\"travel_from\"].str.split(':').apply(classProv)\n",
    "\n"
   ]
  },
  {
   "cell_type": "code",
   "execution_count": 213,
   "metadata": {},
   "outputs": [],
   "source": [
    "def classdate(x) :\n",
    "#     if (x[0]=='2018/01' or x[0]=='2018/02' or x[0]=='2018/03' or x[0]=='2018/04' or x[0]=='2017/12'):\n",
    "    if (((x[0]=='2017') and (x[1]=='12')) or \n",
    "       ((x[0]=='2018') and (x[1]=='01')) or\n",
    "       ((x[0]=='2018') and (x[1]=='02')) or\n",
    "       ((x[0]=='2018') and (x[1]=='03')) or\n",
    "       ((x[0]=='2018') and (x[1]=='04'))):\n",
    "        return 1\n",
    "    return 2\n",
    "df_test_set[\"Class_Data\"] = df_test_set[\"year_Month\"].str.split('-').apply(classdate)\n"
   ]
  },
  {
   "cell_type": "code",
   "execution_count": 214,
   "metadata": {},
   "outputs": [],
   "source": [
    "# df_test_set[\"travel_date\"] = pd.to_datetime(df_test_set[\"travel_date\"],infer_datetime_format=True)\n",
    "# df_test_set[\"travel_date\"] = df_test_set[\"travel_date\"].dt.dayofweek #change the full date to day of week\n",
    "\n",
    "df_test_set[\"car_type\"] = pd.Categorical(df_test_set[\"car_type\"])\n",
    "# car_type_categories = data_revised.car_type.cat.categories\n",
    "df_test_set[\"car_type\"] = df_test_set.car_type.cat.codes\n",
    "\n",
    "df_test_set[\"travel_from\"] = pd.Categorical(df_test_set[\"travel_from\"])\n",
    "# travel_from_categories = data_revised.travel_from.cat.categories\n",
    "df_test_set[\"travel_from\"] = df_test_set.travel_from.cat.codes\n",
    "\n",
    "df_test_set[\"travel_to\"] = pd.Categorical(df_test_set[\"travel_to\"])\n",
    "df_test_set[\"travel_to\"] = df_test_set.travel_to.cat.codes\n",
    "\n",
    "df_test_set[\"travel_time\"] = df_test_set[\"travel_time\"].str.split(':').apply(lambda x: int(x[0]) * 60 + int(x[1]))\n",
    "\n",
    "# df_test_set[\"travel_time\"] = df_test_set[\"travel_time\"].str.split(':').apply(lambda x: int(x[0]))"
   ]
  },
  {
   "cell_type": "code",
   "execution_count": 207,
   "metadata": {},
   "outputs": [
    {
     "data": {
      "text/plain": [
       "<matplotlib.axes._subplots.AxesSubplot at 0x2868e3f47f0>"
      ]
     },
     "execution_count": 207,
     "metadata": {},
     "output_type": "execute_result"
    },
    {
     "data": {
      "image/png": "[encoded data removed]",
      "text/plain": [
       "<Figure size 432x288 with 1 Axes>"
      ]
     },
     "metadata": {
      "needs_background": "light"
     },
     "output_type": "display_data"
    }
   ],
   "source": [
    "df_test_set.year_Month.value_counts().plot.bar()"
   ]
  },
  {
   "cell_type": "code",
   "execution_count": 153,
   "metadata": {},
   "outputs": [
    {
     "name": "stdout",
     "output_type": "stream",
     "text": [
      "<class 'pandas.core.frame.DataFrame'>\n",
      "RangeIndex: 1111 entries, 0 to 1110\n",
      "Data columns (total 17 columns):\n",
      "ride_id          1111 non-null int64\n",
      "travel_date      1111 non-null datetime64[ns]\n",
      "travel_time      1111 non-null int64\n",
      "travel_from      1111 non-null int8\n",
      "travel_to        1111 non-null int8\n",
      "car_type         1111 non-null int8\n",
      "max_capacity     1111 non-null int64\n",
      "Hour             1111 non-null int64\n",
      "Minute           1111 non-null int64\n",
      "Day_week         1111 non-null int64\n",
      "year_Month       1111 non-null object\n",
      "Day              1111 non-null object\n",
      "Month            1111 non-null object\n",
      "year             1111 non-null object\n",
      "Time_classify    1111 non-null int64\n",
      "Class_Prov       1111 non-null int64\n",
      "Class_Data       1111 non-null int64\n",
      "dtypes: datetime64[ns](1), int64(9), int8(3), object(4)\n",
      "memory usage: 124.8+ KB\n"
     ]
    }
   ],
   "source": [
    "df_test_set.info()"
   ]
  },
  {
   "cell_type": "code",
   "execution_count": 233,
   "metadata": {},
   "outputs": [
    {
     "data": {
      "text/html": [
       "<div>\n",
       "<style scoped>\n",
       "    .dataframe tbody tr th:only-of-type {\n",
       "        vertical-align: middle;\n",
       "    }\n",
       "\n",
       "    .dataframe tbody tr th {\n",
       "        vertical-align: top;\n",
       "    }\n",
       "\n",
       "    .dataframe thead th {\n",
       "        text-align: right;\n",
       "    }\n",
       "</style>\n",
       "<table border=\"1\" class=\"dataframe\">\n",
       "  <thead>\n",
       "    <tr style=\"text-align: right;\">\n",
       "      <th></th>\n",
       "      <th>Day_week</th>\n",
       "      <th>Class_Data</th>\n",
       "      <th>Time_classify</th>\n",
       "      <th>travel_time</th>\n",
       "      <th>travel_from</th>\n",
       "      <th>car_type</th>\n",
       "      <th>max_capacity</th>\n",
       "    </tr>\n",
       "  </thead>\n",
       "  <tbody>\n",
       "    <tr>\n",
       "      <th>0</th>\n",
       "      <td>1</td>\n",
       "      <td>2</td>\n",
       "      <td>1</td>\n",
       "      <td>426</td>\n",
       "      <td>5</td>\n",
       "      <td>0</td>\n",
       "      <td>49</td>\n",
       "    </tr>\n",
       "    <tr>\n",
       "      <th>1</th>\n",
       "      <td>0</td>\n",
       "      <td>2</td>\n",
       "      <td>2</td>\n",
       "      <td>668</td>\n",
       "      <td>5</td>\n",
       "      <td>1</td>\n",
       "      <td>11</td>\n",
       "    </tr>\n",
       "    <tr>\n",
       "      <th>2</th>\n",
       "      <td>5</td>\n",
       "      <td>2</td>\n",
       "      <td>2</td>\n",
       "      <td>300</td>\n",
       "      <td>5</td>\n",
       "      <td>1</td>\n",
       "      <td>11</td>\n",
       "    </tr>\n",
       "    <tr>\n",
       "      <th>3</th>\n",
       "      <td>5</td>\n",
       "      <td>2</td>\n",
       "      <td>2</td>\n",
       "      <td>550</td>\n",
       "      <td>5</td>\n",
       "      <td>1</td>\n",
       "      <td>11</td>\n",
       "    </tr>\n",
       "    <tr>\n",
       "      <th>4</th>\n",
       "      <td>5</td>\n",
       "      <td>2</td>\n",
       "      <td>2</td>\n",
       "      <td>560</td>\n",
       "      <td>5</td>\n",
       "      <td>1</td>\n",
       "      <td>11</td>\n",
       "    </tr>\n",
       "  </tbody>\n",
       "</table>\n",
       "</div>"
      ],
      "text/plain": [
       "   Day_week  Class_Data  Time_classify  travel_time  travel_from  car_type  \\\n",
       "0         1           2              1          426            5         0   \n",
       "1         0           2              2          668            5         1   \n",
       "2         5           2              2          300            5         1   \n",
       "3         5           2              2          550            5         1   \n",
       "4         5           2              2          560            5         1   \n",
       "\n",
       "   max_capacity  \n",
       "0            49  \n",
       "1            11  \n",
       "2            11  \n",
       "3            11  \n",
       "4            11  "
      ]
     },
     "execution_count": 233,
     "metadata": {},
     "output_type": "execute_result"
    }
   ],
   "source": [
    "X_ = df_test_set[[\"Day_week\", \"Class_Data\",  \"Time_classify\", \"travel_time\", \"travel_from\", \"car_type\", \"max_capacity\"]]\n",
    "# X_ = df_test_set[[\"Month\", \"travel_time\", \"travel_from\", \"car_type\", \"max_capacity\"]]\n",
    "\n",
    "X_.head()                    "
   ]
  },
  {
   "cell_type": "code",
   "execution_count": 216,
   "metadata": {},
   "outputs": [
    {
     "data": {
      "text/html": [
       "<div>\n",
       "<style scoped>\n",
       "    .dataframe tbody tr th:only-of-type {\n",
       "        vertical-align: middle;\n",
       "    }\n",
       "\n",
       "    .dataframe tbody tr th {\n",
       "        vertical-align: top;\n",
       "    }\n",
       "\n",
       "    .dataframe thead th {\n",
       "        text-align: right;\n",
       "    }\n",
       "</style>\n",
       "<table border=\"1\" class=\"dataframe\">\n",
       "  <thead>\n",
       "    <tr style=\"text-align: right;\">\n",
       "      <th></th>\n",
       "      <th>Day_week</th>\n",
       "      <th>Class_Data</th>\n",
       "      <th>Class_Prov</th>\n",
       "      <th>Time_classify</th>\n",
       "      <th>travel_time</th>\n",
       "      <th>travel_from</th>\n",
       "      <th>car_type</th>\n",
       "      <th>max_capacity</th>\n",
       "    </tr>\n",
       "  </thead>\n",
       "  <tbody>\n",
       "    <tr>\n",
       "      <th>0</th>\n",
       "      <td>1</td>\n",
       "      <td>2</td>\n",
       "      <td>1</td>\n",
       "      <td>1</td>\n",
       "      <td>426</td>\n",
       "      <td>5</td>\n",
       "      <td>0</td>\n",
       "      <td>49</td>\n",
       "    </tr>\n",
       "    <tr>\n",
       "      <th>1</th>\n",
       "      <td>0</td>\n",
       "      <td>2</td>\n",
       "      <td>1</td>\n",
       "      <td>2</td>\n",
       "      <td>668</td>\n",
       "      <td>5</td>\n",
       "      <td>1</td>\n",
       "      <td>11</td>\n",
       "    </tr>\n",
       "    <tr>\n",
       "      <th>2</th>\n",
       "      <td>5</td>\n",
       "      <td>2</td>\n",
       "      <td>1</td>\n",
       "      <td>2</td>\n",
       "      <td>300</td>\n",
       "      <td>5</td>\n",
       "      <td>1</td>\n",
       "      <td>11</td>\n",
       "    </tr>\n",
       "    <tr>\n",
       "      <th>3</th>\n",
       "      <td>5</td>\n",
       "      <td>2</td>\n",
       "      <td>1</td>\n",
       "      <td>2</td>\n",
       "      <td>550</td>\n",
       "      <td>5</td>\n",
       "      <td>1</td>\n",
       "      <td>11</td>\n",
       "    </tr>\n",
       "    <tr>\n",
       "      <th>4</th>\n",
       "      <td>5</td>\n",
       "      <td>2</td>\n",
       "      <td>1</td>\n",
       "      <td>2</td>\n",
       "      <td>560</td>\n",
       "      <td>5</td>\n",
       "      <td>1</td>\n",
       "      <td>11</td>\n",
       "    </tr>\n",
       "  </tbody>\n",
       "</table>\n",
       "</div>"
      ],
      "text/plain": [
       "   Day_week  Class_Data  Class_Prov  Time_classify  travel_time  travel_from  \\\n",
       "0         1           2           1              1          426            5   \n",
       "1         0           2           1              2          668            5   \n",
       "2         5           2           1              2          300            5   \n",
       "3         5           2           1              2          550            5   \n",
       "4         5           2           1              2          560            5   \n",
       "\n",
       "   car_type  max_capacity  \n",
       "0         0            49  \n",
       "1         1            11  \n",
       "2         1            11  \n",
       "3         1            11  \n",
       "4         1            11  "
      ]
     },
     "execution_count": 216,
     "metadata": {},
     "output_type": "execute_result"
    }
   ],
   "source": [
    "X_.head()                    "
   ]
  },
  {
   "cell_type": "code",
   "execution_count": 217,
   "metadata": {},
   "outputs": [],
   "source": [
    "# from sklearn import preprocessing\n",
    "# X_ = preprocessing.StandardScaler().fit(X).transform(X)"
   ]
  },
  {
   "cell_type": "code",
   "execution_count": 234,
   "metadata": {},
   "outputs": [],
   "source": [
    "test_set_predictions = model_all.predict(X_)\n",
    "# test_set_predictions = model_cat.predict(X_)"
   ]
  },
  {
   "cell_type": "code",
   "execution_count": 235,
   "metadata": {},
   "outputs": [],
   "source": [
    "test_set_predictions = np.rint(test_set_predictions)"
   ]
  },
  {
   "cell_type": "code",
   "execution_count": 236,
   "metadata": {},
   "outputs": [],
   "source": [
    "# test_set_predictions[:10]"
   ]
  },
  {
   "cell_type": "code",
   "execution_count": 237,
   "metadata": {},
   "outputs": [
    {
     "data": {
      "text/html": [
       "<div>\n",
       "<style scoped>\n",
       "    .dataframe tbody tr th:only-of-type {\n",
       "        vertical-align: middle;\n",
       "    }\n",
       "\n",
       "    .dataframe tbody tr th {\n",
       "        vertical-align: top;\n",
       "    }\n",
       "\n",
       "    .dataframe thead th {\n",
       "        text-align: right;\n",
       "    }\n",
       "</style>\n",
       "<table border=\"1\" class=\"dataframe\">\n",
       "  <thead>\n",
       "    <tr style=\"text-align: right;\">\n",
       "      <th></th>\n",
       "      <th>ride_id</th>\n",
       "      <th>number_of_ticket</th>\n",
       "    </tr>\n",
       "  </thead>\n",
       "  <tbody>\n",
       "    <tr>\n",
       "      <th>0</th>\n",
       "      <td>247</td>\n",
       "      <td>9.0</td>\n",
       "    </tr>\n",
       "    <tr>\n",
       "      <th>1</th>\n",
       "      <td>256</td>\n",
       "      <td>4.0</td>\n",
       "    </tr>\n",
       "    <tr>\n",
       "      <th>2</th>\n",
       "      <td>275</td>\n",
       "      <td>2.0</td>\n",
       "    </tr>\n",
       "    <tr>\n",
       "      <th>3</th>\n",
       "      <td>285</td>\n",
       "      <td>9.0</td>\n",
       "    </tr>\n",
       "    <tr>\n",
       "      <th>4</th>\n",
       "      <td>286</td>\n",
       "      <td>9.0</td>\n",
       "    </tr>\n",
       "  </tbody>\n",
       "</table>\n",
       "</div>"
      ],
      "text/plain": [
       "   ride_id  number_of_ticket\n",
       "0      247               9.0\n",
       "1      256               4.0\n",
       "2      275               2.0\n",
       "3      285               9.0\n",
       "4      286               9.0"
      ]
     },
     "execution_count": 237,
     "metadata": {},
     "output_type": "execute_result"
    }
   ],
   "source": [
    "d = {'ride_id': df_test_set[\"ride_id\"], 'number_of_ticket': test_set_predictions}\n",
    "df_predictions = pd.DataFrame(data=d)\n",
    "df_predictions = df_predictions[['ride_id','number_of_ticket']]\n",
    "\n",
    "df_predictions.head()"
   ]
  },
  {
   "cell_type": "markdown",
   "metadata": {},
   "source": [
    "Saving our file"
   ]
  },
  {
   "cell_type": "code",
   "execution_count": 238,
   "metadata": {},
   "outputs": [],
   "source": [
    "df_predictions.to_csv('predi_2.9.csv', index=False) #save to csv file"
   ]
  },
  {
   "cell_type": "code",
   "execution_count": null,
   "metadata": {},
   "outputs": [],
   "source": []
  },
  {
   "cell_type": "markdown",
   "metadata": {},
   "source": [
    "### This is just for fun, supposing that the first five rowns in the sample submission are true"
   ]
  },
  {
   "cell_type": "code",
   "execution_count": 409,
   "metadata": {},
   "outputs": [
    {
     "data": {
      "text/html": [
       "<div>\n",
       "<style scoped>\n",
       "    .dataframe tbody tr th:only-of-type {\n",
       "        vertical-align: middle;\n",
       "    }\n",
       "\n",
       "    .dataframe tbody tr th {\n",
       "        vertical-align: top;\n",
       "    }\n",
       "\n",
       "    .dataframe thead th {\n",
       "        text-align: right;\n",
       "    }\n",
       "</style>\n",
       "<table border=\"1\" class=\"dataframe\">\n",
       "  <thead>\n",
       "    <tr style=\"text-align: right;\">\n",
       "      <th></th>\n",
       "      <th>ride_id</th>\n",
       "      <th>number_of_ticket</th>\n",
       "    </tr>\n",
       "  </thead>\n",
       "  <tbody>\n",
       "    <tr>\n",
       "      <th>0</th>\n",
       "      <td>247</td>\n",
       "      <td>4.0</td>\n",
       "    </tr>\n",
       "    <tr>\n",
       "      <th>1</th>\n",
       "      <td>256</td>\n",
       "      <td>2.0</td>\n",
       "    </tr>\n",
       "    <tr>\n",
       "      <th>2</th>\n",
       "      <td>275</td>\n",
       "      <td>5.0</td>\n",
       "    </tr>\n",
       "    <tr>\n",
       "      <th>3</th>\n",
       "      <td>285</td>\n",
       "      <td>7.0</td>\n",
       "    </tr>\n",
       "    <tr>\n",
       "      <th>4</th>\n",
       "      <td>286</td>\n",
       "      <td>9.0</td>\n",
       "    </tr>\n",
       "  </tbody>\n",
       "</table>\n",
       "</div>"
      ],
      "text/plain": [
       "   ride_id  number_of_ticket\n",
       "0      247               4.0\n",
       "1      256               2.0\n",
       "2      275               5.0\n",
       "3      285               7.0\n",
       "4      286               9.0"
      ]
     },
     "execution_count": 409,
     "metadata": {},
     "output_type": "execute_result"
    }
   ],
   "source": [
    "df_test = pd.read_csv('sample_submission.csv', low_memory=False)\n",
    "df_test.head()"
   ]
  },
  {
   "cell_type": "code",
   "execution_count": 410,
   "metadata": {},
   "outputs": [],
   "source": [
    "y_test_ = df_test.number_of_ticket"
   ]
  },
  {
   "cell_type": "code",
   "execution_count": 871,
   "metadata": {},
   "outputs": [
    {
     "name": "stdout",
     "output_type": "stream",
     "text": [
      "3.4\n"
     ]
    }
   ],
   "source": [
    "print (mean_absolute_error(test_set_predictions[:5],y_test_[:5]))"
   ]
  }
 ],
 "metadata": {
  "kernelspec": {
   "display_name": "Python 3",
   "language": "python",
   "name": "python3"
  },
  "language_info": {
   "codemirror_mode": {
    "name": "ipython",
    "version": 3
   },
   "file_extension": ".py",
   "mimetype": "text/x-python",
   "name": "python",
   "nbconvert_exporter": "python",
   "pygments_lexer": "ipython3",
   "version": "3.7.1"
  }
 },
 "nbformat": 4,
 "nbformat_minor": 2
}
