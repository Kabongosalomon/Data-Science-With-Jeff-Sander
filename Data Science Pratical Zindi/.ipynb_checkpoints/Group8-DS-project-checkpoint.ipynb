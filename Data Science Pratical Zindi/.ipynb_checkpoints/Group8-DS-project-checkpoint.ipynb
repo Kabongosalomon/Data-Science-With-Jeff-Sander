{
 "cells": [
  {
   "cell_type": "markdown",
   "metadata": {},
   "source": [
    "## Importing Some important packages"
   ]
  },
  {
   "cell_type": "code",
   "execution_count": 1,
   "metadata": {},
   "outputs": [
    {
     "name": "stderr",
     "output_type": "stream",
     "text": [
      "c:\\python 3\\lib\\site-packages\\matplotlib\\__init__.py:886: MatplotlibDeprecationWarning: \n",
      "examples.directory is deprecated; in the future, examples will be found relative to the 'datapath' directory.\n",
      "  \"found relative to the 'datapath' directory.\".format(key))\n"
     ]
    }
   ],
   "source": [
    "import pandas as pd\n",
    "import pylab as pl\n",
    "import numpy as np\n",
    "import scipy.optimize as opt\n",
    "from sklearn import preprocessing\n",
    "%matplotlib inline \n",
    "import matplotlib.pyplot as plt\n",
    "from sklearn.ensemble import RandomForestRegressor\n",
    "from sklearn.metrics import mean_absolute_error\n",
    "\n",
    "import seaborn as sns"
   ]
  },
  {
   "cell_type": "markdown",
   "metadata": {},
   "source": [
    "## Loading Datas"
   ]
  },
  {
   "cell_type": "code",
   "execution_count": 2,
   "metadata": {},
   "outputs": [],
   "source": [
    "\n",
    "data_bus = pd.read_csv(\"train_revised.csv\")\n",
    "data_bus.head()\n",
    "\n",
    "df_test_set = pd.read_csv('test_questions.csv', low_memory=False)"
   ]
  },
  {
   "cell_type": "code",
   "execution_count": null,
   "metadata": {},
   "outputs": [],
   "source": []
  },
  {
   "cell_type": "code",
   "execution_count": 3,
   "metadata": {},
   "outputs": [
    {
     "data": {
      "text/html": [
       "<div>\n",
       "<style scoped>\n",
       "    .dataframe tbody tr th:only-of-type {\n",
       "        vertical-align: middle;\n",
       "    }\n",
       "\n",
       "    .dataframe tbody tr th {\n",
       "        vertical-align: top;\n",
       "    }\n",
       "\n",
       "    .dataframe thead th {\n",
       "        text-align: right;\n",
       "    }\n",
       "</style>\n",
       "<table border=\"1\" class=\"dataframe\">\n",
       "  <thead>\n",
       "    <tr style=\"text-align: right;\">\n",
       "      <th></th>\n",
       "      <th>ride_id</th>\n",
       "      <th>travel_date</th>\n",
       "      <th>travel_time</th>\n",
       "      <th>travel_from</th>\n",
       "      <th>travel_to</th>\n",
       "      <th>car_type</th>\n",
       "      <th>max_capacity</th>\n",
       "    </tr>\n",
       "  </thead>\n",
       "  <tbody>\n",
       "    <tr>\n",
       "      <th>0</th>\n",
       "      <td>1442</td>\n",
       "      <td>17-10-17</td>\n",
       "      <td>7:15</td>\n",
       "      <td>Migori</td>\n",
       "      <td>Nairobi</td>\n",
       "      <td>Bus</td>\n",
       "      <td>49</td>\n",
       "    </tr>\n",
       "    <tr>\n",
       "      <th>1</th>\n",
       "      <td>5437</td>\n",
       "      <td>19-11-17</td>\n",
       "      <td>7:12</td>\n",
       "      <td>Migori</td>\n",
       "      <td>Nairobi</td>\n",
       "      <td>Bus</td>\n",
       "      <td>49</td>\n",
       "    </tr>\n",
       "    <tr>\n",
       "      <th>2</th>\n",
       "      <td>5710</td>\n",
       "      <td>26-11-17</td>\n",
       "      <td>7:05</td>\n",
       "      <td>Keroka</td>\n",
       "      <td>Nairobi</td>\n",
       "      <td>Bus</td>\n",
       "      <td>49</td>\n",
       "    </tr>\n",
       "    <tr>\n",
       "      <th>3</th>\n",
       "      <td>5777</td>\n",
       "      <td>27-11-17</td>\n",
       "      <td>7:10</td>\n",
       "      <td>Homa Bay</td>\n",
       "      <td>Nairobi</td>\n",
       "      <td>Bus</td>\n",
       "      <td>49</td>\n",
       "    </tr>\n",
       "    <tr>\n",
       "      <th>4</th>\n",
       "      <td>5778</td>\n",
       "      <td>27-11-17</td>\n",
       "      <td>7:12</td>\n",
       "      <td>Migori</td>\n",
       "      <td>Nairobi</td>\n",
       "      <td>Bus</td>\n",
       "      <td>49</td>\n",
       "    </tr>\n",
       "  </tbody>\n",
       "</table>\n",
       "</div>"
      ],
      "text/plain": [
       "   ride_id travel_date travel_time travel_from travel_to car_type  \\\n",
       "0     1442    17-10-17        7:15      Migori   Nairobi      Bus   \n",
       "1     5437    19-11-17        7:12      Migori   Nairobi      Bus   \n",
       "2     5710    26-11-17        7:05      Keroka   Nairobi      Bus   \n",
       "3     5777    27-11-17        7:10    Homa Bay   Nairobi      Bus   \n",
       "4     5778    27-11-17        7:12      Migori   Nairobi      Bus   \n",
       "\n",
       "   max_capacity  \n",
       "0            49  \n",
       "1            49  \n",
       "2            49  \n",
       "3            49  \n",
       "4            49  "
      ]
     },
     "execution_count": 3,
     "metadata": {},
     "output_type": "execute_result"
    }
   ],
   "source": [
    "# Keeping only column that are usefull for our study \n",
    "data_revised = data_bus.drop(['seat_number', 'payment_method', 'payment_receipt'],axis=1)\n",
    "\n",
    "data_revised.head()"
   ]
  },
  {
   "cell_type": "code",
   "execution_count": 115,
   "metadata": {},
   "outputs": [],
   "source": [
    "# Extra town From Training set: Sori, Keumbu and Oyugis"
   ]
  },
  {
   "cell_type": "code",
   "execution_count": 117,
   "metadata": {},
   "outputs": [],
   "source": [
    "# Keumbu, Oyugis, "
   ]
  },
  {
   "cell_type": "code",
   "execution_count": 4,
   "metadata": {},
   "outputs": [],
   "source": [
    "# This hlep to count the number \n",
    "# of ticket sold for a specific ride_id\n",
    "\n",
    "ride_id_count = {} \n",
    "for ride_id in data_revised[\"ride_id\"]:\n",
    "    if not ride_id in ride_id_count:\n",
    "        ride_id_count[ride_id] = 1\n",
    "    else:\n",
    "        ride_id_count[ride_id] += 1 \n",
    "        \n",
    "data_revised.drop_duplicates(inplace=True)\n",
    "data_revised.reset_index(drop= True, inplace=True)\n",
    "\n",
    "# Initialise our column with zero\n",
    "data_revised[\"number_of_tickets\"]= np.zeros(\n",
    "    len(data_revised),dtype=int)\n",
    "\n",
    "# we update the number of ticket as follow \n",
    "for i in range(len(data_revised)):\n",
    "    ride_id = data_revised.loc[i][\"ride_id\"]\n",
    "    data_revised.at[\n",
    "        i,\"number_of_tickets\"] = ride_id_count[ride_id]"
   ]
  },
  {
   "cell_type": "code",
   "execution_count": 5,
   "metadata": {},
   "outputs": [
    {
     "data": {
      "text/html": [
       "<div>\n",
       "<style scoped>\n",
       "    .dataframe tbody tr th:only-of-type {\n",
       "        vertical-align: middle;\n",
       "    }\n",
       "\n",
       "    .dataframe tbody tr th {\n",
       "        vertical-align: top;\n",
       "    }\n",
       "\n",
       "    .dataframe thead th {\n",
       "        text-align: right;\n",
       "    }\n",
       "</style>\n",
       "<table border=\"1\" class=\"dataframe\">\n",
       "  <thead>\n",
       "    <tr style=\"text-align: right;\">\n",
       "      <th></th>\n",
       "      <th>ride_id</th>\n",
       "      <th>travel_date</th>\n",
       "      <th>travel_time</th>\n",
       "      <th>travel_from</th>\n",
       "      <th>travel_to</th>\n",
       "      <th>car_type</th>\n",
       "      <th>max_capacity</th>\n",
       "      <th>number_of_tickets</th>\n",
       "    </tr>\n",
       "  </thead>\n",
       "  <tbody>\n",
       "    <tr>\n",
       "      <th>0</th>\n",
       "      <td>1442</td>\n",
       "      <td>17-10-17</td>\n",
       "      <td>7:15</td>\n",
       "      <td>Migori</td>\n",
       "      <td>Nairobi</td>\n",
       "      <td>Bus</td>\n",
       "      <td>49</td>\n",
       "      <td>1</td>\n",
       "    </tr>\n",
       "    <tr>\n",
       "      <th>1</th>\n",
       "      <td>5437</td>\n",
       "      <td>19-11-17</td>\n",
       "      <td>7:12</td>\n",
       "      <td>Migori</td>\n",
       "      <td>Nairobi</td>\n",
       "      <td>Bus</td>\n",
       "      <td>49</td>\n",
       "      <td>1</td>\n",
       "    </tr>\n",
       "    <tr>\n",
       "      <th>2</th>\n",
       "      <td>5710</td>\n",
       "      <td>26-11-17</td>\n",
       "      <td>7:05</td>\n",
       "      <td>Keroka</td>\n",
       "      <td>Nairobi</td>\n",
       "      <td>Bus</td>\n",
       "      <td>49</td>\n",
       "      <td>1</td>\n",
       "    </tr>\n",
       "    <tr>\n",
       "      <th>3</th>\n",
       "      <td>5777</td>\n",
       "      <td>27-11-17</td>\n",
       "      <td>7:10</td>\n",
       "      <td>Homa Bay</td>\n",
       "      <td>Nairobi</td>\n",
       "      <td>Bus</td>\n",
       "      <td>49</td>\n",
       "      <td>5</td>\n",
       "    </tr>\n",
       "    <tr>\n",
       "      <th>4</th>\n",
       "      <td>5778</td>\n",
       "      <td>27-11-17</td>\n",
       "      <td>7:12</td>\n",
       "      <td>Migori</td>\n",
       "      <td>Nairobi</td>\n",
       "      <td>Bus</td>\n",
       "      <td>49</td>\n",
       "      <td>31</td>\n",
       "    </tr>\n",
       "  </tbody>\n",
       "</table>\n",
       "</div>"
      ],
      "text/plain": [
       "   ride_id travel_date travel_time travel_from travel_to car_type  \\\n",
       "0     1442    17-10-17        7:15      Migori   Nairobi      Bus   \n",
       "1     5437    19-11-17        7:12      Migori   Nairobi      Bus   \n",
       "2     5710    26-11-17        7:05      Keroka   Nairobi      Bus   \n",
       "3     5777    27-11-17        7:10    Homa Bay   Nairobi      Bus   \n",
       "4     5778    27-11-17        7:12      Migori   Nairobi      Bus   \n",
       "\n",
       "   max_capacity  number_of_tickets  \n",
       "0            49                  1  \n",
       "1            49                  1  \n",
       "2            49                  1  \n",
       "3            49                  5  \n",
       "4            49                 31  "
      ]
     },
     "execution_count": 5,
     "metadata": {},
     "output_type": "execute_result"
    }
   ],
   "source": [
    "data_revised.head()"
   ]
  },
  {
   "cell_type": "markdown",
   "metadata": {},
   "source": [
    "## Adding some useful column"
   ]
  },
  {
   "cell_type": "code",
   "execution_count": 6,
   "metadata": {},
   "outputs": [],
   "source": [
    "data_revised[\"Hour\"]= data_revised[\"travel_time\"].str.split(':').apply(lambda x: int(x[0]))\n",
    "data_revised[\"Minute\"]= data_revised[\"travel_time\"].str.split(':').apply(lambda x: int(x[1]))\n",
    "\n",
    "# data_revised data_revised[\"Day_week\"].dt.strftime('%w')\n",
    "data_revised['travel_date'] = pd.to_datetime(data_revised['travel_date'])\n",
    "\n",
    "data_revised['Day_week'] = data_revised['travel_date'].dt.strftime('%w')\n",
    "# changing to numeric\n",
    "data_revised['Day_week']=pd.to_numeric(data_revised['Day_week'])\n",
    "\n",
    "data_revised['year_Month'] = data_revised['travel_date'].dt.strftime('%Y-%m')\n",
    "\n",
    "data_revised[\"Day\"]= data_revised['travel_date'].dt.strftime('%d')\n",
    "data_revised[\"Month\"]= data_revised['travel_date'].dt.strftime('%m')\n",
    "data_revised[\"year\"]= data_revised['travel_date'].dt.strftime('%Y')\n"
   ]
  },
  {
   "cell_type": "code",
   "execution_count": null,
   "metadata": {},
   "outputs": [],
   "source": []
  },
  {
   "cell_type": "code",
   "execution_count": 10,
   "metadata": {},
   "outputs": [
    {
     "data": {
      "text/html": [
       "<div>\n",
       "<style scoped>\n",
       "    .dataframe tbody tr th:only-of-type {\n",
       "        vertical-align: middle;\n",
       "    }\n",
       "\n",
       "    .dataframe tbody tr th {\n",
       "        vertical-align: top;\n",
       "    }\n",
       "\n",
       "    .dataframe thead th {\n",
       "        text-align: right;\n",
       "    }\n",
       "</style>\n",
       "<table border=\"1\" class=\"dataframe\">\n",
       "  <thead>\n",
       "    <tr style=\"text-align: right;\">\n",
       "      <th></th>\n",
       "      <th>ride_id</th>\n",
       "      <th>travel_date</th>\n",
       "      <th>travel_time</th>\n",
       "      <th>travel_from</th>\n",
       "      <th>travel_to</th>\n",
       "      <th>car_type</th>\n",
       "      <th>max_capacity</th>\n",
       "      <th>number_of_tickets</th>\n",
       "      <th>Hour</th>\n",
       "      <th>Minute</th>\n",
       "      <th>Day_week</th>\n",
       "      <th>year_Month</th>\n",
       "      <th>Day</th>\n",
       "      <th>Month</th>\n",
       "      <th>year</th>\n",
       "    </tr>\n",
       "  </thead>\n",
       "  <tbody>\n",
       "    <tr>\n",
       "      <th>0</th>\n",
       "      <td>1442</td>\n",
       "      <td>2017-10-17</td>\n",
       "      <td>7:15</td>\n",
       "      <td>Migori</td>\n",
       "      <td>Nairobi</td>\n",
       "      <td>Bus</td>\n",
       "      <td>49</td>\n",
       "      <td>1</td>\n",
       "      <td>7</td>\n",
       "      <td>15</td>\n",
       "      <td>2</td>\n",
       "      <td>2017-10</td>\n",
       "      <td>17</td>\n",
       "      <td>10</td>\n",
       "      <td>2017</td>\n",
       "    </tr>\n",
       "    <tr>\n",
       "      <th>1</th>\n",
       "      <td>5437</td>\n",
       "      <td>2017-11-19</td>\n",
       "      <td>7:12</td>\n",
       "      <td>Migori</td>\n",
       "      <td>Nairobi</td>\n",
       "      <td>Bus</td>\n",
       "      <td>49</td>\n",
       "      <td>1</td>\n",
       "      <td>7</td>\n",
       "      <td>12</td>\n",
       "      <td>0</td>\n",
       "      <td>2017-11</td>\n",
       "      <td>19</td>\n",
       "      <td>11</td>\n",
       "      <td>2017</td>\n",
       "    </tr>\n",
       "    <tr>\n",
       "      <th>2</th>\n",
       "      <td>5710</td>\n",
       "      <td>2017-11-26</td>\n",
       "      <td>7:05</td>\n",
       "      <td>Keroka</td>\n",
       "      <td>Nairobi</td>\n",
       "      <td>Bus</td>\n",
       "      <td>49</td>\n",
       "      <td>1</td>\n",
       "      <td>7</td>\n",
       "      <td>5</td>\n",
       "      <td>0</td>\n",
       "      <td>2017-11</td>\n",
       "      <td>26</td>\n",
       "      <td>11</td>\n",
       "      <td>2017</td>\n",
       "    </tr>\n",
       "    <tr>\n",
       "      <th>3</th>\n",
       "      <td>5777</td>\n",
       "      <td>2017-11-27</td>\n",
       "      <td>7:10</td>\n",
       "      <td>Homa Bay</td>\n",
       "      <td>Nairobi</td>\n",
       "      <td>Bus</td>\n",
       "      <td>49</td>\n",
       "      <td>5</td>\n",
       "      <td>7</td>\n",
       "      <td>10</td>\n",
       "      <td>1</td>\n",
       "      <td>2017-11</td>\n",
       "      <td>27</td>\n",
       "      <td>11</td>\n",
       "      <td>2017</td>\n",
       "    </tr>\n",
       "    <tr>\n",
       "      <th>4</th>\n",
       "      <td>5778</td>\n",
       "      <td>2017-11-27</td>\n",
       "      <td>7:12</td>\n",
       "      <td>Migori</td>\n",
       "      <td>Nairobi</td>\n",
       "      <td>Bus</td>\n",
       "      <td>49</td>\n",
       "      <td>31</td>\n",
       "      <td>7</td>\n",
       "      <td>12</td>\n",
       "      <td>1</td>\n",
       "      <td>2017-11</td>\n",
       "      <td>27</td>\n",
       "      <td>11</td>\n",
       "      <td>2017</td>\n",
       "    </tr>\n",
       "  </tbody>\n",
       "</table>\n",
       "</div>"
      ],
      "text/plain": [
       "   ride_id travel_date travel_time travel_from travel_to car_type  \\\n",
       "0     1442  2017-10-17        7:15      Migori   Nairobi      Bus   \n",
       "1     5437  2017-11-19        7:12      Migori   Nairobi      Bus   \n",
       "2     5710  2017-11-26        7:05      Keroka   Nairobi      Bus   \n",
       "3     5777  2017-11-27        7:10    Homa Bay   Nairobi      Bus   \n",
       "4     5778  2017-11-27        7:12      Migori   Nairobi      Bus   \n",
       "\n",
       "   max_capacity  number_of_tickets  Hour  Minute  Day_week year_Month Day  \\\n",
       "0            49                  1     7      15         2    2017-10  17   \n",
       "1            49                  1     7      12         0    2017-11  19   \n",
       "2            49                  1     7       5         0    2017-11  26   \n",
       "3            49                  5     7      10         1    2017-11  27   \n",
       "4            49                 31     7      12         1    2017-11  27   \n",
       "\n",
       "  Month  year  \n",
       "0    10  2017  \n",
       "1    11  2017  \n",
       "2    11  2017  \n",
       "3    11  2017  \n",
       "4    11  2017  "
      ]
     },
     "execution_count": 10,
     "metadata": {},
     "output_type": "execute_result"
    }
   ],
   "source": [
    "data_revised.head()"
   ]
  },
  {
   "cell_type": "code",
   "execution_count": null,
   "metadata": {},
   "outputs": [],
   "source": []
  },
  {
   "cell_type": "markdown",
   "metadata": {},
   "source": [
    "## Datas Visualisation"
   ]
  },
  {
   "cell_type": "code",
   "execution_count": 8,
   "metadata": {},
   "outputs": [
    {
     "data": {
      "text/plain": [
       "<matplotlib.axes._subplots.AxesSubplot at 0x13ed7ba6278>"
      ]
     },
     "execution_count": 8,
     "metadata": {},
     "output_type": "execute_result"
    },
    {
     "data": {
      "image/png": "[encoded data removed]",
      "text/plain": [
       "<Figure size 432x288 with 1 Axes>"
      ]
     },
     "metadata": {
      "needs_background": "light"
     },
     "output_type": "display_data"
    }
   ],
   "source": [
    "data_revised['travel_from'].value_counts().plot.bar()"
   ]
  },
  {
   "cell_type": "code",
   "execution_count": 12,
   "metadata": {},
   "outputs": [
    {
     "data": {
      "text/plain": [
       "<matplotlib.axes._subplots.AxesSubplot at 0x13ed8585da0>"
      ]
     },
     "execution_count": 12,
     "metadata": {},
     "output_type": "execute_result"
    },
    {
     "data": {
      "image/png": "[encoded data removed]",
      "text/plain": [
       "<Figure size 432x288 with 1 Axes>"
      ]
     },
     "metadata": {
      "needs_background": "light"
     },
     "output_type": "display_data"
    }
   ],
   "source": [
    "# Here we are looking at how the plot of traveling time behave\n",
    "data_revised['travel_time'].value_counts().plot.bar()"
   ]
  },
  {
   "cell_type": "code",
   "execution_count": 9,
   "metadata": {},
   "outputs": [
    {
     "data": {
      "text/plain": [
       "<matplotlib.axes._subplots.AxesSubplot at 0x13ed8304f28>"
      ]
     },
     "execution_count": 9,
     "metadata": {},
     "output_type": "execute_result"
    },
    {
     "data": {
      "image/png": "[encoded data removed]",
      "text/plain": [
       "<Figure size 432x288 with 1 Axes>"
      ]
     },
     "metadata": {
      "needs_background": "light"
     },
     "output_type": "display_data"
    }
   ],
   "source": [
    "data_revised['Hour'].value_counts().plot.bar()"
   ]
  },
  {
   "cell_type": "code",
   "execution_count": 10,
   "metadata": {},
   "outputs": [
    {
     "data": {
      "text/plain": [
       "<matplotlib.axes._subplots.AxesSubplot at 0x20558ee1940>"
      ]
     },
     "execution_count": 10,
     "metadata": {},
     "output_type": "execute_result"
    },
    {
     "data": {
      "image/png": "[encoded data removed]",
      "text/plain": [
       "<Figure size 432x288 with 1 Axes>"
      ]
     },
     "metadata": {
      "needs_background": "light"
     },
     "output_type": "display_data"
    }
   ],
   "source": [
    "data_revised['year_Month'].value_counts().plot.bar()"
   ]
  },
  {
   "cell_type": "code",
   "execution_count": 12,
   "metadata": {},
   "outputs": [
    {
     "data": {
      "text/plain": [
       "<matplotlib.axes._subplots.AxesSubplot at 0x20558ee1048>"
      ]
     },
     "execution_count": 12,
     "metadata": {},
     "output_type": "execute_result"
    },
    {
     "data": {
      "image/png": "[encoded data removed]",
      "text/plain": [
       "<Figure size 432x288 with 1 Axes>"
      ]
     },
     "metadata": {
      "needs_background": "light"
     },
     "output_type": "display_data"
    }
   ],
   "source": [
    "# This is for the competition purpose\n",
    "# This is the cities that are concerned in the test set \n",
    "df_test_set.travel_from.value_counts().plot.bar()"
   ]
  },
  {
   "cell_type": "markdown",
   "metadata": {},
   "source": [
    "As Keumbu is not part of our study and is not in the testing sample provided by zindi, we decided to look at it as noice in the data and removed it."
   ]
  },
  {
   "cell_type": "code",
   "execution_count": 13,
   "metadata": {},
   "outputs": [],
   "source": [
    "# Removing occurance of Keumbu\n",
    "data_revised.drop(data_revised[data_revised['travel_from']=='Keumbu'].index, inplace=True)\n",
    "\n",
    "# Removing occurance of Kendu bay not in the test set\n",
    "data_revised.drop(data_revised[data_revised['travel_from']=='Kendu Bay'].index, inplace=True)\n"
   ]
  },
  {
   "cell_type": "code",
   "execution_count": 14,
   "metadata": {},
   "outputs": [
    {
     "data": {
      "text/plain": [
       "<matplotlib.axes._subplots.AxesSubplot at 0x13ed81a4668>"
      ]
     },
     "execution_count": 14,
     "metadata": {},
     "output_type": "execute_result"
    },
    {
     "data": {
      "image/png": "[encoded data removed]",
      "text/plain": [
       "<Figure size 432x288 with 1 Axes>"
      ]
     },
     "metadata": {
      "needs_background": "light"
     },
     "output_type": "display_data"
    }
   ],
   "source": [
    "data_revised['travel_from'].value_counts().plot.bar()"
   ]
  },
  {
   "cell_type": "code",
   "execution_count": 15,
   "metadata": {},
   "outputs": [
    {
     "data": {
      "text/html": [
       "<div>\n",
       "<style scoped>\n",
       "    .dataframe tbody tr th:only-of-type {\n",
       "        vertical-align: middle;\n",
       "    }\n",
       "\n",
       "    .dataframe tbody tr th {\n",
       "        vertical-align: top;\n",
       "    }\n",
       "\n",
       "    .dataframe thead th {\n",
       "        text-align: right;\n",
       "    }\n",
       "</style>\n",
       "<table border=\"1\" class=\"dataframe\">\n",
       "  <thead>\n",
       "    <tr style=\"text-align: right;\">\n",
       "      <th></th>\n",
       "      <th>ride_id</th>\n",
       "      <th>travel_date</th>\n",
       "      <th>travel_time</th>\n",
       "      <th>travel_from</th>\n",
       "      <th>travel_to</th>\n",
       "      <th>car_type</th>\n",
       "      <th>max_capacity</th>\n",
       "      <th>number_of_tickets</th>\n",
       "      <th>Hour</th>\n",
       "      <th>Minute</th>\n",
       "      <th>Day_week</th>\n",
       "      <th>year_Month</th>\n",
       "      <th>Day</th>\n",
       "      <th>Month</th>\n",
       "      <th>year</th>\n",
       "    </tr>\n",
       "  </thead>\n",
       "  <tbody>\n",
       "    <tr>\n",
       "      <th>0</th>\n",
       "      <td>1442</td>\n",
       "      <td>2017-10-17</td>\n",
       "      <td>7:15</td>\n",
       "      <td>Migori</td>\n",
       "      <td>Nairobi</td>\n",
       "      <td>Bus</td>\n",
       "      <td>49</td>\n",
       "      <td>1</td>\n",
       "      <td>7</td>\n",
       "      <td>15</td>\n",
       "      <td>2</td>\n",
       "      <td>2017-10</td>\n",
       "      <td>17</td>\n",
       "      <td>10</td>\n",
       "      <td>2017</td>\n",
       "    </tr>\n",
       "    <tr>\n",
       "      <th>1</th>\n",
       "      <td>5437</td>\n",
       "      <td>2017-11-19</td>\n",
       "      <td>7:12</td>\n",
       "      <td>Migori</td>\n",
       "      <td>Nairobi</td>\n",
       "      <td>Bus</td>\n",
       "      <td>49</td>\n",
       "      <td>1</td>\n",
       "      <td>7</td>\n",
       "      <td>12</td>\n",
       "      <td>0</td>\n",
       "      <td>2017-11</td>\n",
       "      <td>19</td>\n",
       "      <td>11</td>\n",
       "      <td>2017</td>\n",
       "    </tr>\n",
       "    <tr>\n",
       "      <th>2</th>\n",
       "      <td>5710</td>\n",
       "      <td>2017-11-26</td>\n",
       "      <td>7:05</td>\n",
       "      <td>Keroka</td>\n",
       "      <td>Nairobi</td>\n",
       "      <td>Bus</td>\n",
       "      <td>49</td>\n",
       "      <td>1</td>\n",
       "      <td>7</td>\n",
       "      <td>5</td>\n",
       "      <td>0</td>\n",
       "      <td>2017-11</td>\n",
       "      <td>26</td>\n",
       "      <td>11</td>\n",
       "      <td>2017</td>\n",
       "    </tr>\n",
       "    <tr>\n",
       "      <th>3</th>\n",
       "      <td>5777</td>\n",
       "      <td>2017-11-27</td>\n",
       "      <td>7:10</td>\n",
       "      <td>Homa Bay</td>\n",
       "      <td>Nairobi</td>\n",
       "      <td>Bus</td>\n",
       "      <td>49</td>\n",
       "      <td>5</td>\n",
       "      <td>7</td>\n",
       "      <td>10</td>\n",
       "      <td>1</td>\n",
       "      <td>2017-11</td>\n",
       "      <td>27</td>\n",
       "      <td>11</td>\n",
       "      <td>2017</td>\n",
       "    </tr>\n",
       "    <tr>\n",
       "      <th>4</th>\n",
       "      <td>5778</td>\n",
       "      <td>2017-11-27</td>\n",
       "      <td>7:12</td>\n",
       "      <td>Migori</td>\n",
       "      <td>Nairobi</td>\n",
       "      <td>Bus</td>\n",
       "      <td>49</td>\n",
       "      <td>31</td>\n",
       "      <td>7</td>\n",
       "      <td>12</td>\n",
       "      <td>1</td>\n",
       "      <td>2017-11</td>\n",
       "      <td>27</td>\n",
       "      <td>11</td>\n",
       "      <td>2017</td>\n",
       "    </tr>\n",
       "  </tbody>\n",
       "</table>\n",
       "</div>"
      ],
      "text/plain": [
       "   ride_id travel_date travel_time travel_from travel_to car_type  \\\n",
       "0     1442  2017-10-17        7:15      Migori   Nairobi      Bus   \n",
       "1     5437  2017-11-19        7:12      Migori   Nairobi      Bus   \n",
       "2     5710  2017-11-26        7:05      Keroka   Nairobi      Bus   \n",
       "3     5777  2017-11-27        7:10    Homa Bay   Nairobi      Bus   \n",
       "4     5778  2017-11-27        7:12      Migori   Nairobi      Bus   \n",
       "\n",
       "   max_capacity  number_of_tickets  Hour  Minute  Day_week year_Month Day  \\\n",
       "0            49                  1     7      15         2    2017-10  17   \n",
       "1            49                  1     7      12         0    2017-11  19   \n",
       "2            49                  1     7       5         0    2017-11  26   \n",
       "3            49                  5     7      10         1    2017-11  27   \n",
       "4            49                 31     7      12         1    2017-11  27   \n",
       "\n",
       "  Month  year  \n",
       "0    10  2017  \n",
       "1    11  2017  \n",
       "2    11  2017  \n",
       "3    11  2017  \n",
       "4    11  2017  "
      ]
     },
     "execution_count": 15,
     "metadata": {},
     "output_type": "execute_result"
    }
   ],
   "source": [
    "data_revised.head()"
   ]
  },
  {
   "cell_type": "markdown",
   "metadata": {},
   "source": [
    "We are doing some feature engeneering that will increase the accuracy of our predictor."
   ]
  },
  {
   "cell_type": "code",
   "execution_count": 16,
   "metadata": {},
   "outputs": [],
   "source": [
    "def classOur(x) :\n",
    "    if (int(x[0])==7):\n",
    "        return 1\n",
    "    return 2\n",
    "# Creating a new column to group time\n",
    "data_revised[\"Time_classify\"] = data_revised[\"travel_time\"].str.split(':').apply(classOur)\n",
    "\n",
    "def classProv(x) :\n",
    "    if (x[0]=='Kisii'):\n",
    "        return 1\n",
    "    return 2\n",
    "\n",
    "# Creating a new column to group the orgin\n",
    "data_revised[\"Class_Prov\"] = data_revised[\"travel_from\"].str.split(':').apply(classProv)\n",
    "\n",
    "\n",
    "def classdate(x) :\n",
    "#     if (x[0]=='2018/01' or x[0]=='2018/02' or x[0]=='2018/03' or x[0]=='2018/04' or x[0]=='2017/12'):\n",
    "    if (((x[0]=='2017') and (x[1]=='12')) or \n",
    "       ((x[0]=='2018') and (x[1]=='01')) or\n",
    "       ((x[0]=='2018') and (x[1]=='02')) or\n",
    "       ((x[0]=='2018') and (x[1]=='03')) or\n",
    "       ((x[0]=='2018') and (x[1]=='04'))):\n",
    "        return 1\n",
    "    return 2\n",
    "\n",
    "data_revised[\"Class_Data\"] = data_revised[\"year_Month\"].str.split('-').apply(classdate)"
   ]
  },
  {
   "cell_type": "code",
   "execution_count": 17,
   "metadata": {},
   "outputs": [
    {
     "data": {
      "text/plain": [
       "<matplotlib.axes._subplots.AxesSubplot at 0x13ed88c2a58>"
      ]
     },
     "execution_count": 17,
     "metadata": {},
     "output_type": "execute_result"
    },
    {
     "data": {
      "image/png": "[encoded data removed]",
      "text/plain": [
       "<Figure size 432x288 with 1 Axes>"
      ]
     },
     "metadata": {
      "needs_background": "light"
     },
     "output_type": "display_data"
    }
   ],
   "source": [
    "data_revised.Time_classify.value_counts().plot.bar()"
   ]
  },
  {
   "cell_type": "code",
   "execution_count": 18,
   "metadata": {},
   "outputs": [
    {
     "data": {
      "text/plain": [
       "<matplotlib.axes._subplots.AxesSubplot at 0x2055908ba58>"
      ]
     },
     "execution_count": 18,
     "metadata": {},
     "output_type": "execute_result"
    },
    {
     "data": {
      "image/png": "[encoded data removed]",
      "text/plain": [
       "<Figure size 432x288 with 1 Axes>"
      ]
     },
     "metadata": {
      "needs_background": "light"
     },
     "output_type": "display_data"
    }
   ],
   "source": [
    "data_revised.Class_Prov.value_counts().plot.bar()"
   ]
  },
  {
   "cell_type": "code",
   "execution_count": 19,
   "metadata": {},
   "outputs": [
    {
     "data": {
      "text/plain": [
       "<matplotlib.axes._subplots.AxesSubplot at 0x205591bc278>"
      ]
     },
     "execution_count": 19,
     "metadata": {},
     "output_type": "execute_result"
    },
    {
     "data": {
      "image/png": "[encoded data removed]",
      "text/plain": [
       "<Figure size 432x288 with 1 Axes>"
      ]
     },
     "metadata": {
      "needs_background": "light"
     },
     "output_type": "display_data"
    }
   ],
   "source": [
    "data_revised.Class_Data.value_counts().plot.bar()"
   ]
  },
  {
   "cell_type": "markdown",
   "metadata": {},
   "source": [
    "As Random Forest require the input features to have numerical values, we will have to change our categorical variable, in such a way that they can be viewed by our model as numerical values."
   ]
  },
  {
   "cell_type": "code",
   "execution_count": 18,
   "metadata": {},
   "outputs": [],
   "source": [
    "data_revised[\"travel_date\"] = pd.to_datetime(data_revised[\"travel_date\"],infer_datetime_format=True)\n",
    "data_revised[\"travel_date\"] = data_revised[\"travel_date\"].dt.dayofweek #change the full date to day of week\n",
    "\n",
    "data_revised[\"car_type\"] = pd.Categorical(data_revised[\"car_type\"])\n",
    "# car_type_categories = data_revised.car_type.cat.categories\n",
    "data_revised[\"car_type\"] = data_revised.car_type.cat.codes\n",
    "\n",
    "data_revised[\"travel_from\"] = pd.Categorical(data_revised[\"travel_from\"])\n",
    "# travel_from_categories = data_revised.travel_from.cat.categories\n",
    "data_revised[\"travel_from\"] = data_revised.travel_from.cat.codes\n",
    "\n",
    "data_revised[\"travel_to\"] = pd.Categorical(data_revised[\"travel_to\"])\n",
    "data_revised[\"travel_to\"] = data_revised.travel_to.cat.codes\n",
    "\n",
    "data_revised[\"travel_time\"] = data_revised[\"travel_time\"].str.split(':').apply(lambda x: int(x[0]) * 60 + int(x[1]))\n",
    "\n",
    "# data_revised[\"travel_time\"] = data_revised[\"travel_time\"].str.split(':').apply(lambda x: int(x[0]))"
   ]
  },
  {
   "cell_type": "code",
   "execution_count": 19,
   "metadata": {},
   "outputs": [
    {
     "data": {
      "text/plain": [
       "<matplotlib.axes._subplots.AxesSubplot at 0x13ed858a080>"
      ]
     },
     "execution_count": 19,
     "metadata": {},
     "output_type": "execute_result"
    },
    {
     "data": {
      "image/png": "[encoded data removed]",
      "text/plain": [
       "<Figure size 432x288 with 1 Axes>"
      ]
     },
     "metadata": {
      "needs_background": "light"
     },
     "output_type": "display_data"
    }
   ],
   "source": [
    "data_revised['travel_from'].value_counts().plot.bar()"
   ]
  },
  {
   "cell_type": "code",
   "execution_count": 20,
   "metadata": {},
   "outputs": [
    {
     "data": {
      "text/plain": [
       "<matplotlib.axes._subplots.AxesSubplot at 0x13ed87725f8>"
      ]
     },
     "execution_count": 20,
     "metadata": {},
     "output_type": "execute_result"
    },
    {
     "data": {
      "image/png": "[encoded data removed]",
      "text/plain": [
       "<Figure size 432x288 with 1 Axes>"
      ]
     },
     "metadata": {
      "needs_background": "light"
     },
     "output_type": "display_data"
    }
   ],
   "source": [
    "data_revised['Hour'].value_counts().plot.bar()"
   ]
  },
  {
   "cell_type": "code",
   "execution_count": 21,
   "metadata": {},
   "outputs": [
    {
     "data": {
      "text/html": [
       "<div>\n",
       "<style scoped>\n",
       "    .dataframe tbody tr th:only-of-type {\n",
       "        vertical-align: middle;\n",
       "    }\n",
       "\n",
       "    .dataframe tbody tr th {\n",
       "        vertical-align: top;\n",
       "    }\n",
       "\n",
       "    .dataframe thead th {\n",
       "        text-align: right;\n",
       "    }\n",
       "</style>\n",
       "<table border=\"1\" class=\"dataframe\">\n",
       "  <thead>\n",
       "    <tr style=\"text-align: right;\">\n",
       "      <th></th>\n",
       "      <th>ride_id</th>\n",
       "      <th>travel_date</th>\n",
       "      <th>travel_time</th>\n",
       "      <th>travel_from</th>\n",
       "      <th>travel_to</th>\n",
       "      <th>car_type</th>\n",
       "      <th>max_capacity</th>\n",
       "      <th>number_of_tickets</th>\n",
       "      <th>Hour</th>\n",
       "      <th>Minute</th>\n",
       "      <th>Day_week</th>\n",
       "      <th>year_Month</th>\n",
       "      <th>Day</th>\n",
       "      <th>Month</th>\n",
       "      <th>year</th>\n",
       "      <th>Time_classify</th>\n",
       "      <th>Class_Prov</th>\n",
       "      <th>Class_Data</th>\n",
       "    </tr>\n",
       "  </thead>\n",
       "  <tbody>\n",
       "    <tr>\n",
       "      <th>0</th>\n",
       "      <td>1442</td>\n",
       "      <td>1</td>\n",
       "      <td>435</td>\n",
       "      <td>7</td>\n",
       "      <td>0</td>\n",
       "      <td>0</td>\n",
       "      <td>49</td>\n",
       "      <td>1</td>\n",
       "      <td>7</td>\n",
       "      <td>15</td>\n",
       "      <td>2</td>\n",
       "      <td>2017-10</td>\n",
       "      <td>17</td>\n",
       "      <td>10</td>\n",
       "      <td>2017</td>\n",
       "      <td>1</td>\n",
       "      <td>2</td>\n",
       "      <td>2</td>\n",
       "    </tr>\n",
       "    <tr>\n",
       "      <th>1</th>\n",
       "      <td>5437</td>\n",
       "      <td>6</td>\n",
       "      <td>432</td>\n",
       "      <td>7</td>\n",
       "      <td>0</td>\n",
       "      <td>0</td>\n",
       "      <td>49</td>\n",
       "      <td>1</td>\n",
       "      <td>7</td>\n",
       "      <td>12</td>\n",
       "      <td>0</td>\n",
       "      <td>2017-11</td>\n",
       "      <td>19</td>\n",
       "      <td>11</td>\n",
       "      <td>2017</td>\n",
       "      <td>1</td>\n",
       "      <td>2</td>\n",
       "      <td>2</td>\n",
       "    </tr>\n",
       "    <tr>\n",
       "      <th>2</th>\n",
       "      <td>5710</td>\n",
       "      <td>6</td>\n",
       "      <td>425</td>\n",
       "      <td>3</td>\n",
       "      <td>0</td>\n",
       "      <td>0</td>\n",
       "      <td>49</td>\n",
       "      <td>1</td>\n",
       "      <td>7</td>\n",
       "      <td>5</td>\n",
       "      <td>0</td>\n",
       "      <td>2017-11</td>\n",
       "      <td>26</td>\n",
       "      <td>11</td>\n",
       "      <td>2017</td>\n",
       "      <td>1</td>\n",
       "      <td>2</td>\n",
       "      <td>2</td>\n",
       "    </tr>\n",
       "    <tr>\n",
       "      <th>3</th>\n",
       "      <td>5777</td>\n",
       "      <td>0</td>\n",
       "      <td>430</td>\n",
       "      <td>1</td>\n",
       "      <td>0</td>\n",
       "      <td>0</td>\n",
       "      <td>49</td>\n",
       "      <td>5</td>\n",
       "      <td>7</td>\n",
       "      <td>10</td>\n",
       "      <td>1</td>\n",
       "      <td>2017-11</td>\n",
       "      <td>27</td>\n",
       "      <td>11</td>\n",
       "      <td>2017</td>\n",
       "      <td>1</td>\n",
       "      <td>2</td>\n",
       "      <td>2</td>\n",
       "    </tr>\n",
       "    <tr>\n",
       "      <th>4</th>\n",
       "      <td>5778</td>\n",
       "      <td>0</td>\n",
       "      <td>432</td>\n",
       "      <td>7</td>\n",
       "      <td>0</td>\n",
       "      <td>0</td>\n",
       "      <td>49</td>\n",
       "      <td>31</td>\n",
       "      <td>7</td>\n",
       "      <td>12</td>\n",
       "      <td>1</td>\n",
       "      <td>2017-11</td>\n",
       "      <td>27</td>\n",
       "      <td>11</td>\n",
       "      <td>2017</td>\n",
       "      <td>1</td>\n",
       "      <td>2</td>\n",
       "      <td>2</td>\n",
       "    </tr>\n",
       "  </tbody>\n",
       "</table>\n",
       "</div>"
      ],
      "text/plain": [
       "   ride_id  travel_date  travel_time  travel_from  travel_to  car_type  \\\n",
       "0     1442            1          435            7          0         0   \n",
       "1     5437            6          432            7          0         0   \n",
       "2     5710            6          425            3          0         0   \n",
       "3     5777            0          430            1          0         0   \n",
       "4     5778            0          432            7          0         0   \n",
       "\n",
       "   max_capacity  number_of_tickets  Hour  Minute  Day_week year_Month Day  \\\n",
       "0            49                  1     7      15         2    2017-10  17   \n",
       "1            49                  1     7      12         0    2017-11  19   \n",
       "2            49                  1     7       5         0    2017-11  26   \n",
       "3            49                  5     7      10         1    2017-11  27   \n",
       "4            49                 31     7      12         1    2017-11  27   \n",
       "\n",
       "  Month  year  Time_classify  Class_Prov  Class_Data  \n",
       "0    10  2017              1           2           2  \n",
       "1    11  2017              1           2           2  \n",
       "2    11  2017              1           2           2  \n",
       "3    11  2017              1           2           2  \n",
       "4    11  2017              1           2           2  "
      ]
     },
     "execution_count": 21,
     "metadata": {},
     "output_type": "execute_result"
    }
   ],
   "source": [
    "data_revised.head()"
   ]
  },
  {
   "cell_type": "code",
   "execution_count": null,
   "metadata": {},
   "outputs": [],
   "source": []
  },
  {
   "cell_type": "markdown",
   "metadata": {},
   "source": [
    "# Model"
   ]
  },
  {
   "cell_type": "code",
   "execution_count": 25,
   "metadata": {},
   "outputs": [
    {
     "data": {
      "text/html": [
       "<div>\n",
       "<style scoped>\n",
       "    .dataframe tbody tr th:only-of-type {\n",
       "        vertical-align: middle;\n",
       "    }\n",
       "\n",
       "    .dataframe tbody tr th {\n",
       "        vertical-align: top;\n",
       "    }\n",
       "\n",
       "    .dataframe thead th {\n",
       "        text-align: right;\n",
       "    }\n",
       "</style>\n",
       "<table border=\"1\" class=\"dataframe\">\n",
       "  <thead>\n",
       "    <tr style=\"text-align: right;\">\n",
       "      <th></th>\n",
       "      <th>ride_id</th>\n",
       "      <th>travel_date</th>\n",
       "      <th>travel_time</th>\n",
       "      <th>travel_from</th>\n",
       "      <th>travel_to</th>\n",
       "      <th>car_type</th>\n",
       "      <th>max_capacity</th>\n",
       "      <th>number_of_tickets</th>\n",
       "      <th>Hour</th>\n",
       "      <th>Minute</th>\n",
       "      <th>Day_week</th>\n",
       "      <th>year_Month</th>\n",
       "      <th>Day</th>\n",
       "      <th>Month</th>\n",
       "      <th>year</th>\n",
       "      <th>Time_classify</th>\n",
       "      <th>Class_Prov</th>\n",
       "      <th>Class_Data</th>\n",
       "    </tr>\n",
       "  </thead>\n",
       "  <tbody>\n",
       "    <tr>\n",
       "      <th>0</th>\n",
       "      <td>1442</td>\n",
       "      <td>1</td>\n",
       "      <td>435</td>\n",
       "      <td>7</td>\n",
       "      <td>0</td>\n",
       "      <td>0</td>\n",
       "      <td>49</td>\n",
       "      <td>1</td>\n",
       "      <td>7</td>\n",
       "      <td>15</td>\n",
       "      <td>2</td>\n",
       "      <td>2017-10</td>\n",
       "      <td>17</td>\n",
       "      <td>10</td>\n",
       "      <td>2017</td>\n",
       "      <td>1</td>\n",
       "      <td>2</td>\n",
       "      <td>2</td>\n",
       "    </tr>\n",
       "    <tr>\n",
       "      <th>1</th>\n",
       "      <td>5437</td>\n",
       "      <td>6</td>\n",
       "      <td>432</td>\n",
       "      <td>7</td>\n",
       "      <td>0</td>\n",
       "      <td>0</td>\n",
       "      <td>49</td>\n",
       "      <td>1</td>\n",
       "      <td>7</td>\n",
       "      <td>12</td>\n",
       "      <td>0</td>\n",
       "      <td>2017-11</td>\n",
       "      <td>19</td>\n",
       "      <td>11</td>\n",
       "      <td>2017</td>\n",
       "      <td>1</td>\n",
       "      <td>2</td>\n",
       "      <td>2</td>\n",
       "    </tr>\n",
       "    <tr>\n",
       "      <th>2</th>\n",
       "      <td>5710</td>\n",
       "      <td>6</td>\n",
       "      <td>425</td>\n",
       "      <td>3</td>\n",
       "      <td>0</td>\n",
       "      <td>0</td>\n",
       "      <td>49</td>\n",
       "      <td>1</td>\n",
       "      <td>7</td>\n",
       "      <td>5</td>\n",
       "      <td>0</td>\n",
       "      <td>2017-11</td>\n",
       "      <td>26</td>\n",
       "      <td>11</td>\n",
       "      <td>2017</td>\n",
       "      <td>1</td>\n",
       "      <td>2</td>\n",
       "      <td>2</td>\n",
       "    </tr>\n",
       "    <tr>\n",
       "      <th>3</th>\n",
       "      <td>5777</td>\n",
       "      <td>0</td>\n",
       "      <td>430</td>\n",
       "      <td>1</td>\n",
       "      <td>0</td>\n",
       "      <td>0</td>\n",
       "      <td>49</td>\n",
       "      <td>5</td>\n",
       "      <td>7</td>\n",
       "      <td>10</td>\n",
       "      <td>1</td>\n",
       "      <td>2017-11</td>\n",
       "      <td>27</td>\n",
       "      <td>11</td>\n",
       "      <td>2017</td>\n",
       "      <td>1</td>\n",
       "      <td>2</td>\n",
       "      <td>2</td>\n",
       "    </tr>\n",
       "    <tr>\n",
       "      <th>4</th>\n",
       "      <td>5778</td>\n",
       "      <td>0</td>\n",
       "      <td>432</td>\n",
       "      <td>7</td>\n",
       "      <td>0</td>\n",
       "      <td>0</td>\n",
       "      <td>49</td>\n",
       "      <td>31</td>\n",
       "      <td>7</td>\n",
       "      <td>12</td>\n",
       "      <td>1</td>\n",
       "      <td>2017-11</td>\n",
       "      <td>27</td>\n",
       "      <td>11</td>\n",
       "      <td>2017</td>\n",
       "      <td>1</td>\n",
       "      <td>2</td>\n",
       "      <td>2</td>\n",
       "    </tr>\n",
       "  </tbody>\n",
       "</table>\n",
       "</div>"
      ],
      "text/plain": [
       "   ride_id  travel_date  travel_time  travel_from  travel_to  car_type  \\\n",
       "0     1442            1          435            7          0         0   \n",
       "1     5437            6          432            7          0         0   \n",
       "2     5710            6          425            3          0         0   \n",
       "3     5777            0          430            1          0         0   \n",
       "4     5778            0          432            7          0         0   \n",
       "\n",
       "   max_capacity  number_of_tickets  Hour  Minute  Day_week year_Month Day  \\\n",
       "0            49                  1     7      15         2    2017-10  17   \n",
       "1            49                  1     7      12         0    2017-11  19   \n",
       "2            49                  1     7       5         0    2017-11  26   \n",
       "3            49                  5     7      10         1    2017-11  27   \n",
       "4            49                 31     7      12         1    2017-11  27   \n",
       "\n",
       "  Month  year  Time_classify  Class_Prov  Class_Data  \n",
       "0    10  2017              1           2           2  \n",
       "1    11  2017              1           2           2  \n",
       "2    11  2017              1           2           2  \n",
       "3    11  2017              1           2           2  \n",
       "4    11  2017              1           2           2  "
      ]
     },
     "execution_count": 25,
     "metadata": {},
     "output_type": "execute_result"
    }
   ],
   "source": [
    "data_revised.head()"
   ]
  },
  {
   "cell_type": "code",
   "execution_count": 77,
   "metadata": {},
   "outputs": [
    {
     "name": "stdout",
     "output_type": "stream",
     "text": [
      "Train set: (4982, 6) (4982,)\n",
      "Test set: (1246, 6) (1246,)\n"
     ]
    }
   ],
   "source": [
    "from sklearn.model_selection import train_test_split\n",
    "\n",
    "# We put features that will help us predict number of ticket together in X\n",
    "# X = data_revised[[\"travel_date\", \"travel_time\", \"travel_from\", \"car_type\", \"max_capacity\"]]\n",
    "X = data_revised[[\"Day_week\",  \"Time_classify\", \"travel_time\", \"travel_from\", \"car_type\", \"max_capacity\"]]\n",
    "\n",
    "# For competition\n",
    "X_comp = data_revised[[\"Day_week\", \"Class_Data\", \"Time_classify\", \"travel_time\", \"travel_from\", \"car_type\", \"max_capacity\"]]\n",
    "\n",
    "\n",
    "# Our target variable is the number of ticket \n",
    "y = data_revised.number_of_tickets\n",
    "\n",
    "# 20% testing and 80% Training \n",
    "X_train, X_test, y_train, y_test = train_test_split( X, y, test_size=0.2, random_state=4)\n",
    "\n",
    "print ('Train set:', X_train.shape,  y_train.shape)\n",
    "print ('Test set:', X_test.shape,  y_test.shape)"
   ]
  },
  {
   "cell_type": "code",
   "execution_count": 78,
   "metadata": {},
   "outputs": [
    {
     "data": {
      "text/html": [
       "<div>\n",
       "<style scoped>\n",
       "    .dataframe tbody tr th:only-of-type {\n",
       "        vertical-align: middle;\n",
       "    }\n",
       "\n",
       "    .dataframe tbody tr th {\n",
       "        vertical-align: top;\n",
       "    }\n",
       "\n",
       "    .dataframe thead th {\n",
       "        text-align: right;\n",
       "    }\n",
       "</style>\n",
       "<table border=\"1\" class=\"dataframe\">\n",
       "  <thead>\n",
       "    <tr style=\"text-align: right;\">\n",
       "      <th></th>\n",
       "      <th>Day_week</th>\n",
       "      <th>Time_classify</th>\n",
       "      <th>travel_time</th>\n",
       "      <th>travel_from</th>\n",
       "      <th>car_type</th>\n",
       "      <th>max_capacity</th>\n",
       "    </tr>\n",
       "  </thead>\n",
       "  <tbody>\n",
       "    <tr>\n",
       "      <th>0</th>\n",
       "      <td>2</td>\n",
       "      <td>1</td>\n",
       "      <td>435</td>\n",
       "      <td>7</td>\n",
       "      <td>0</td>\n",
       "      <td>49</td>\n",
       "    </tr>\n",
       "    <tr>\n",
       "      <th>1</th>\n",
       "      <td>0</td>\n",
       "      <td>1</td>\n",
       "      <td>432</td>\n",
       "      <td>7</td>\n",
       "      <td>0</td>\n",
       "      <td>49</td>\n",
       "    </tr>\n",
       "    <tr>\n",
       "      <th>2</th>\n",
       "      <td>0</td>\n",
       "      <td>1</td>\n",
       "      <td>425</td>\n",
       "      <td>3</td>\n",
       "      <td>0</td>\n",
       "      <td>49</td>\n",
       "    </tr>\n",
       "    <tr>\n",
       "      <th>3</th>\n",
       "      <td>1</td>\n",
       "      <td>1</td>\n",
       "      <td>430</td>\n",
       "      <td>1</td>\n",
       "      <td>0</td>\n",
       "      <td>49</td>\n",
       "    </tr>\n",
       "    <tr>\n",
       "      <th>4</th>\n",
       "      <td>1</td>\n",
       "      <td>1</td>\n",
       "      <td>432</td>\n",
       "      <td>7</td>\n",
       "      <td>0</td>\n",
       "      <td>49</td>\n",
       "    </tr>\n",
       "  </tbody>\n",
       "</table>\n",
       "</div>"
      ],
      "text/plain": [
       "   Day_week  Time_classify  travel_time  travel_from  car_type  max_capacity\n",
       "0         2              1          435            7         0            49\n",
       "1         0              1          432            7         0            49\n",
       "2         0              1          425            3         0            49\n",
       "3         1              1          430            1         0            49\n",
       "4         1              1          432            7         0            49"
      ]
     },
     "execution_count": 78,
     "metadata": {},
     "output_type": "execute_result"
    }
   ],
   "source": [
    "X.head()"
   ]
  },
  {
   "cell_type": "code",
   "execution_count": 79,
   "metadata": {},
   "outputs": [
    {
     "name": "stdout",
     "output_type": "stream",
     "text": [
      "<class 'pandas.core.frame.DataFrame'>\n",
      "Int64Index: 6228 entries, 0 to 6248\n",
      "Data columns (total 6 columns):\n",
      "Day_week         6228 non-null int64\n",
      "Time_classify    6228 non-null int64\n",
      "travel_time      6228 non-null int64\n",
      "travel_from      6228 non-null int8\n",
      "car_type         6228 non-null int8\n",
      "max_capacity     6228 non-null int64\n",
      "dtypes: int64(4), int8(2)\n",
      "memory usage: 255.4 KB\n"
     ]
    }
   ],
   "source": [
    "X.info()"
   ]
  },
  {
   "cell_type": "code",
   "execution_count": null,
   "metadata": {},
   "outputs": [],
   "source": []
  },
  {
   "cell_type": "markdown",
   "metadata": {},
   "source": [
    "## Random Forest"
   ]
  },
  {
   "cell_type": "markdown",
   "metadata": {},
   "source": [
    "### Spleet version"
   ]
  },
  {
   "cell_type": "code",
   "execution_count": 80,
   "metadata": {},
   "outputs": [],
   "source": [
    "model = RandomForestRegressor(n_estimators=100, criterion=\"mae\", n_jobs=-1)"
   ]
  },
  {
   "cell_type": "code",
   "execution_count": 81,
   "metadata": {},
   "outputs": [
    {
     "data": {
      "text/plain": [
       "RandomForestRegressor(bootstrap=True, criterion='mae', max_depth=None,\n",
       "           max_features='auto', max_leaf_nodes=None,\n",
       "           min_impurity_decrease=0.0, min_impurity_split=None,\n",
       "           min_samples_leaf=1, min_samples_split=2,\n",
       "           min_weight_fraction_leaf=0.0, n_estimators=100, n_jobs=-1,\n",
       "           oob_score=False, random_state=None, verbose=0, warm_start=False)"
      ]
     },
     "execution_count": 81,
     "metadata": {},
     "output_type": "execute_result"
    }
   ],
   "source": [
    "model.fit(X_train,y_train)"
   ]
  },
  {
   "cell_type": "code",
   "execution_count": 82,
   "metadata": {},
   "outputs": [],
   "source": [
    "y_preds = model.predict(X_test)"
   ]
  },
  {
   "cell_type": "code",
   "execution_count": 83,
   "metadata": {},
   "outputs": [],
   "source": [
    "# As the number of tickets is an integer value, we decided to change \n",
    "# The output to int.\n",
    "y_preds = np.rint(y_preds)"
   ]
  },
  {
   "cell_type": "markdown",
   "metadata": {},
   "source": [
    "#### Error Checking"
   ]
  },
  {
   "cell_type": "code",
   "execution_count": 84,
   "metadata": {},
   "outputs": [
    {
     "name": "stdout",
     "output_type": "stream",
     "text": [
      "3.877207062600321\n"
     ]
    }
   ],
   "source": [
    "print (mean_absolute_error(y_preds,y_test))"
   ]
  },
  {
   "cell_type": "code",
   "execution_count": null,
   "metadata": {},
   "outputs": [],
   "source": []
  },
  {
   "cell_type": "markdown",
   "metadata": {},
   "source": [
    "# Other Regressor Method"
   ]
  },
  {
   "cell_type": "markdown",
   "metadata": {},
   "source": [
    "## Linear Regression"
   ]
  },
  {
   "cell_type": "code",
   "execution_count": 29,
   "metadata": {},
   "outputs": [],
   "source": [
    "from sklearn import linear_model"
   ]
  },
  {
   "cell_type": "code",
   "execution_count": 30,
   "metadata": {},
   "outputs": [
    {
     "name": "stdout",
     "output_type": "stream",
     "text": [
      "Coefficient: \n",
      " [-0.07411651  0.01039034 -0.24487079 -0.0027544   0.10466724]\n",
      "Intercept: \n",
      " 1.5416459240408447\n"
     ]
    }
   ],
   "source": [
    "# Create linear regression object\n",
    "linear = linear_model.LinearRegression()\n",
    "# Train the model using the training sets and check score\n",
    "linear.fit(X_train, y_train)\n",
    "linear.score(X_train, y_train)\n",
    "#Equation coefficient and Intercept\n",
    "print('Coefficient: \\n', linear.coef_)\n",
    "print('Intercept: \\n', linear.intercept_)\n",
    "#Predict Output\n",
    "predicted= linear.predict(X_test)"
   ]
  },
  {
   "cell_type": "code",
   "execution_count": 31,
   "metadata": {},
   "outputs": [
    {
     "name": "stdout",
     "output_type": "stream",
     "text": [
      "6.07526569013974\n"
     ]
    }
   ],
   "source": [
    "print (mean_absolute_error(predicted,y_test))"
   ]
  },
  {
   "cell_type": "markdown",
   "metadata": {},
   "source": [
    "Not good at all."
   ]
  },
  {
   "cell_type": "code",
   "execution_count": null,
   "metadata": {},
   "outputs": [],
   "source": []
  },
  {
   "cell_type": "markdown",
   "metadata": {},
   "source": [
    "## KNeighborsRegressor"
   ]
  },
  {
   "cell_type": "code",
   "execution_count": 85,
   "metadata": {},
   "outputs": [],
   "source": [
    "from sklearn.neighbors import KNeighborsRegressor"
   ]
  },
  {
   "cell_type": "code",
   "execution_count": 86,
   "metadata": {},
   "outputs": [],
   "source": [
    "neigh = KNeighborsRegressor()\n",
    "neigh.fit(X_train, y_train) \n",
    "\n",
    "y_preds3 = neigh.predict(X_test)"
   ]
  },
  {
   "cell_type": "code",
   "execution_count": 87,
   "metadata": {},
   "outputs": [
    {
     "name": "stdout",
     "output_type": "stream",
     "text": [
      "4.257463884430177\n"
     ]
    }
   ],
   "source": [
    "print (mean_absolute_error(y_preds3,y_test))"
   ]
  },
  {
   "cell_type": "code",
   "execution_count": null,
   "metadata": {},
   "outputs": [],
   "source": []
  },
  {
   "cell_type": "code",
   "execution_count": null,
   "metadata": {},
   "outputs": [],
   "source": []
  },
  {
   "cell_type": "markdown",
   "metadata": {},
   "source": [
    "## CatBoostRegressor"
   ]
  },
  {
   "cell_type": "code",
   "execution_count": 62,
   "metadata": {},
   "outputs": [
    {
     "data": {
      "text/html": [
       "<div>\n",
       "<style scoped>\n",
       "    .dataframe tbody tr th:only-of-type {\n",
       "        vertical-align: middle;\n",
       "    }\n",
       "\n",
       "    .dataframe tbody tr th {\n",
       "        vertical-align: top;\n",
       "    }\n",
       "\n",
       "    .dataframe thead th {\n",
       "        text-align: right;\n",
       "    }\n",
       "</style>\n",
       "<table border=\"1\" class=\"dataframe\">\n",
       "  <thead>\n",
       "    <tr style=\"text-align: right;\">\n",
       "      <th></th>\n",
       "      <th>Day_week</th>\n",
       "      <th>Class_Data</th>\n",
       "      <th>Time_classify</th>\n",
       "      <th>travel_time</th>\n",
       "      <th>travel_from</th>\n",
       "      <th>car_type</th>\n",
       "      <th>max_capacity</th>\n",
       "    </tr>\n",
       "  </thead>\n",
       "  <tbody>\n",
       "    <tr>\n",
       "      <th>0</th>\n",
       "      <td>2</td>\n",
       "      <td>2</td>\n",
       "      <td>1</td>\n",
       "      <td>435</td>\n",
       "      <td>7</td>\n",
       "      <td>0</td>\n",
       "      <td>49</td>\n",
       "    </tr>\n",
       "    <tr>\n",
       "      <th>1</th>\n",
       "      <td>0</td>\n",
       "      <td>2</td>\n",
       "      <td>1</td>\n",
       "      <td>432</td>\n",
       "      <td>7</td>\n",
       "      <td>0</td>\n",
       "      <td>49</td>\n",
       "    </tr>\n",
       "    <tr>\n",
       "      <th>2</th>\n",
       "      <td>0</td>\n",
       "      <td>2</td>\n",
       "      <td>1</td>\n",
       "      <td>425</td>\n",
       "      <td>3</td>\n",
       "      <td>0</td>\n",
       "      <td>49</td>\n",
       "    </tr>\n",
       "    <tr>\n",
       "      <th>3</th>\n",
       "      <td>1</td>\n",
       "      <td>2</td>\n",
       "      <td>1</td>\n",
       "      <td>430</td>\n",
       "      <td>1</td>\n",
       "      <td>0</td>\n",
       "      <td>49</td>\n",
       "    </tr>\n",
       "    <tr>\n",
       "      <th>4</th>\n",
       "      <td>1</td>\n",
       "      <td>2</td>\n",
       "      <td>1</td>\n",
       "      <td>432</td>\n",
       "      <td>7</td>\n",
       "      <td>0</td>\n",
       "      <td>49</td>\n",
       "    </tr>\n",
       "  </tbody>\n",
       "</table>\n",
       "</div>"
      ],
      "text/plain": [
       "   Day_week  Class_Data  Time_classify  travel_time  travel_from  car_type  \\\n",
       "0         2           2              1          435            7         0   \n",
       "1         0           2              1          432            7         0   \n",
       "2         0           2              1          425            3         0   \n",
       "3         1           2              1          430            1         0   \n",
       "4         1           2              1          432            7         0   \n",
       "\n",
       "   max_capacity  \n",
       "0            49  \n",
       "1            49  \n",
       "2            49  \n",
       "3            49  \n",
       "4            49  "
      ]
     },
     "execution_count": 62,
     "metadata": {},
     "output_type": "execute_result"
    }
   ],
   "source": [
    "X.head()"
   ]
  },
  {
   "cell_type": "code",
   "execution_count": 89,
   "metadata": {},
   "outputs": [
    {
     "name": "stdout",
     "output_type": "stream",
     "text": [
      "0:\tlearn: 11.7269893\ttotal: 15.4ms\tremaining: 15.4s\n",
      "1:\tlearn: 11.5540058\ttotal: 33.4ms\tremaining: 16.7s\n",
      "2:\tlearn: 11.3437775\ttotal: 62.5ms\tremaining: 20.8s\n",
      "3:\tlearn: 11.1400624\ttotal: 102ms\tremaining: 25.4s\n",
      "4:\tlearn: 10.9469232\ttotal: 126ms\tremaining: 25s\n",
      "5:\tlearn: 10.7622636\ttotal: 146ms\tremaining: 24.2s\n",
      "6:\tlearn: 10.5862101\ttotal: 171ms\tremaining: 24.3s\n",
      "7:\tlearn: 10.4163519\ttotal: 197ms\tremaining: 24.4s\n",
      "8:\tlearn: 10.2516526\ttotal: 243ms\tremaining: 26.8s\n",
      "9:\tlearn: 10.0940142\ttotal: 293ms\tremaining: 29s\n",
      "10:\tlearn: 9.9385416\ttotal: 332ms\tremaining: 29.9s\n",
      "11:\tlearn: 9.8034115\ttotal: 348ms\tremaining: 28.6s\n",
      "12:\tlearn: 9.6673279\ttotal: 368ms\tremaining: 27.9s\n",
      "13:\tlearn: 9.5323033\ttotal: 403ms\tremaining: 28.4s\n",
      "14:\tlearn: 9.4071270\ttotal: 448ms\tremaining: 29.4s\n",
      "15:\tlearn: 9.2863870\ttotal: 480ms\tremaining: 29.5s\n",
      "16:\tlearn: 9.1748910\ttotal: 512ms\tremaining: 29.6s\n",
      "17:\tlearn: 9.0694004\ttotal: 530ms\tremaining: 28.9s\n",
      "18:\tlearn: 8.9663846\ttotal: 554ms\tremaining: 28.6s\n",
      "19:\tlearn: 8.8703825\ttotal: 575ms\tremaining: 28.2s\n",
      "20:\tlearn: 8.7787107\ttotal: 595ms\tremaining: 27.8s\n",
      "21:\tlearn: 8.6884959\ttotal: 636ms\tremaining: 28.3s\n",
      "22:\tlearn: 8.6089417\ttotal: 651ms\tremaining: 27.7s\n",
      "23:\tlearn: 8.5332721\ttotal: 667ms\tremaining: 27.1s\n",
      "24:\tlearn: 8.4543163\ttotal: 711ms\tremaining: 27.7s\n",
      "25:\tlearn: 8.3810111\ttotal: 751ms\tremaining: 28.1s\n",
      "26:\tlearn: 8.3128297\ttotal: 775ms\tremaining: 27.9s\n",
      "27:\tlearn: 8.2276541\ttotal: 809ms\tremaining: 28.1s\n",
      "28:\tlearn: 8.1344949\ttotal: 849ms\tremaining: 28.4s\n",
      "29:\tlearn: 8.0565841\ttotal: 887ms\tremaining: 28.7s\n",
      "30:\tlearn: 7.9653937\ttotal: 920ms\tremaining: 28.8s\n",
      "31:\tlearn: 7.8889288\ttotal: 971ms\tremaining: 29.4s\n",
      "32:\tlearn: 7.8100263\ttotal: 1.01s\tremaining: 29.7s\n",
      "33:\tlearn: 7.7312820\ttotal: 1.07s\tremaining: 30.4s\n",
      "34:\tlearn: 7.6702852\ttotal: 1.12s\tremaining: 30.8s\n",
      "35:\tlearn: 7.6051419\ttotal: 1.16s\tremaining: 31.2s\n",
      "36:\tlearn: 7.5467968\ttotal: 1.24s\tremaining: 32.2s\n",
      "37:\tlearn: 7.4706913\ttotal: 1.29s\tremaining: 32.6s\n",
      "38:\tlearn: 7.3982006\ttotal: 1.33s\tremaining: 32.8s\n",
      "39:\tlearn: 7.3298665\ttotal: 1.38s\tremaining: 33.2s\n",
      "40:\tlearn: 7.2687019\ttotal: 1.42s\tremaining: 33.1s\n",
      "41:\tlearn: 7.2037792\ttotal: 1.47s\tremaining: 33.4s\n",
      "42:\tlearn: 7.1396845\ttotal: 1.52s\tremaining: 33.8s\n",
      "43:\tlearn: 7.0859377\ttotal: 1.56s\tremaining: 33.9s\n",
      "44:\tlearn: 7.0298672\ttotal: 1.6s\tremaining: 33.9s\n",
      "45:\tlearn: 6.9784303\ttotal: 1.64s\tremaining: 33.9s\n",
      "46:\tlearn: 6.9349066\ttotal: 1.66s\tremaining: 33.7s\n",
      "47:\tlearn: 6.8926562\ttotal: 1.71s\tremaining: 33.8s\n",
      "48:\tlearn: 6.8452320\ttotal: 1.74s\tremaining: 33.8s\n",
      "49:\tlearn: 6.8077851\ttotal: 1.77s\tremaining: 33.7s\n",
      "50:\tlearn: 6.7644684\ttotal: 1.83s\tremaining: 34s\n",
      "51:\tlearn: 6.7315525\ttotal: 1.87s\tremaining: 34.1s\n",
      "52:\tlearn: 6.6919665\ttotal: 1.91s\tremaining: 34.1s\n",
      "53:\tlearn: 6.6512871\ttotal: 1.94s\tremaining: 34s\n",
      "54:\tlearn: 6.6183304\ttotal: 1.97s\tremaining: 33.9s\n",
      "55:\tlearn: 6.5816788\ttotal: 2.01s\tremaining: 33.9s\n",
      "56:\tlearn: 6.5489265\ttotal: 2.04s\tremaining: 33.8s\n",
      "57:\tlearn: 6.5194836\ttotal: 2.08s\tremaining: 33.8s\n",
      "58:\tlearn: 6.4890373\ttotal: 2.14s\tremaining: 34.2s\n",
      "59:\tlearn: 6.4589617\ttotal: 2.18s\tremaining: 34.2s\n",
      "60:\tlearn: 6.4308837\ttotal: 2.23s\tremaining: 34.3s\n",
      "61:\tlearn: 6.4057499\ttotal: 2.28s\tremaining: 34.5s\n",
      "62:\tlearn: 6.3817498\ttotal: 2.32s\tremaining: 34.6s\n",
      "63:\tlearn: 6.3579495\ttotal: 2.36s\tremaining: 34.6s\n",
      "64:\tlearn: 6.3374302\ttotal: 2.41s\tremaining: 34.7s\n",
      "65:\tlearn: 6.3132106\ttotal: 2.47s\tremaining: 34.9s\n",
      "66:\tlearn: 6.2918596\ttotal: 2.52s\tremaining: 35.1s\n",
      "67:\tlearn: 6.2736150\ttotal: 2.55s\tremaining: 35s\n",
      "68:\tlearn: 6.2574123\ttotal: 2.61s\tremaining: 35.2s\n",
      "69:\tlearn: 6.2413507\ttotal: 2.65s\tremaining: 35.2s\n",
      "70:\tlearn: 6.2197583\ttotal: 2.7s\tremaining: 35.3s\n",
      "71:\tlearn: 6.2050551\ttotal: 2.73s\tremaining: 35.3s\n",
      "72:\tlearn: 6.1890955\ttotal: 2.77s\tremaining: 35.1s\n",
      "73:\tlearn: 6.1753196\ttotal: 2.81s\tremaining: 35.2s\n",
      "74:\tlearn: 6.1647891\ttotal: 2.84s\tremaining: 35.1s\n",
      "75:\tlearn: 6.1558492\ttotal: 2.87s\tremaining: 34.9s\n",
      "76:\tlearn: 6.1440474\ttotal: 2.9s\tremaining: 34.8s\n",
      "77:\tlearn: 6.1327297\ttotal: 2.93s\tremaining: 34.7s\n",
      "78:\tlearn: 6.1225126\ttotal: 2.96s\tremaining: 34.6s\n",
      "79:\tlearn: 6.1120318\ttotal: 3s\tremaining: 34.5s\n",
      "80:\tlearn: 6.1018331\ttotal: 3.04s\tremaining: 34.5s\n",
      "81:\tlearn: 6.0914973\ttotal: 3.08s\tremaining: 34.5s\n",
      "82:\tlearn: 6.0792110\ttotal: 3.14s\tremaining: 34.7s\n",
      "83:\tlearn: 6.0721102\ttotal: 3.17s\tremaining: 34.6s\n",
      "84:\tlearn: 6.0663328\ttotal: 3.19s\tremaining: 34.4s\n",
      "85:\tlearn: 6.0603607\ttotal: 3.24s\tremaining: 34.4s\n",
      "86:\tlearn: 6.0507960\ttotal: 3.29s\tremaining: 34.5s\n",
      "87:\tlearn: 6.0485311\ttotal: 3.31s\tremaining: 34.3s\n",
      "88:\tlearn: 6.0468869\ttotal: 3.32s\tremaining: 34s\n",
      "89:\tlearn: 6.0395466\ttotal: 3.36s\tremaining: 33.9s\n",
      "90:\tlearn: 6.0296834\ttotal: 3.41s\tremaining: 34s\n",
      "91:\tlearn: 6.0206142\ttotal: 3.44s\tremaining: 33.9s\n",
      "92:\tlearn: 6.0193175\ttotal: 3.45s\tremaining: 33.6s\n",
      "93:\tlearn: 6.0109594\ttotal: 3.49s\tremaining: 33.7s\n",
      "94:\tlearn: 6.0053023\ttotal: 3.52s\tremaining: 33.6s\n",
      "95:\tlearn: 6.0042148\ttotal: 3.54s\tremaining: 33.3s\n",
      "96:\tlearn: 5.9987973\ttotal: 3.57s\tremaining: 33.2s\n",
      "97:\tlearn: 5.9931111\ttotal: 3.61s\tremaining: 33.2s\n",
      "98:\tlearn: 5.9867022\ttotal: 3.64s\tremaining: 33.2s\n",
      "99:\tlearn: 5.9818491\ttotal: 3.68s\tremaining: 33.1s\n",
      "100:\tlearn: 5.9770870\ttotal: 3.73s\tremaining: 33.2s\n",
      "101:\tlearn: 5.9709428\ttotal: 3.76s\tremaining: 33.1s\n",
      "102:\tlearn: 5.9667633\ttotal: 3.79s\tremaining: 33s\n",
      "103:\tlearn: 5.9602705\ttotal: 3.82s\tremaining: 32.9s\n",
      "104:\tlearn: 5.9546280\ttotal: 3.85s\tremaining: 32.9s\n",
      "105:\tlearn: 5.9508818\ttotal: 3.9s\tremaining: 32.9s\n",
      "106:\tlearn: 5.9482317\ttotal: 3.94s\tremaining: 32.9s\n",
      "107:\tlearn: 5.9436009\ttotal: 3.98s\tremaining: 32.9s\n",
      "108:\tlearn: 5.9402161\ttotal: 4.04s\tremaining: 33s\n",
      "109:\tlearn: 5.9375924\ttotal: 4.07s\tremaining: 32.9s\n",
      "110:\tlearn: 5.9340464\ttotal: 4.11s\tremaining: 32.9s\n",
      "111:\tlearn: 5.9305588\ttotal: 4.15s\tremaining: 32.9s\n",
      "112:\tlearn: 5.9292854\ttotal: 4.18s\tremaining: 32.8s\n",
      "113:\tlearn: 5.9230935\ttotal: 4.21s\tremaining: 32.7s\n",
      "114:\tlearn: 5.9208043\ttotal: 4.26s\tremaining: 32.8s\n",
      "115:\tlearn: 5.9157504\ttotal: 4.29s\tremaining: 32.7s\n",
      "116:\tlearn: 5.9126452\ttotal: 4.32s\tremaining: 32.6s\n",
      "117:\tlearn: 5.9082428\ttotal: 4.37s\tremaining: 32.7s\n",
      "118:\tlearn: 5.9029793\ttotal: 4.4s\tremaining: 32.6s\n",
      "119:\tlearn: 5.9014943\ttotal: 4.43s\tremaining: 32.5s\n",
      "120:\tlearn: 5.8995433\ttotal: 4.46s\tremaining: 32.4s\n",
      "121:\tlearn: 5.8962611\ttotal: 4.5s\tremaining: 32.4s\n",
      "122:\tlearn: 5.8936792\ttotal: 4.55s\tremaining: 32.5s\n",
      "123:\tlearn: 5.8901478\ttotal: 4.58s\tremaining: 32.4s\n",
      "124:\tlearn: 5.8890404\ttotal: 4.62s\tremaining: 32.4s\n",
      "125:\tlearn: 5.8867167\ttotal: 4.66s\tremaining: 32.3s\n",
      "126:\tlearn: 5.8847469\ttotal: 4.7s\tremaining: 32.3s\n",
      "127:\tlearn: 5.8828105\ttotal: 4.74s\tremaining: 32.3s\n",
      "128:\tlearn: 5.8802992\ttotal: 4.78s\tremaining: 32.3s\n",
      "129:\tlearn: 5.8785816\ttotal: 4.82s\tremaining: 32.3s\n",
      "130:\tlearn: 5.8775366\ttotal: 4.85s\tremaining: 32.2s\n",
      "131:\tlearn: 5.8750520\ttotal: 4.89s\tremaining: 32.2s\n",
      "132:\tlearn: 5.8728229\ttotal: 4.93s\tremaining: 32.1s\n",
      "133:\tlearn: 5.8688739\ttotal: 4.96s\tremaining: 32.1s\n",
      "134:\tlearn: 5.8655038\ttotal: 4.99s\tremaining: 32s\n",
      "135:\tlearn: 5.8620679\ttotal: 5.04s\tremaining: 32s\n",
      "136:\tlearn: 5.8619732\ttotal: 5.05s\tremaining: 31.8s\n",
      "137:\tlearn: 5.8598392\ttotal: 5.09s\tremaining: 31.8s\n",
      "138:\tlearn: 5.8575940\ttotal: 5.13s\tremaining: 31.8s\n",
      "139:\tlearn: 5.8566006\ttotal: 5.15s\tremaining: 31.6s\n",
      "140:\tlearn: 5.8555447\ttotal: 5.17s\tremaining: 31.5s\n",
      "141:\tlearn: 5.8540634\ttotal: 5.2s\tremaining: 31.4s\n",
      "142:\tlearn: 5.8529686\ttotal: 5.23s\tremaining: 31.3s\n",
      "143:\tlearn: 5.8509871\ttotal: 5.27s\tremaining: 31.3s\n",
      "144:\tlearn: 5.8486845\ttotal: 5.31s\tremaining: 31.3s\n",
      "145:\tlearn: 5.8480797\ttotal: 5.33s\tremaining: 31.2s\n",
      "146:\tlearn: 5.8468776\ttotal: 5.37s\tremaining: 31.2s\n",
      "147:\tlearn: 5.8451469\ttotal: 5.43s\tremaining: 31.3s\n",
      "148:\tlearn: 5.8435221\ttotal: 5.47s\tremaining: 31.2s\n",
      "149:\tlearn: 5.8412680\ttotal: 5.5s\tremaining: 31.2s\n",
      "150:\tlearn: 5.8409637\ttotal: 5.54s\tremaining: 31.1s\n",
      "151:\tlearn: 5.8405664\ttotal: 5.56s\tremaining: 31s\n",
      "152:\tlearn: 5.8372020\ttotal: 5.62s\tremaining: 31.1s\n",
      "153:\tlearn: 5.8363551\ttotal: 5.68s\tremaining: 31.2s\n",
      "154:\tlearn: 5.8359544\ttotal: 5.73s\tremaining: 31.2s\n",
      "155:\tlearn: 5.8359078\ttotal: 5.75s\tremaining: 31.1s\n",
      "156:\tlearn: 5.8338342\ttotal: 5.78s\tremaining: 31s\n",
      "157:\tlearn: 5.8318827\ttotal: 5.83s\tremaining: 31s\n",
      "158:\tlearn: 5.8294344\ttotal: 5.86s\tremaining: 31s\n",
      "159:\tlearn: 5.8275703\ttotal: 5.9s\tremaining: 31s\n",
      "160:\tlearn: 5.8275334\ttotal: 5.91s\tremaining: 30.8s\n"
     ]
    },
    {
     "name": "stdout",
     "output_type": "stream",
     "text": [
      "161:\tlearn: 5.8242657\ttotal: 5.95s\tremaining: 30.8s\n",
      "162:\tlearn: 5.8229938\ttotal: 5.99s\tremaining: 30.8s\n",
      "163:\tlearn: 5.8218543\ttotal: 6.03s\tremaining: 30.7s\n",
      "164:\tlearn: 5.8218365\ttotal: 6.04s\tremaining: 30.6s\n",
      "165:\tlearn: 5.8214395\ttotal: 6.08s\tremaining: 30.5s\n",
      "166:\tlearn: 5.8207497\ttotal: 6.13s\tremaining: 30.6s\n",
      "167:\tlearn: 5.8207335\ttotal: 6.14s\tremaining: 30.4s\n",
      "168:\tlearn: 5.8182291\ttotal: 6.18s\tremaining: 30.4s\n",
      "169:\tlearn: 5.8170924\ttotal: 6.22s\tremaining: 30.4s\n",
      "170:\tlearn: 5.8168982\ttotal: 6.24s\tremaining: 30.3s\n",
      "171:\tlearn: 5.8158880\ttotal: 6.28s\tremaining: 30.2s\n",
      "172:\tlearn: 5.8135766\ttotal: 6.32s\tremaining: 30.2s\n",
      "173:\tlearn: 5.8130285\ttotal: 6.38s\tremaining: 30.3s\n",
      "174:\tlearn: 5.8118480\ttotal: 6.42s\tremaining: 30.3s\n",
      "175:\tlearn: 5.8103004\ttotal: 6.47s\tremaining: 30.3s\n",
      "176:\tlearn: 5.8095676\ttotal: 6.51s\tremaining: 30.3s\n",
      "177:\tlearn: 5.8085026\ttotal: 6.55s\tremaining: 30.2s\n",
      "178:\tlearn: 5.8065962\ttotal: 6.6s\tremaining: 30.3s\n",
      "179:\tlearn: 5.8059052\ttotal: 6.63s\tremaining: 30.2s\n",
      "180:\tlearn: 5.8057216\ttotal: 6.68s\tremaining: 30.2s\n",
      "181:\tlearn: 5.8057075\ttotal: 6.71s\tremaining: 30.2s\n",
      "182:\tlearn: 5.8052159\ttotal: 6.79s\tremaining: 30.3s\n",
      "183:\tlearn: 5.8042726\ttotal: 6.86s\tremaining: 30.4s\n",
      "184:\tlearn: 5.8029742\ttotal: 6.92s\tremaining: 30.5s\n",
      "185:\tlearn: 5.8024738\ttotal: 6.96s\tremaining: 30.5s\n",
      "186:\tlearn: 5.8024689\ttotal: 6.97s\tremaining: 30.3s\n",
      "187:\tlearn: 5.8024630\ttotal: 6.99s\tremaining: 30.2s\n",
      "188:\tlearn: 5.8022839\ttotal: 7.02s\tremaining: 30.1s\n",
      "189:\tlearn: 5.8022689\ttotal: 7.04s\tremaining: 30s\n",
      "190:\tlearn: 5.8020528\ttotal: 7.07s\tremaining: 30s\n",
      "191:\tlearn: 5.8013623\ttotal: 7.12s\tremaining: 30s\n",
      "192:\tlearn: 5.7998551\ttotal: 7.15s\tremaining: 29.9s\n",
      "193:\tlearn: 5.7981014\ttotal: 7.2s\tremaining: 29.9s\n",
      "194:\tlearn: 5.7972072\ttotal: 7.25s\tremaining: 29.9s\n",
      "195:\tlearn: 5.7965254\ttotal: 7.32s\tremaining: 30s\n",
      "196:\tlearn: 5.7965227\ttotal: 7.34s\tremaining: 29.9s\n",
      "197:\tlearn: 5.7965202\ttotal: 7.37s\tremaining: 29.9s\n",
      "198:\tlearn: 5.7955846\ttotal: 7.43s\tremaining: 29.9s\n",
      "199:\tlearn: 5.7955739\ttotal: 7.47s\tremaining: 29.9s\n",
      "200:\tlearn: 5.7955718\ttotal: 7.49s\tremaining: 29.8s\n",
      "201:\tlearn: 5.7955692\ttotal: 7.51s\tremaining: 29.7s\n",
      "202:\tlearn: 5.7955673\ttotal: 7.53s\tremaining: 29.6s\n",
      "203:\tlearn: 5.7955656\ttotal: 7.54s\tremaining: 29.4s\n",
      "204:\tlearn: 5.7943090\ttotal: 7.59s\tremaining: 29.4s\n",
      "205:\tlearn: 5.7942936\ttotal: 7.63s\tremaining: 29.4s\n",
      "206:\tlearn: 5.7942922\ttotal: 7.65s\tremaining: 29.3s\n",
      "207:\tlearn: 5.7942236\ttotal: 7.68s\tremaining: 29.3s\n",
      "208:\tlearn: 5.7938899\ttotal: 7.74s\tremaining: 29.3s\n",
      "209:\tlearn: 5.7938786\ttotal: 7.76s\tremaining: 29.2s\n",
      "210:\tlearn: 5.7938775\ttotal: 7.78s\tremaining: 29.1s\n",
      "211:\tlearn: 5.7938764\ttotal: 7.79s\tremaining: 28.9s\n",
      "212:\tlearn: 5.7926705\ttotal: 7.83s\tremaining: 28.9s\n",
      "213:\tlearn: 5.7926696\ttotal: 7.84s\tremaining: 28.8s\n",
      "214:\tlearn: 5.7906776\ttotal: 7.9s\tremaining: 28.8s\n",
      "215:\tlearn: 5.7894426\ttotal: 7.95s\tremaining: 28.8s\n",
      "216:\tlearn: 5.7867313\ttotal: 8s\tremaining: 28.9s\n",
      "217:\tlearn: 5.7867300\ttotal: 8.02s\tremaining: 28.8s\n",
      "218:\tlearn: 5.7865545\ttotal: 8.05s\tremaining: 28.7s\n",
      "219:\tlearn: 5.7847570\ttotal: 8.1s\tremaining: 28.7s\n",
      "220:\tlearn: 5.7841833\ttotal: 8.15s\tremaining: 28.7s\n",
      "221:\tlearn: 5.7841826\ttotal: 8.16s\tremaining: 28.6s\n",
      "222:\tlearn: 5.7828845\ttotal: 8.22s\tremaining: 28.6s\n",
      "223:\tlearn: 5.7827901\ttotal: 8.27s\tremaining: 28.6s\n",
      "224:\tlearn: 5.7824177\ttotal: 8.3s\tremaining: 28.6s\n",
      "225:\tlearn: 5.7824172\ttotal: 8.31s\tremaining: 28.5s\n",
      "226:\tlearn: 5.7813963\ttotal: 8.37s\tremaining: 28.5s\n",
      "227:\tlearn: 5.7811072\ttotal: 8.46s\tremaining: 28.6s\n",
      "228:\tlearn: 5.7810965\ttotal: 8.49s\tremaining: 28.6s\n",
      "229:\tlearn: 5.7810961\ttotal: 8.52s\tremaining: 28.5s\n",
      "230:\tlearn: 5.7810958\ttotal: 8.54s\tremaining: 28.4s\n",
      "231:\tlearn: 5.7810760\ttotal: 8.61s\tremaining: 28.5s\n",
      "232:\tlearn: 5.7810757\ttotal: 8.65s\tremaining: 28.5s\n",
      "233:\tlearn: 5.7810572\ttotal: 8.67s\tremaining: 28.4s\n",
      "234:\tlearn: 5.7797423\ttotal: 8.72s\tremaining: 28.4s\n",
      "235:\tlearn: 5.7797421\ttotal: 8.74s\tremaining: 28.3s\n",
      "236:\tlearn: 5.7796500\ttotal: 8.78s\tremaining: 28.3s\n",
      "237:\tlearn: 5.7786635\ttotal: 8.83s\tremaining: 28.3s\n",
      "238:\tlearn: 5.7781032\ttotal: 8.88s\tremaining: 28.3s\n",
      "239:\tlearn: 5.7768529\ttotal: 8.93s\tremaining: 28.3s\n",
      "240:\tlearn: 5.7768527\ttotal: 8.95s\tremaining: 28.2s\n",
      "241:\tlearn: 5.7768501\ttotal: 8.97s\tremaining: 28.1s\n",
      "242:\tlearn: 5.7746237\ttotal: 9.02s\tremaining: 28.1s\n",
      "243:\tlearn: 5.7726902\ttotal: 9.06s\tremaining: 28.1s\n",
      "244:\tlearn: 5.7716538\ttotal: 9.11s\tremaining: 28.1s\n",
      "245:\tlearn: 5.7715466\ttotal: 9.14s\tremaining: 28s\n",
      "246:\tlearn: 5.7713341\ttotal: 9.17s\tremaining: 28s\n",
      "247:\tlearn: 5.7707943\ttotal: 9.21s\tremaining: 27.9s\n",
      "248:\tlearn: 5.7707939\ttotal: 9.23s\tremaining: 27.8s\n",
      "249:\tlearn: 5.7692195\ttotal: 9.28s\tremaining: 27.9s\n",
      "250:\tlearn: 5.7676356\ttotal: 9.34s\tremaining: 27.9s\n",
      "251:\tlearn: 5.7666207\ttotal: 9.38s\tremaining: 27.8s\n",
      "252:\tlearn: 5.7660568\ttotal: 9.41s\tremaining: 27.8s\n",
      "253:\tlearn: 5.7660568\ttotal: 9.43s\tremaining: 27.7s\n",
      "254:\tlearn: 5.7659938\ttotal: 9.45s\tremaining: 27.6s\n",
      "255:\tlearn: 5.7656678\ttotal: 9.48s\tremaining: 27.6s\n",
      "256:\tlearn: 5.7655481\ttotal: 9.51s\tremaining: 27.5s\n",
      "257:\tlearn: 5.7651079\ttotal: 9.54s\tremaining: 27.4s\n",
      "258:\tlearn: 5.7641981\ttotal: 9.58s\tremaining: 27.4s\n",
      "259:\tlearn: 5.7641928\ttotal: 9.6s\tremaining: 27.3s\n",
      "260:\tlearn: 5.7629477\ttotal: 9.64s\tremaining: 27.3s\n",
      "261:\tlearn: 5.7629477\ttotal: 9.65s\tremaining: 27.2s\n",
      "262:\tlearn: 5.7629476\ttotal: 9.67s\tremaining: 27.1s\n",
      "263:\tlearn: 5.7629471\ttotal: 9.69s\tremaining: 27s\n",
      "264:\tlearn: 5.7629471\ttotal: 9.7s\tremaining: 26.9s\n",
      "265:\tlearn: 5.7629470\ttotal: 9.72s\tremaining: 26.8s\n",
      "266:\tlearn: 5.7623579\ttotal: 9.76s\tremaining: 26.8s\n",
      "267:\tlearn: 5.7623574\ttotal: 9.78s\tremaining: 26.7s\n",
      "268:\tlearn: 5.7623574\ttotal: 9.8s\tremaining: 26.6s\n",
      "269:\tlearn: 5.7621186\ttotal: 9.84s\tremaining: 26.6s\n",
      "270:\tlearn: 5.7606729\ttotal: 9.89s\tremaining: 26.6s\n",
      "271:\tlearn: 5.7604126\ttotal: 9.92s\tremaining: 26.6s\n",
      "272:\tlearn: 5.7604040\ttotal: 9.94s\tremaining: 26.5s\n",
      "273:\tlearn: 5.7595536\ttotal: 9.98s\tremaining: 26.5s\n",
      "274:\tlearn: 5.7593580\ttotal: 10s\tremaining: 26.4s\n",
      "275:\tlearn: 5.7592425\ttotal: 10s\tremaining: 26.3s\n",
      "276:\tlearn: 5.7592420\ttotal: 10.1s\tremaining: 26.3s\n",
      "277:\tlearn: 5.7592419\ttotal: 10.1s\tremaining: 26.2s\n",
      "278:\tlearn: 5.7583357\ttotal: 10.1s\tremaining: 26.2s\n",
      "279:\tlearn: 5.7578772\ttotal: 10.2s\tremaining: 26.2s\n",
      "280:\tlearn: 5.7571058\ttotal: 10.2s\tremaining: 26.1s\n",
      "281:\tlearn: 5.7571058\ttotal: 10.2s\tremaining: 26s\n",
      "282:\tlearn: 5.7560172\ttotal: 10.3s\tremaining: 26s\n",
      "283:\tlearn: 5.7560170\ttotal: 10.3s\tremaining: 26s\n",
      "284:\tlearn: 5.7537621\ttotal: 10.3s\tremaining: 25.9s\n",
      "285:\tlearn: 5.7535077\ttotal: 10.4s\tremaining: 25.9s\n",
      "286:\tlearn: 5.7535076\ttotal: 10.4s\tremaining: 25.8s\n",
      "287:\tlearn: 5.7530254\ttotal: 10.4s\tremaining: 25.8s\n",
      "288:\tlearn: 5.7519313\ttotal: 10.5s\tremaining: 25.8s\n",
      "289:\tlearn: 5.7512999\ttotal: 10.5s\tremaining: 25.8s\n",
      "290:\tlearn: 5.7496443\ttotal: 10.6s\tremaining: 25.8s\n",
      "291:\tlearn: 5.7496442\ttotal: 10.6s\tremaining: 25.7s\n",
      "292:\tlearn: 5.7496439\ttotal: 10.6s\tremaining: 25.6s\n",
      "293:\tlearn: 5.7496439\ttotal: 10.6s\tremaining: 25.5s\n",
      "294:\tlearn: 5.7487474\ttotal: 10.7s\tremaining: 25.5s\n",
      "295:\tlearn: 5.7484340\ttotal: 10.7s\tremaining: 25.5s\n",
      "296:\tlearn: 5.7484339\ttotal: 10.7s\tremaining: 25.4s\n",
      "297:\tlearn: 5.7484339\ttotal: 10.7s\tremaining: 25.3s\n",
      "298:\tlearn: 5.7474090\ttotal: 10.8s\tremaining: 25.3s\n",
      "299:\tlearn: 5.7470242\ttotal: 10.8s\tremaining: 25.3s\n",
      "300:\tlearn: 5.7459037\ttotal: 10.9s\tremaining: 25.3s\n",
      "301:\tlearn: 5.7459037\ttotal: 10.9s\tremaining: 25.2s\n",
      "302:\tlearn: 5.7446325\ttotal: 10.9s\tremaining: 25.2s\n",
      "303:\tlearn: 5.7440493\ttotal: 11s\tremaining: 25.1s\n",
      "304:\tlearn: 5.7421240\ttotal: 11s\tremaining: 25.1s\n",
      "305:\tlearn: 5.7409374\ttotal: 11.1s\tremaining: 25.1s\n",
      "306:\tlearn: 5.7405917\ttotal: 11.1s\tremaining: 25.1s\n",
      "307:\tlearn: 5.7405917\ttotal: 11.1s\tremaining: 25s\n",
      "308:\tlearn: 5.7403553\ttotal: 11.2s\tremaining: 25s\n",
      "309:\tlearn: 5.7401721\ttotal: 11.2s\tremaining: 25s\n",
      "310:\tlearn: 5.7389779\ttotal: 11.3s\tremaining: 24.9s\n",
      "311:\tlearn: 5.7385947\ttotal: 11.3s\tremaining: 24.9s\n",
      "312:\tlearn: 5.7375531\ttotal: 11.4s\tremaining: 25s\n",
      "313:\tlearn: 5.7357793\ttotal: 11.4s\tremaining: 24.9s\n",
      "314:\tlearn: 5.7357793\ttotal: 11.4s\tremaining: 24.9s\n",
      "315:\tlearn: 5.7357793\ttotal: 11.4s\tremaining: 24.8s\n",
      "316:\tlearn: 5.7357787\ttotal: 11.5s\tremaining: 24.7s\n",
      "317:\tlearn: 5.7346429\ttotal: 11.5s\tremaining: 24.7s\n",
      "318:\tlearn: 5.7343141\ttotal: 11.6s\tremaining: 24.7s\n",
      "319:\tlearn: 5.7343141\ttotal: 11.6s\tremaining: 24.6s\n",
      "320:\tlearn: 5.7343141\ttotal: 11.6s\tremaining: 24.5s\n",
      "321:\tlearn: 5.7341876\ttotal: 11.6s\tremaining: 24.5s\n",
      "322:\tlearn: 5.7333092\ttotal: 11.7s\tremaining: 24.5s\n"
     ]
    },
    {
     "name": "stdout",
     "output_type": "stream",
     "text": [
      "323:\tlearn: 5.7325258\ttotal: 11.7s\tremaining: 24.5s\n",
      "324:\tlearn: 5.7323457\ttotal: 11.8s\tremaining: 24.5s\n",
      "325:\tlearn: 5.7314378\ttotal: 11.8s\tremaining: 24.4s\n",
      "326:\tlearn: 5.7292177\ttotal: 11.9s\tremaining: 24.4s\n",
      "327:\tlearn: 5.7292177\ttotal: 11.9s\tremaining: 24.4s\n",
      "328:\tlearn: 5.7278580\ttotal: 11.9s\tremaining: 24.3s\n",
      "329:\tlearn: 5.7277912\ttotal: 12s\tremaining: 24.3s\n",
      "330:\tlearn: 5.7267968\ttotal: 12s\tremaining: 24.3s\n",
      "331:\tlearn: 5.7256722\ttotal: 12s\tremaining: 24.2s\n",
      "332:\tlearn: 5.7246089\ttotal: 12.1s\tremaining: 24.2s\n",
      "333:\tlearn: 5.7246068\ttotal: 12.1s\tremaining: 24.2s\n",
      "334:\tlearn: 5.7238702\ttotal: 12.2s\tremaining: 24.2s\n",
      "335:\tlearn: 5.7235221\ttotal: 12.2s\tremaining: 24.1s\n",
      "336:\tlearn: 5.7233849\ttotal: 12.2s\tremaining: 24.1s\n",
      "337:\tlearn: 5.7209060\ttotal: 12.3s\tremaining: 24.1s\n",
      "338:\tlearn: 5.7205067\ttotal: 12.3s\tremaining: 24s\n",
      "339:\tlearn: 5.7205067\ttotal: 12.4s\tremaining: 24s\n",
      "340:\tlearn: 5.7203917\ttotal: 12.4s\tremaining: 24s\n",
      "341:\tlearn: 5.7203917\ttotal: 12.4s\tremaining: 23.9s\n",
      "342:\tlearn: 5.7191225\ttotal: 12.4s\tremaining: 23.8s\n",
      "343:\tlearn: 5.7186468\ttotal: 12.5s\tremaining: 23.8s\n",
      "344:\tlearn: 5.7180588\ttotal: 12.5s\tremaining: 23.8s\n",
      "345:\tlearn: 5.7170035\ttotal: 12.6s\tremaining: 23.8s\n",
      "346:\tlearn: 5.7170035\ttotal: 12.6s\tremaining: 23.7s\n",
      "347:\tlearn: 5.7157683\ttotal: 12.7s\tremaining: 23.7s\n",
      "348:\tlearn: 5.7155677\ttotal: 12.7s\tremaining: 23.7s\n",
      "349:\tlearn: 5.7151879\ttotal: 12.7s\tremaining: 23.7s\n",
      "350:\tlearn: 5.7140916\ttotal: 12.8s\tremaining: 23.6s\n",
      "351:\tlearn: 5.7129084\ttotal: 12.8s\tremaining: 23.6s\n",
      "352:\tlearn: 5.7120923\ttotal: 12.9s\tremaining: 23.6s\n",
      "353:\tlearn: 5.7115028\ttotal: 12.9s\tremaining: 23.5s\n",
      "354:\tlearn: 5.7103462\ttotal: 12.9s\tremaining: 23.5s\n",
      "355:\tlearn: 5.7093812\ttotal: 13s\tremaining: 23.5s\n",
      "356:\tlearn: 5.7092624\ttotal: 13s\tremaining: 23.4s\n",
      "357:\tlearn: 5.7092611\ttotal: 13s\tremaining: 23.3s\n",
      "358:\tlearn: 5.7082593\ttotal: 13.1s\tremaining: 23.3s\n",
      "359:\tlearn: 5.7082489\ttotal: 13.1s\tremaining: 23.3s\n",
      "360:\tlearn: 5.7079599\ttotal: 13.1s\tremaining: 23.2s\n",
      "361:\tlearn: 5.7058649\ttotal: 13.2s\tremaining: 23.2s\n",
      "362:\tlearn: 5.7046418\ttotal: 13.2s\tremaining: 23.2s\n",
      "363:\tlearn: 5.7046418\ttotal: 13.2s\tremaining: 23.1s\n",
      "364:\tlearn: 5.7041717\ttotal: 13.3s\tremaining: 23.1s\n",
      "365:\tlearn: 5.7041717\ttotal: 13.3s\tremaining: 23s\n",
      "366:\tlearn: 5.7028168\ttotal: 13.3s\tremaining: 22.9s\n",
      "367:\tlearn: 5.7020252\ttotal: 13.3s\tremaining: 22.9s\n",
      "368:\tlearn: 5.7020252\ttotal: 13.3s\tremaining: 22.8s\n",
      "369:\tlearn: 5.7019069\ttotal: 13.4s\tremaining: 22.8s\n",
      "370:\tlearn: 5.7019048\ttotal: 13.4s\tremaining: 22.7s\n",
      "371:\tlearn: 5.6999382\ttotal: 13.4s\tremaining: 22.7s\n",
      "372:\tlearn: 5.6985718\ttotal: 13.5s\tremaining: 22.6s\n",
      "373:\tlearn: 5.6972725\ttotal: 13.5s\tremaining: 22.6s\n",
      "374:\tlearn: 5.6954752\ttotal: 13.5s\tremaining: 22.6s\n",
      "375:\tlearn: 5.6954752\ttotal: 13.5s\tremaining: 22.5s\n",
      "376:\tlearn: 5.6948473\ttotal: 13.6s\tremaining: 22.4s\n",
      "377:\tlearn: 5.6941329\ttotal: 13.6s\tremaining: 22.4s\n",
      "378:\tlearn: 5.6935467\ttotal: 13.6s\tremaining: 22.4s\n",
      "379:\tlearn: 5.6932343\ttotal: 13.7s\tremaining: 22.3s\n",
      "380:\tlearn: 5.6932343\ttotal: 13.7s\tremaining: 22.3s\n",
      "381:\tlearn: 5.6932342\ttotal: 13.7s\tremaining: 22.2s\n",
      "382:\tlearn: 5.6926924\ttotal: 13.8s\tremaining: 22.2s\n",
      "383:\tlearn: 5.6906946\ttotal: 13.8s\tremaining: 22.1s\n",
      "384:\tlearn: 5.6906946\ttotal: 13.8s\tremaining: 22s\n",
      "385:\tlearn: 5.6906413\ttotal: 13.8s\tremaining: 22s\n",
      "386:\tlearn: 5.6899751\ttotal: 13.8s\tremaining: 21.9s\n",
      "387:\tlearn: 5.6894320\ttotal: 13.9s\tremaining: 21.9s\n",
      "388:\tlearn: 5.6894320\ttotal: 13.9s\tremaining: 21.8s\n",
      "389:\tlearn: 5.6893106\ttotal: 13.9s\tremaining: 21.8s\n",
      "390:\tlearn: 5.6886902\ttotal: 14s\tremaining: 21.8s\n",
      "391:\tlearn: 5.6877733\ttotal: 14s\tremaining: 21.8s\n",
      "392:\tlearn: 5.6873114\ttotal: 14.1s\tremaining: 21.7s\n",
      "393:\tlearn: 5.6861452\ttotal: 14.1s\tremaining: 21.7s\n",
      "394:\tlearn: 5.6854897\ttotal: 14.1s\tremaining: 21.6s\n",
      "395:\tlearn: 5.6853986\ttotal: 14.1s\tremaining: 21.6s\n",
      "396:\tlearn: 5.6853699\ttotal: 14.2s\tremaining: 21.5s\n",
      "397:\tlearn: 5.6847199\ttotal: 14.2s\tremaining: 21.5s\n",
      "398:\tlearn: 5.6847150\ttotal: 14.2s\tremaining: 21.4s\n",
      "399:\tlearn: 5.6836095\ttotal: 14.3s\tremaining: 21.4s\n",
      "400:\tlearn: 5.6831434\ttotal: 14.3s\tremaining: 21.4s\n",
      "401:\tlearn: 5.6826283\ttotal: 14.3s\tremaining: 21.3s\n",
      "402:\tlearn: 5.6826282\ttotal: 14.4s\tremaining: 21.3s\n",
      "403:\tlearn: 5.6826282\ttotal: 14.4s\tremaining: 21.2s\n",
      "404:\tlearn: 5.6825424\ttotal: 14.4s\tremaining: 21.1s\n",
      "405:\tlearn: 5.6814757\ttotal: 14.4s\tremaining: 21.1s\n",
      "406:\tlearn: 5.6814757\ttotal: 14.5s\tremaining: 21.1s\n",
      "407:\tlearn: 5.6810931\ttotal: 14.5s\tremaining: 21s\n",
      "408:\tlearn: 5.6810931\ttotal: 14.5s\tremaining: 21s\n",
      "409:\tlearn: 5.6810897\ttotal: 14.5s\tremaining: 20.9s\n",
      "410:\tlearn: 5.6810897\ttotal: 14.5s\tremaining: 20.8s\n",
      "411:\tlearn: 5.6808210\ttotal: 14.6s\tremaining: 20.8s\n",
      "412:\tlearn: 5.6799312\ttotal: 14.6s\tremaining: 20.8s\n",
      "413:\tlearn: 5.6798524\ttotal: 14.6s\tremaining: 20.7s\n",
      "414:\tlearn: 5.6794360\ttotal: 14.7s\tremaining: 20.7s\n",
      "415:\tlearn: 5.6786532\ttotal: 14.7s\tremaining: 20.7s\n",
      "416:\tlearn: 5.6785223\ttotal: 14.7s\tremaining: 20.6s\n",
      "417:\tlearn: 5.6785211\ttotal: 14.8s\tremaining: 20.6s\n",
      "418:\tlearn: 5.6785163\ttotal: 14.8s\tremaining: 20.5s\n",
      "419:\tlearn: 5.6771327\ttotal: 14.8s\tremaining: 20.5s\n",
      "420:\tlearn: 5.6763095\ttotal: 14.9s\tremaining: 20.4s\n",
      "421:\tlearn: 5.6762634\ttotal: 14.9s\tremaining: 20.4s\n",
      "422:\tlearn: 5.6762589\ttotal: 14.9s\tremaining: 20.3s\n",
      "423:\tlearn: 5.6762589\ttotal: 14.9s\tremaining: 20.3s\n",
      "424:\tlearn: 5.6757485\ttotal: 15s\tremaining: 20.3s\n",
      "425:\tlearn: 5.6752072\ttotal: 15s\tremaining: 20.2s\n",
      "426:\tlearn: 5.6752072\ttotal: 15s\tremaining: 20.2s\n",
      "427:\tlearn: 5.6740403\ttotal: 15.1s\tremaining: 20.2s\n",
      "428:\tlearn: 5.6730896\ttotal: 15.1s\tremaining: 20.2s\n",
      "429:\tlearn: 5.6729577\ttotal: 15.2s\tremaining: 20.1s\n",
      "430:\tlearn: 5.6719109\ttotal: 15.2s\tremaining: 20.1s\n",
      "431:\tlearn: 5.6719109\ttotal: 15.2s\tremaining: 20s\n",
      "432:\tlearn: 5.6714501\ttotal: 15.3s\tremaining: 20s\n",
      "433:\tlearn: 5.6709733\ttotal: 15.3s\tremaining: 20s\n",
      "434:\tlearn: 5.6708229\ttotal: 15.4s\tremaining: 20s\n",
      "435:\tlearn: 5.6702957\ttotal: 15.4s\tremaining: 20s\n",
      "436:\tlearn: 5.6702957\ttotal: 15.4s\tremaining: 19.9s\n",
      "437:\tlearn: 5.6690658\ttotal: 15.5s\tremaining: 19.9s\n",
      "438:\tlearn: 5.6681307\ttotal: 15.5s\tremaining: 19.8s\n",
      "439:\tlearn: 5.6681307\ttotal: 15.5s\tremaining: 19.8s\n",
      "440:\tlearn: 5.6676927\ttotal: 15.6s\tremaining: 19.8s\n",
      "441:\tlearn: 5.6673050\ttotal: 15.6s\tremaining: 19.7s\n",
      "442:\tlearn: 5.6672939\ttotal: 15.7s\tremaining: 19.7s\n",
      "443:\tlearn: 5.6672217\ttotal: 15.7s\tremaining: 19.6s\n",
      "444:\tlearn: 5.6666012\ttotal: 15.7s\tremaining: 19.6s\n",
      "445:\tlearn: 5.6666012\ttotal: 15.7s\tremaining: 19.5s\n",
      "446:\tlearn: 5.6666012\ttotal: 15.7s\tremaining: 19.5s\n",
      "447:\tlearn: 5.6662868\ttotal: 15.8s\tremaining: 19.4s\n",
      "448:\tlearn: 5.6657629\ttotal: 15.8s\tremaining: 19.4s\n",
      "449:\tlearn: 5.6656404\ttotal: 15.8s\tremaining: 19.4s\n",
      "450:\tlearn: 5.6655271\ttotal: 15.9s\tremaining: 19.3s\n",
      "451:\tlearn: 5.6638252\ttotal: 16s\tremaining: 19.4s\n",
      "452:\tlearn: 5.6634420\ttotal: 16s\tremaining: 19.3s\n",
      "453:\tlearn: 5.6632223\ttotal: 16.1s\tremaining: 19.3s\n",
      "454:\tlearn: 5.6632223\ttotal: 16.1s\tremaining: 19.2s\n",
      "455:\tlearn: 5.6631896\ttotal: 16.1s\tremaining: 19.2s\n",
      "456:\tlearn: 5.6622542\ttotal: 16.1s\tremaining: 19.2s\n",
      "457:\tlearn: 5.6617217\ttotal: 16.2s\tremaining: 19.1s\n",
      "458:\tlearn: 5.6616851\ttotal: 16.2s\tremaining: 19.1s\n",
      "459:\tlearn: 5.6616770\ttotal: 16.3s\tremaining: 19.1s\n",
      "460:\tlearn: 5.6612932\ttotal: 16.3s\tremaining: 19.1s\n",
      "461:\tlearn: 5.6612932\ttotal: 16.3s\tremaining: 19s\n",
      "462:\tlearn: 5.6602371\ttotal: 16.4s\tremaining: 19s\n",
      "463:\tlearn: 5.6599521\ttotal: 16.4s\tremaining: 18.9s\n",
      "464:\tlearn: 5.6590855\ttotal: 16.5s\tremaining: 18.9s\n",
      "465:\tlearn: 5.6589858\ttotal: 16.5s\tremaining: 18.9s\n",
      "466:\tlearn: 5.6589813\ttotal: 16.5s\tremaining: 18.9s\n",
      "467:\tlearn: 5.6584067\ttotal: 16.6s\tremaining: 18.8s\n",
      "468:\tlearn: 5.6584062\ttotal: 16.6s\tremaining: 18.8s\n",
      "469:\tlearn: 5.6575223\ttotal: 16.6s\tremaining: 18.8s\n",
      "470:\tlearn: 5.6574558\ttotal: 16.7s\tremaining: 18.7s\n",
      "471:\tlearn: 5.6568401\ttotal: 16.7s\tremaining: 18.7s\n",
      "472:\tlearn: 5.6563496\ttotal: 16.8s\tremaining: 18.7s\n",
      "473:\tlearn: 5.6561112\ttotal: 16.8s\tremaining: 18.6s\n",
      "474:\tlearn: 5.6561112\ttotal: 16.8s\tremaining: 18.6s\n",
      "475:\tlearn: 5.6560845\ttotal: 16.8s\tremaining: 18.5s\n",
      "476:\tlearn: 5.6558362\ttotal: 16.9s\tremaining: 18.5s\n",
      "477:\tlearn: 5.6558305\ttotal: 16.9s\tremaining: 18.4s\n",
      "478:\tlearn: 5.6558305\ttotal: 16.9s\tremaining: 18.4s\n",
      "479:\tlearn: 5.6558305\ttotal: 16.9s\tremaining: 18.3s\n",
      "480:\tlearn: 5.6558305\ttotal: 16.9s\tremaining: 18.3s\n",
      "481:\tlearn: 5.6556003\ttotal: 17s\tremaining: 18.2s\n",
      "482:\tlearn: 5.6555998\ttotal: 17s\tremaining: 18.2s\n",
      "483:\tlearn: 5.6553188\ttotal: 17s\tremaining: 18.2s\n"
     ]
    },
    {
     "name": "stdout",
     "output_type": "stream",
     "text": [
      "484:\tlearn: 5.6553098\ttotal: 17.1s\tremaining: 18.1s\n",
      "485:\tlearn: 5.6553003\ttotal: 17.1s\tremaining: 18.1s\n",
      "486:\tlearn: 5.6544463\ttotal: 17.1s\tremaining: 18.1s\n",
      "487:\tlearn: 5.6539707\ttotal: 17.2s\tremaining: 18s\n",
      "488:\tlearn: 5.6534787\ttotal: 17.2s\tremaining: 18s\n",
      "489:\tlearn: 5.6525931\ttotal: 17.3s\tremaining: 18s\n",
      "490:\tlearn: 5.6518956\ttotal: 17.3s\tremaining: 18s\n",
      "491:\tlearn: 5.6513950\ttotal: 17.4s\tremaining: 17.9s\n",
      "492:\tlearn: 5.6513873\ttotal: 17.4s\tremaining: 17.9s\n",
      "493:\tlearn: 5.6507494\ttotal: 17.4s\tremaining: 17.9s\n",
      "494:\tlearn: 5.6502299\ttotal: 17.5s\tremaining: 17.9s\n",
      "495:\tlearn: 5.6502296\ttotal: 17.5s\tremaining: 17.8s\n",
      "496:\tlearn: 5.6492621\ttotal: 17.6s\tremaining: 17.8s\n",
      "497:\tlearn: 5.6479551\ttotal: 17.6s\tremaining: 17.7s\n",
      "498:\tlearn: 5.6479156\ttotal: 17.6s\tremaining: 17.7s\n",
      "499:\tlearn: 5.6476907\ttotal: 17.7s\tremaining: 17.7s\n",
      "500:\tlearn: 5.6471247\ttotal: 17.7s\tremaining: 17.6s\n",
      "501:\tlearn: 5.6469296\ttotal: 17.8s\tremaining: 17.6s\n",
      "502:\tlearn: 5.6468105\ttotal: 17.8s\tremaining: 17.6s\n",
      "503:\tlearn: 5.6461926\ttotal: 17.8s\tremaining: 17.6s\n",
      "504:\tlearn: 5.6461322\ttotal: 17.9s\tremaining: 17.5s\n",
      "505:\tlearn: 5.6461271\ttotal: 17.9s\tremaining: 17.5s\n",
      "506:\tlearn: 5.6461159\ttotal: 17.9s\tremaining: 17.4s\n",
      "507:\tlearn: 5.6459259\ttotal: 18s\tremaining: 17.4s\n",
      "508:\tlearn: 5.6454372\ttotal: 18s\tremaining: 17.4s\n",
      "509:\tlearn: 5.6454283\ttotal: 18s\tremaining: 17.3s\n",
      "510:\tlearn: 5.6446123\ttotal: 18.1s\tremaining: 17.3s\n",
      "511:\tlearn: 5.6442996\ttotal: 18.1s\tremaining: 17.3s\n",
      "512:\tlearn: 5.6441903\ttotal: 18.2s\tremaining: 17.2s\n",
      "513:\tlearn: 5.6435397\ttotal: 18.2s\tremaining: 17.2s\n",
      "514:\tlearn: 5.6426397\ttotal: 18.2s\tremaining: 17.2s\n",
      "515:\tlearn: 5.6426363\ttotal: 18.3s\tremaining: 17.1s\n",
      "516:\tlearn: 5.6412522\ttotal: 18.3s\tremaining: 17.1s\n",
      "517:\tlearn: 5.6411358\ttotal: 18.3s\tremaining: 17.1s\n",
      "518:\tlearn: 5.6403182\ttotal: 18.4s\tremaining: 17s\n",
      "519:\tlearn: 5.6403180\ttotal: 18.4s\tremaining: 17s\n",
      "520:\tlearn: 5.6403148\ttotal: 18.4s\tremaining: 16.9s\n",
      "521:\tlearn: 5.6401368\ttotal: 18.4s\tremaining: 16.9s\n",
      "522:\tlearn: 5.6398737\ttotal: 18.5s\tremaining: 16.9s\n",
      "523:\tlearn: 5.6397256\ttotal: 18.5s\tremaining: 16.8s\n",
      "524:\tlearn: 5.6389092\ttotal: 18.6s\tremaining: 16.8s\n",
      "525:\tlearn: 5.6385603\ttotal: 18.6s\tremaining: 16.8s\n",
      "526:\tlearn: 5.6379196\ttotal: 18.6s\tremaining: 16.7s\n",
      "527:\tlearn: 5.6379194\ttotal: 18.6s\tremaining: 16.7s\n",
      "528:\tlearn: 5.6365222\ttotal: 18.7s\tremaining: 16.6s\n",
      "529:\tlearn: 5.6352236\ttotal: 18.7s\tremaining: 16.6s\n",
      "530:\tlearn: 5.6352206\ttotal: 18.7s\tremaining: 16.6s\n",
      "531:\tlearn: 5.6347927\ttotal: 18.8s\tremaining: 16.5s\n",
      "532:\tlearn: 5.6347722\ttotal: 18.8s\tremaining: 16.5s\n",
      "533:\tlearn: 5.6347231\ttotal: 18.8s\tremaining: 16.4s\n",
      "534:\tlearn: 5.6346562\ttotal: 18.9s\tremaining: 16.4s\n",
      "535:\tlearn: 5.6343109\ttotal: 18.9s\tremaining: 16.4s\n",
      "536:\tlearn: 5.6337304\ttotal: 18.9s\tremaining: 16.3s\n",
      "537:\tlearn: 5.6333380\ttotal: 19s\tremaining: 16.3s\n",
      "538:\tlearn: 5.6330641\ttotal: 19s\tremaining: 16.3s\n",
      "539:\tlearn: 5.6330562\ttotal: 19.1s\tremaining: 16.2s\n",
      "540:\tlearn: 5.6330335\ttotal: 19.1s\tremaining: 16.2s\n",
      "541:\tlearn: 5.6330074\ttotal: 19.1s\tremaining: 16.2s\n",
      "542:\tlearn: 5.6327420\ttotal: 19.2s\tremaining: 16.1s\n",
      "543:\tlearn: 5.6321958\ttotal: 19.3s\tremaining: 16.1s\n",
      "544:\tlearn: 5.6320237\ttotal: 19.3s\tremaining: 16.1s\n",
      "545:\tlearn: 5.6320170\ttotal: 19.3s\tremaining: 16.1s\n",
      "546:\tlearn: 5.6310938\ttotal: 19.4s\tremaining: 16s\n",
      "547:\tlearn: 5.6303593\ttotal: 19.4s\tremaining: 16s\n",
      "548:\tlearn: 5.6303370\ttotal: 19.4s\tremaining: 16s\n",
      "549:\tlearn: 5.6295332\ttotal: 19.5s\tremaining: 15.9s\n",
      "550:\tlearn: 5.6294304\ttotal: 19.5s\tremaining: 15.9s\n",
      "551:\tlearn: 5.6292091\ttotal: 19.6s\tremaining: 15.9s\n",
      "552:\tlearn: 5.6282429\ttotal: 19.6s\tremaining: 15.9s\n",
      "553:\tlearn: 5.6278375\ttotal: 19.7s\tremaining: 15.8s\n",
      "554:\tlearn: 5.6278314\ttotal: 19.7s\tremaining: 15.8s\n",
      "555:\tlearn: 5.6272740\ttotal: 19.7s\tremaining: 15.8s\n",
      "556:\tlearn: 5.6270800\ttotal: 19.8s\tremaining: 15.7s\n",
      "557:\tlearn: 5.6270627\ttotal: 19.8s\tremaining: 15.7s\n",
      "558:\tlearn: 5.6270564\ttotal: 19.8s\tremaining: 15.6s\n",
      "559:\tlearn: 5.6266930\ttotal: 19.8s\tremaining: 15.6s\n",
      "560:\tlearn: 5.6266930\ttotal: 19.8s\tremaining: 15.5s\n",
      "561:\tlearn: 5.6256378\ttotal: 19.9s\tremaining: 15.5s\n",
      "562:\tlearn: 5.6256321\ttotal: 19.9s\tremaining: 15.5s\n",
      "563:\tlearn: 5.6245857\ttotal: 20s\tremaining: 15.4s\n",
      "564:\tlearn: 5.6241324\ttotal: 20s\tremaining: 15.4s\n",
      "565:\tlearn: 5.6241324\ttotal: 20s\tremaining: 15.4s\n",
      "566:\tlearn: 5.6240341\ttotal: 20.1s\tremaining: 15.3s\n",
      "567:\tlearn: 5.6240278\ttotal: 20.1s\tremaining: 15.3s\n",
      "568:\tlearn: 5.6236134\ttotal: 20.1s\tremaining: 15.2s\n",
      "569:\tlearn: 5.6231723\ttotal: 20.2s\tremaining: 15.2s\n",
      "570:\tlearn: 5.6219402\ttotal: 20.2s\tremaining: 15.2s\n",
      "571:\tlearn: 5.6218651\ttotal: 20.3s\tremaining: 15.2s\n",
      "572:\tlearn: 5.6215475\ttotal: 20.3s\tremaining: 15.1s\n",
      "573:\tlearn: 5.6209626\ttotal: 20.3s\tremaining: 15.1s\n",
      "574:\tlearn: 5.6202388\ttotal: 20.4s\tremaining: 15.1s\n",
      "575:\tlearn: 5.6193000\ttotal: 20.4s\tremaining: 15s\n",
      "576:\tlearn: 5.6192650\ttotal: 20.4s\tremaining: 15s\n",
      "577:\tlearn: 5.6188672\ttotal: 20.5s\tremaining: 14.9s\n",
      "578:\tlearn: 5.6188672\ttotal: 20.5s\tremaining: 14.9s\n",
      "579:\tlearn: 5.6175518\ttotal: 20.5s\tremaining: 14.9s\n",
      "580:\tlearn: 5.6175518\ttotal: 20.5s\tremaining: 14.8s\n",
      "581:\tlearn: 5.6164804\ttotal: 20.6s\tremaining: 14.8s\n",
      "582:\tlearn: 5.6164753\ttotal: 20.6s\tremaining: 14.7s\n",
      "583:\tlearn: 5.6164165\ttotal: 20.6s\tremaining: 14.7s\n",
      "584:\tlearn: 5.6164147\ttotal: 20.7s\tremaining: 14.7s\n",
      "585:\tlearn: 5.6163784\ttotal: 20.7s\tremaining: 14.6s\n",
      "586:\tlearn: 5.6161923\ttotal: 20.8s\tremaining: 14.6s\n",
      "587:\tlearn: 5.6161905\ttotal: 20.8s\tremaining: 14.6s\n",
      "588:\tlearn: 5.6153902\ttotal: 20.8s\tremaining: 14.5s\n",
      "589:\tlearn: 5.6152512\ttotal: 20.9s\tremaining: 14.5s\n",
      "590:\tlearn: 5.6146709\ttotal: 20.9s\tremaining: 14.5s\n",
      "591:\tlearn: 5.6140398\ttotal: 21s\tremaining: 14.4s\n",
      "592:\tlearn: 5.6130571\ttotal: 21s\tremaining: 14.4s\n",
      "593:\tlearn: 5.6122369\ttotal: 21s\tremaining: 14.4s\n",
      "594:\tlearn: 5.6105943\ttotal: 21.1s\tremaining: 14.3s\n",
      "595:\tlearn: 5.6102130\ttotal: 21.1s\tremaining: 14.3s\n",
      "596:\tlearn: 5.6098309\ttotal: 21.1s\tremaining: 14.3s\n",
      "597:\tlearn: 5.6096538\ttotal: 21.2s\tremaining: 14.2s\n",
      "598:\tlearn: 5.6086540\ttotal: 21.2s\tremaining: 14.2s\n",
      "599:\tlearn: 5.6080918\ttotal: 21.3s\tremaining: 14.2s\n",
      "600:\tlearn: 5.6079880\ttotal: 21.3s\tremaining: 14.2s\n",
      "601:\tlearn: 5.6079106\ttotal: 21.4s\tremaining: 14.1s\n",
      "602:\tlearn: 5.6079006\ttotal: 21.4s\tremaining: 14.1s\n",
      "603:\tlearn: 5.6078782\ttotal: 21.4s\tremaining: 14.1s\n",
      "604:\tlearn: 5.6077036\ttotal: 21.5s\tremaining: 14s\n",
      "605:\tlearn: 5.6071987\ttotal: 21.5s\tremaining: 14s\n",
      "606:\tlearn: 5.6069642\ttotal: 21.6s\tremaining: 14s\n",
      "607:\tlearn: 5.6068807\ttotal: 21.6s\tremaining: 13.9s\n",
      "608:\tlearn: 5.6049605\ttotal: 21.6s\tremaining: 13.9s\n",
      "609:\tlearn: 5.6047747\ttotal: 21.7s\tremaining: 13.9s\n",
      "610:\tlearn: 5.6046311\ttotal: 21.7s\tremaining: 13.8s\n",
      "611:\tlearn: 5.6044921\ttotal: 21.8s\tremaining: 13.8s\n",
      "612:\tlearn: 5.6044714\ttotal: 21.8s\tremaining: 13.8s\n",
      "613:\tlearn: 5.6034187\ttotal: 21.8s\tremaining: 13.7s\n",
      "614:\tlearn: 5.6033631\ttotal: 21.9s\tremaining: 13.7s\n",
      "615:\tlearn: 5.6033569\ttotal: 21.9s\tremaining: 13.6s\n",
      "616:\tlearn: 5.6021117\ttotal: 21.9s\tremaining: 13.6s\n",
      "617:\tlearn: 5.6017669\ttotal: 22s\tremaining: 13.6s\n",
      "618:\tlearn: 5.6014849\ttotal: 22s\tremaining: 13.5s\n",
      "619:\tlearn: 5.6011503\ttotal: 22.1s\tremaining: 13.5s\n",
      "620:\tlearn: 5.6011465\ttotal: 22.1s\tremaining: 13.5s\n",
      "621:\tlearn: 5.6011408\ttotal: 22.1s\tremaining: 13.4s\n",
      "622:\tlearn: 5.6011308\ttotal: 22.1s\tremaining: 13.4s\n",
      "623:\tlearn: 5.6009506\ttotal: 22.2s\tremaining: 13.4s\n",
      "624:\tlearn: 5.6007061\ttotal: 22.2s\tremaining: 13.3s\n",
      "625:\tlearn: 5.6005174\ttotal: 22.3s\tremaining: 13.3s\n",
      "626:\tlearn: 5.6004278\ttotal: 22.3s\tremaining: 13.3s\n",
      "627:\tlearn: 5.5999294\ttotal: 22.3s\tremaining: 13.2s\n",
      "628:\tlearn: 5.5986986\ttotal: 22.4s\tremaining: 13.2s\n",
      "629:\tlearn: 5.5985311\ttotal: 22.4s\tremaining: 13.1s\n",
      "630:\tlearn: 5.5978564\ttotal: 22.4s\tremaining: 13.1s\n",
      "631:\tlearn: 5.5976773\ttotal: 22.5s\tremaining: 13.1s\n",
      "632:\tlearn: 5.5975936\ttotal: 22.5s\tremaining: 13s\n",
      "633:\tlearn: 5.5974020\ttotal: 22.5s\tremaining: 13s\n",
      "634:\tlearn: 5.5961084\ttotal: 22.6s\tremaining: 13s\n",
      "635:\tlearn: 5.5960616\ttotal: 22.6s\tremaining: 12.9s\n",
      "636:\tlearn: 5.5960557\ttotal: 22.6s\tremaining: 12.9s\n",
      "637:\tlearn: 5.5956231\ttotal: 22.7s\tremaining: 12.9s\n",
      "638:\tlearn: 5.5956217\ttotal: 22.7s\tremaining: 12.8s\n",
      "639:\tlearn: 5.5956162\ttotal: 22.7s\tremaining: 12.8s\n",
      "640:\tlearn: 5.5954225\ttotal: 22.8s\tremaining: 12.7s\n",
      "641:\tlearn: 5.5940992\ttotal: 22.8s\tremaining: 12.7s\n",
      "642:\tlearn: 5.5940956\ttotal: 22.8s\tremaining: 12.7s\n"
     ]
    },
    {
     "name": "stdout",
     "output_type": "stream",
     "text": [
      "643:\tlearn: 5.5939857\ttotal: 22.9s\tremaining: 12.6s\n",
      "644:\tlearn: 5.5938966\ttotal: 22.9s\tremaining: 12.6s\n",
      "645:\tlearn: 5.5930877\ttotal: 22.9s\tremaining: 12.6s\n",
      "646:\tlearn: 5.5929474\ttotal: 23s\tremaining: 12.5s\n",
      "647:\tlearn: 5.5925647\ttotal: 23s\tremaining: 12.5s\n",
      "648:\tlearn: 5.5925591\ttotal: 23s\tremaining: 12.5s\n",
      "649:\tlearn: 5.5925128\ttotal: 23.1s\tremaining: 12.4s\n",
      "650:\tlearn: 5.5920971\ttotal: 23.1s\tremaining: 12.4s\n",
      "651:\tlearn: 5.5909003\ttotal: 23.1s\tremaining: 12.3s\n",
      "652:\tlearn: 5.5908693\ttotal: 23.2s\tremaining: 12.3s\n",
      "653:\tlearn: 5.5907350\ttotal: 23.2s\tremaining: 12.3s\n",
      "654:\tlearn: 5.5903329\ttotal: 23.2s\tremaining: 12.2s\n",
      "655:\tlearn: 5.5902446\ttotal: 23.3s\tremaining: 12.2s\n",
      "656:\tlearn: 5.5901066\ttotal: 23.3s\tremaining: 12.2s\n",
      "657:\tlearn: 5.5901066\ttotal: 23.3s\tremaining: 12.1s\n",
      "658:\tlearn: 5.5901031\ttotal: 23.3s\tremaining: 12.1s\n",
      "659:\tlearn: 5.5900760\ttotal: 23.4s\tremaining: 12s\n",
      "660:\tlearn: 5.5900507\ttotal: 23.4s\tremaining: 12s\n",
      "661:\tlearn: 5.5894356\ttotal: 23.5s\tremaining: 12s\n",
      "662:\tlearn: 5.5894106\ttotal: 23.5s\tremaining: 11.9s\n",
      "663:\tlearn: 5.5893619\ttotal: 23.5s\tremaining: 11.9s\n",
      "664:\tlearn: 5.5887567\ttotal: 23.6s\tremaining: 11.9s\n",
      "665:\tlearn: 5.5886859\ttotal: 23.6s\tremaining: 11.8s\n",
      "666:\tlearn: 5.5886828\ttotal: 23.6s\tremaining: 11.8s\n",
      "667:\tlearn: 5.5886774\ttotal: 23.7s\tremaining: 11.8s\n",
      "668:\tlearn: 5.5880692\ttotal: 23.7s\tremaining: 11.7s\n",
      "669:\tlearn: 5.5879882\ttotal: 23.8s\tremaining: 11.7s\n",
      "670:\tlearn: 5.5875519\ttotal: 23.8s\tremaining: 11.7s\n",
      "671:\tlearn: 5.5870401\ttotal: 23.8s\tremaining: 11.6s\n",
      "672:\tlearn: 5.5856658\ttotal: 23.9s\tremaining: 11.6s\n",
      "673:\tlearn: 5.5856593\ttotal: 23.9s\tremaining: 11.6s\n",
      "674:\tlearn: 5.5856563\ttotal: 23.9s\tremaining: 11.5s\n",
      "675:\tlearn: 5.5852181\ttotal: 24s\tremaining: 11.5s\n",
      "676:\tlearn: 5.5852117\ttotal: 24s\tremaining: 11.5s\n",
      "677:\tlearn: 5.5845694\ttotal: 24s\tremaining: 11.4s\n",
      "678:\tlearn: 5.5836948\ttotal: 24.1s\tremaining: 11.4s\n",
      "679:\tlearn: 5.5835586\ttotal: 24.1s\tremaining: 11.3s\n",
      "680:\tlearn: 5.5832166\ttotal: 24.2s\tremaining: 11.3s\n",
      "681:\tlearn: 5.5831350\ttotal: 24.2s\tremaining: 11.3s\n",
      "682:\tlearn: 5.5830950\ttotal: 24.2s\tremaining: 11.2s\n",
      "683:\tlearn: 5.5826075\ttotal: 24.3s\tremaining: 11.2s\n",
      "684:\tlearn: 5.5818902\ttotal: 24.3s\tremaining: 11.2s\n",
      "685:\tlearn: 5.5817529\ttotal: 24.3s\tremaining: 11.1s\n",
      "686:\tlearn: 5.5817309\ttotal: 24.4s\tremaining: 11.1s\n",
      "687:\tlearn: 5.5816269\ttotal: 24.4s\tremaining: 11.1s\n",
      "688:\tlearn: 5.5815673\ttotal: 24.5s\tremaining: 11.1s\n",
      "689:\tlearn: 5.5815471\ttotal: 24.5s\tremaining: 11s\n",
      "690:\tlearn: 5.5808766\ttotal: 24.6s\tremaining: 11s\n",
      "691:\tlearn: 5.5808739\ttotal: 24.6s\tremaining: 11s\n",
      "692:\tlearn: 5.5798150\ttotal: 24.7s\tremaining: 10.9s\n",
      "693:\tlearn: 5.5795596\ttotal: 24.7s\tremaining: 10.9s\n",
      "694:\tlearn: 5.5795413\ttotal: 24.7s\tremaining: 10.9s\n",
      "695:\tlearn: 5.5794473\ttotal: 24.8s\tremaining: 10.8s\n",
      "696:\tlearn: 5.5794473\ttotal: 24.8s\tremaining: 10.8s\n",
      "697:\tlearn: 5.5793987\ttotal: 24.8s\tremaining: 10.7s\n",
      "698:\tlearn: 5.5791084\ttotal: 24.9s\tremaining: 10.7s\n",
      "699:\tlearn: 5.5785591\ttotal: 24.9s\tremaining: 10.7s\n",
      "700:\tlearn: 5.5771706\ttotal: 25s\tremaining: 10.7s\n",
      "701:\tlearn: 5.5771353\ttotal: 25.1s\tremaining: 10.6s\n",
      "702:\tlearn: 5.5770529\ttotal: 25.1s\tremaining: 10.6s\n",
      "703:\tlearn: 5.5770303\ttotal: 25.2s\tremaining: 10.6s\n",
      "704:\tlearn: 5.5770281\ttotal: 25.2s\tremaining: 10.5s\n",
      "705:\tlearn: 5.5758903\ttotal: 25.2s\tremaining: 10.5s\n",
      "706:\tlearn: 5.5758254\ttotal: 25.3s\tremaining: 10.5s\n",
      "707:\tlearn: 5.5757222\ttotal: 25.3s\tremaining: 10.5s\n",
      "708:\tlearn: 5.5754473\ttotal: 25.4s\tremaining: 10.4s\n",
      "709:\tlearn: 5.5749384\ttotal: 25.4s\tremaining: 10.4s\n",
      "710:\tlearn: 5.5748741\ttotal: 25.5s\tremaining: 10.4s\n",
      "711:\tlearn: 5.5748395\ttotal: 25.5s\tremaining: 10.3s\n",
      "712:\tlearn: 5.5747654\ttotal: 25.5s\tremaining: 10.3s\n",
      "713:\tlearn: 5.5747633\ttotal: 25.6s\tremaining: 10.2s\n",
      "714:\tlearn: 5.5746070\ttotal: 25.6s\tremaining: 10.2s\n",
      "715:\tlearn: 5.5746004\ttotal: 25.6s\tremaining: 10.2s\n",
      "716:\tlearn: 5.5745984\ttotal: 25.7s\tremaining: 10.1s\n",
      "717:\tlearn: 5.5745541\ttotal: 25.7s\tremaining: 10.1s\n",
      "718:\tlearn: 5.5743025\ttotal: 25.7s\tremaining: 10.1s\n",
      "719:\tlearn: 5.5741650\ttotal: 25.8s\tremaining: 10s\n",
      "720:\tlearn: 5.5737511\ttotal: 25.8s\tremaining: 9.98s\n",
      "721:\tlearn: 5.5733119\ttotal: 25.8s\tremaining: 9.95s\n",
      "722:\tlearn: 5.5732212\ttotal: 25.9s\tremaining: 9.91s\n",
      "723:\tlearn: 5.5728881\ttotal: 25.9s\tremaining: 9.88s\n",
      "724:\tlearn: 5.5724615\ttotal: 26s\tremaining: 9.84s\n",
      "725:\tlearn: 5.5718301\ttotal: 26s\tremaining: 9.81s\n",
      "726:\tlearn: 5.5716288\ttotal: 26s\tremaining: 9.77s\n",
      "727:\tlearn: 5.5712224\ttotal: 26.1s\tremaining: 9.74s\n",
      "728:\tlearn: 5.5712211\ttotal: 26.1s\tremaining: 9.7s\n",
      "729:\tlearn: 5.5709938\ttotal: 26.2s\tremaining: 9.67s\n",
      "730:\tlearn: 5.5709880\ttotal: 26.2s\tremaining: 9.63s\n",
      "731:\tlearn: 5.5709720\ttotal: 26.2s\tremaining: 9.59s\n",
      "732:\tlearn: 5.5709639\ttotal: 26.2s\tremaining: 9.56s\n",
      "733:\tlearn: 5.5709639\ttotal: 26.3s\tremaining: 9.52s\n",
      "734:\tlearn: 5.5705241\ttotal: 26.3s\tremaining: 9.48s\n",
      "735:\tlearn: 5.5700535\ttotal: 26.3s\tremaining: 9.45s\n",
      "736:\tlearn: 5.5700518\ttotal: 26.4s\tremaining: 9.41s\n",
      "737:\tlearn: 5.5699577\ttotal: 26.4s\tremaining: 9.37s\n",
      "738:\tlearn: 5.5696058\ttotal: 26.4s\tremaining: 9.34s\n",
      "739:\tlearn: 5.5696052\ttotal: 26.5s\tremaining: 9.3s\n",
      "740:\tlearn: 5.5692144\ttotal: 26.5s\tremaining: 9.26s\n",
      "741:\tlearn: 5.5685325\ttotal: 26.5s\tremaining: 9.22s\n",
      "742:\tlearn: 5.5685320\ttotal: 26.6s\tremaining: 9.19s\n",
      "743:\tlearn: 5.5674984\ttotal: 26.6s\tremaining: 9.15s\n",
      "744:\tlearn: 5.5672342\ttotal: 26.6s\tremaining: 9.12s\n",
      "745:\tlearn: 5.5672113\ttotal: 26.7s\tremaining: 9.08s\n",
      "746:\tlearn: 5.5668104\ttotal: 26.7s\tremaining: 9.05s\n",
      "747:\tlearn: 5.5666581\ttotal: 26.7s\tremaining: 9.01s\n",
      "748:\tlearn: 5.5664045\ttotal: 26.8s\tremaining: 8.97s\n",
      "749:\tlearn: 5.5647843\ttotal: 26.8s\tremaining: 8.94s\n",
      "750:\tlearn: 5.5644452\ttotal: 26.9s\tremaining: 8.91s\n",
      "751:\tlearn: 5.5636996\ttotal: 26.9s\tremaining: 8.87s\n",
      "752:\tlearn: 5.5636275\ttotal: 27s\tremaining: 8.84s\n",
      "753:\tlearn: 5.5636271\ttotal: 27s\tremaining: 8.8s\n",
      "754:\tlearn: 5.5633826\ttotal: 27s\tremaining: 8.77s\n",
      "755:\tlearn: 5.5633810\ttotal: 27.1s\tremaining: 8.73s\n",
      "756:\tlearn: 5.5633492\ttotal: 27.1s\tremaining: 8.7s\n",
      "757:\tlearn: 5.5626010\ttotal: 27.1s\tremaining: 8.66s\n",
      "758:\tlearn: 5.5626006\ttotal: 27.2s\tremaining: 8.63s\n",
      "759:\tlearn: 5.5623522\ttotal: 27.2s\tremaining: 8.59s\n",
      "760:\tlearn: 5.5622161\ttotal: 27.2s\tremaining: 8.56s\n",
      "761:\tlearn: 5.5603784\ttotal: 27.3s\tremaining: 8.52s\n",
      "762:\tlearn: 5.5603386\ttotal: 27.3s\tremaining: 8.48s\n",
      "763:\tlearn: 5.5595917\ttotal: 27.3s\tremaining: 8.45s\n",
      "764:\tlearn: 5.5592897\ttotal: 27.4s\tremaining: 8.41s\n",
      "765:\tlearn: 5.5578979\ttotal: 27.4s\tremaining: 8.37s\n",
      "766:\tlearn: 5.5576776\ttotal: 27.4s\tremaining: 8.34s\n",
      "767:\tlearn: 5.5576773\ttotal: 27.5s\tremaining: 8.3s\n",
      "768:\tlearn: 5.5567969\ttotal: 27.5s\tremaining: 8.26s\n",
      "769:\tlearn: 5.5567954\ttotal: 27.5s\tremaining: 8.22s\n",
      "770:\tlearn: 5.5561502\ttotal: 27.6s\tremaining: 8.18s\n",
      "771:\tlearn: 5.5552927\ttotal: 27.6s\tremaining: 8.15s\n",
      "772:\tlearn: 5.5552804\ttotal: 27.6s\tremaining: 8.11s\n",
      "773:\tlearn: 5.5538815\ttotal: 27.7s\tremaining: 8.08s\n",
      "774:\tlearn: 5.5532805\ttotal: 27.7s\tremaining: 8.05s\n",
      "775:\tlearn: 5.5532802\ttotal: 27.7s\tremaining: 8.01s\n",
      "776:\tlearn: 5.5522888\ttotal: 27.8s\tremaining: 7.97s\n",
      "777:\tlearn: 5.5515917\ttotal: 27.8s\tremaining: 7.93s\n",
      "778:\tlearn: 5.5514608\ttotal: 27.8s\tremaining: 7.9s\n",
      "779:\tlearn: 5.5499982\ttotal: 27.9s\tremaining: 7.87s\n",
      "780:\tlearn: 5.5499978\ttotal: 27.9s\tremaining: 7.83s\n",
      "781:\tlearn: 5.5497901\ttotal: 28s\tremaining: 7.79s\n",
      "782:\tlearn: 5.5497394\ttotal: 28s\tremaining: 7.76s\n",
      "783:\tlearn: 5.5496000\ttotal: 28s\tremaining: 7.73s\n",
      "784:\tlearn: 5.5492926\ttotal: 28.1s\tremaining: 7.69s\n",
      "785:\tlearn: 5.5491572\ttotal: 28.1s\tremaining: 7.66s\n",
      "786:\tlearn: 5.5485000\ttotal: 28.2s\tremaining: 7.63s\n",
      "787:\tlearn: 5.5481849\ttotal: 28.2s\tremaining: 7.59s\n",
      "788:\tlearn: 5.5480806\ttotal: 28.3s\tremaining: 7.56s\n",
      "789:\tlearn: 5.5480794\ttotal: 28.3s\tremaining: 7.52s\n",
      "790:\tlearn: 5.5476886\ttotal: 28.3s\tremaining: 7.49s\n",
      "791:\tlearn: 5.5475408\ttotal: 28.4s\tremaining: 7.45s\n",
      "792:\tlearn: 5.5472750\ttotal: 28.4s\tremaining: 7.42s\n",
      "793:\tlearn: 5.5472747\ttotal: 28.4s\tremaining: 7.38s\n",
      "794:\tlearn: 5.5472743\ttotal: 28.5s\tremaining: 7.35s\n",
      "795:\tlearn: 5.5472739\ttotal: 28.5s\tremaining: 7.31s\n",
      "796:\tlearn: 5.5472012\ttotal: 28.6s\tremaining: 7.27s\n",
      "797:\tlearn: 5.5471910\ttotal: 28.6s\tremaining: 7.24s\n",
      "798:\tlearn: 5.5470969\ttotal: 28.6s\tremaining: 7.2s\n",
      "799:\tlearn: 5.5469631\ttotal: 28.7s\tremaining: 7.17s\n",
      "800:\tlearn: 5.5464455\ttotal: 28.7s\tremaining: 7.13s\n",
      "801:\tlearn: 5.5464443\ttotal: 28.8s\tremaining: 7.1s\n",
      "802:\tlearn: 5.5460020\ttotal: 28.8s\tremaining: 7.07s\n"
     ]
    },
    {
     "name": "stdout",
     "output_type": "stream",
     "text": [
      "803:\tlearn: 5.5458071\ttotal: 28.8s\tremaining: 7.03s\n",
      "804:\tlearn: 5.5458068\ttotal: 28.9s\tremaining: 7s\n",
      "805:\tlearn: 5.5454385\ttotal: 28.9s\tremaining: 6.96s\n",
      "806:\tlearn: 5.5454098\ttotal: 29s\tremaining: 6.92s\n",
      "807:\tlearn: 5.5439302\ttotal: 29s\tremaining: 6.89s\n",
      "808:\tlearn: 5.5435173\ttotal: 29s\tremaining: 6.86s\n",
      "809:\tlearn: 5.5429207\ttotal: 29.1s\tremaining: 6.82s\n",
      "810:\tlearn: 5.5429161\ttotal: 29.1s\tremaining: 6.78s\n",
      "811:\tlearn: 5.5428781\ttotal: 29.1s\tremaining: 6.74s\n",
      "812:\tlearn: 5.5427311\ttotal: 29.2s\tremaining: 6.71s\n",
      "813:\tlearn: 5.5425567\ttotal: 29.2s\tremaining: 6.67s\n",
      "814:\tlearn: 5.5421280\ttotal: 29.2s\tremaining: 6.64s\n",
      "815:\tlearn: 5.5419965\ttotal: 29.3s\tremaining: 6.6s\n",
      "816:\tlearn: 5.5415906\ttotal: 29.3s\tremaining: 6.56s\n",
      "817:\tlearn: 5.5412699\ttotal: 29.3s\tremaining: 6.53s\n",
      "818:\tlearn: 5.5409684\ttotal: 29.4s\tremaining: 6.5s\n",
      "819:\tlearn: 5.5408361\ttotal: 29.4s\tremaining: 6.46s\n",
      "820:\tlearn: 5.5407566\ttotal: 29.5s\tremaining: 6.42s\n",
      "821:\tlearn: 5.5397759\ttotal: 29.5s\tremaining: 6.39s\n",
      "822:\tlearn: 5.5396838\ttotal: 29.5s\tremaining: 6.35s\n",
      "823:\tlearn: 5.5387297\ttotal: 29.6s\tremaining: 6.32s\n",
      "824:\tlearn: 5.5379980\ttotal: 29.6s\tremaining: 6.28s\n",
      "825:\tlearn: 5.5378630\ttotal: 29.6s\tremaining: 6.25s\n",
      "826:\tlearn: 5.5378174\ttotal: 29.7s\tremaining: 6.21s\n",
      "827:\tlearn: 5.5378174\ttotal: 29.7s\tremaining: 6.17s\n",
      "828:\tlearn: 5.5370992\ttotal: 29.7s\tremaining: 6.13s\n",
      "829:\tlearn: 5.5365310\ttotal: 29.8s\tremaining: 6.1s\n",
      "830:\tlearn: 5.5350454\ttotal: 29.8s\tremaining: 6.06s\n",
      "831:\tlearn: 5.5345634\ttotal: 29.8s\tremaining: 6.03s\n",
      "832:\tlearn: 5.5336292\ttotal: 29.9s\tremaining: 5.99s\n",
      "833:\tlearn: 5.5335953\ttotal: 29.9s\tremaining: 5.95s\n",
      "834:\tlearn: 5.5320183\ttotal: 29.9s\tremaining: 5.92s\n",
      "835:\tlearn: 5.5315538\ttotal: 30s\tremaining: 5.88s\n",
      "836:\tlearn: 5.5315529\ttotal: 30s\tremaining: 5.85s\n",
      "837:\tlearn: 5.5309836\ttotal: 30.1s\tremaining: 5.81s\n",
      "838:\tlearn: 5.5308039\ttotal: 30.1s\tremaining: 5.77s\n",
      "839:\tlearn: 5.5305182\ttotal: 30.1s\tremaining: 5.74s\n",
      "840:\tlearn: 5.5301380\ttotal: 30.2s\tremaining: 5.71s\n",
      "841:\tlearn: 5.5300760\ttotal: 30.2s\tremaining: 5.67s\n",
      "842:\tlearn: 5.5291952\ttotal: 30.3s\tremaining: 5.63s\n",
      "843:\tlearn: 5.5285009\ttotal: 30.3s\tremaining: 5.6s\n",
      "844:\tlearn: 5.5283268\ttotal: 30.3s\tremaining: 5.57s\n",
      "845:\tlearn: 5.5283056\ttotal: 30.4s\tremaining: 5.53s\n",
      "846:\tlearn: 5.5279928\ttotal: 30.4s\tremaining: 5.5s\n",
      "847:\tlearn: 5.5276594\ttotal: 30.5s\tremaining: 5.46s\n",
      "848:\tlearn: 5.5272416\ttotal: 30.5s\tremaining: 5.42s\n",
      "849:\tlearn: 5.5264862\ttotal: 30.5s\tremaining: 5.39s\n",
      "850:\tlearn: 5.5264208\ttotal: 30.6s\tremaining: 5.36s\n",
      "851:\tlearn: 5.5256890\ttotal: 30.6s\tremaining: 5.32s\n",
      "852:\tlearn: 5.5256105\ttotal: 30.7s\tremaining: 5.28s\n",
      "853:\tlearn: 5.5242370\ttotal: 30.7s\tremaining: 5.25s\n",
      "854:\tlearn: 5.5241256\ttotal: 30.7s\tremaining: 5.21s\n",
      "855:\tlearn: 5.5239172\ttotal: 30.8s\tremaining: 5.17s\n",
      "856:\tlearn: 5.5232463\ttotal: 30.8s\tremaining: 5.14s\n",
      "857:\tlearn: 5.5230546\ttotal: 30.9s\tremaining: 5.11s\n",
      "858:\tlearn: 5.5227404\ttotal: 30.9s\tremaining: 5.07s\n",
      "859:\tlearn: 5.5226909\ttotal: 30.9s\tremaining: 5.04s\n",
      "860:\tlearn: 5.5225479\ttotal: 31s\tremaining: 5s\n",
      "861:\tlearn: 5.5221184\ttotal: 31s\tremaining: 4.97s\n",
      "862:\tlearn: 5.5218721\ttotal: 31.1s\tremaining: 4.93s\n",
      "863:\tlearn: 5.5217966\ttotal: 31.1s\tremaining: 4.9s\n",
      "864:\tlearn: 5.5210462\ttotal: 31.1s\tremaining: 4.86s\n",
      "865:\tlearn: 5.5208726\ttotal: 31.2s\tremaining: 4.83s\n",
      "866:\tlearn: 5.5204169\ttotal: 31.2s\tremaining: 4.79s\n",
      "867:\tlearn: 5.5201740\ttotal: 31.3s\tremaining: 4.75s\n",
      "868:\tlearn: 5.5197654\ttotal: 31.3s\tremaining: 4.72s\n",
      "869:\tlearn: 5.5192684\ttotal: 31.3s\tremaining: 4.68s\n",
      "870:\tlearn: 5.5190602\ttotal: 31.4s\tremaining: 4.64s\n",
      "871:\tlearn: 5.5186017\ttotal: 31.4s\tremaining: 4.61s\n",
      "872:\tlearn: 5.5184803\ttotal: 31.4s\tremaining: 4.57s\n",
      "873:\tlearn: 5.5181413\ttotal: 31.5s\tremaining: 4.54s\n",
      "874:\tlearn: 5.5175684\ttotal: 31.5s\tremaining: 4.5s\n",
      "875:\tlearn: 5.5168114\ttotal: 31.6s\tremaining: 4.47s\n",
      "876:\tlearn: 5.5161570\ttotal: 31.6s\tremaining: 4.43s\n",
      "877:\tlearn: 5.5159886\ttotal: 31.7s\tremaining: 4.4s\n",
      "878:\tlearn: 5.5150986\ttotal: 31.7s\tremaining: 4.36s\n",
      "879:\tlearn: 5.5150347\ttotal: 31.7s\tremaining: 4.33s\n",
      "880:\tlearn: 5.5148982\ttotal: 31.8s\tremaining: 4.29s\n",
      "881:\tlearn: 5.5148927\ttotal: 31.8s\tremaining: 4.25s\n",
      "882:\tlearn: 5.5146676\ttotal: 31.8s\tremaining: 4.22s\n",
      "883:\tlearn: 5.5144196\ttotal: 31.9s\tremaining: 4.18s\n",
      "884:\tlearn: 5.5143783\ttotal: 31.9s\tremaining: 4.15s\n",
      "885:\tlearn: 5.5137132\ttotal: 32s\tremaining: 4.11s\n",
      "886:\tlearn: 5.5135998\ttotal: 32s\tremaining: 4.07s\n",
      "887:\tlearn: 5.5135189\ttotal: 32s\tremaining: 4.04s\n",
      "888:\tlearn: 5.5133240\ttotal: 32.1s\tremaining: 4s\n",
      "889:\tlearn: 5.5133014\ttotal: 32.1s\tremaining: 3.97s\n",
      "890:\tlearn: 5.5131016\ttotal: 32.1s\tremaining: 3.93s\n",
      "891:\tlearn: 5.5128772\ttotal: 32.2s\tremaining: 3.89s\n",
      "892:\tlearn: 5.5128763\ttotal: 32.2s\tremaining: 3.85s\n",
      "893:\tlearn: 5.5128229\ttotal: 32.2s\tremaining: 3.82s\n",
      "894:\tlearn: 5.5126383\ttotal: 32.2s\tremaining: 3.78s\n",
      "895:\tlearn: 5.5124900\ttotal: 32.3s\tremaining: 3.75s\n",
      "896:\tlearn: 5.5121882\ttotal: 32.3s\tremaining: 3.71s\n",
      "897:\tlearn: 5.5121165\ttotal: 32.4s\tremaining: 3.67s\n",
      "898:\tlearn: 5.5120480\ttotal: 32.4s\tremaining: 3.64s\n",
      "899:\tlearn: 5.5118609\ttotal: 32.5s\tremaining: 3.61s\n",
      "900:\tlearn: 5.5117598\ttotal: 32.5s\tremaining: 3.57s\n",
      "901:\tlearn: 5.5117466\ttotal: 32.5s\tremaining: 3.53s\n",
      "902:\tlearn: 5.5114664\ttotal: 32.5s\tremaining: 3.5s\n",
      "903:\tlearn: 5.5113600\ttotal: 32.6s\tremaining: 3.46s\n",
      "904:\tlearn: 5.5107184\ttotal: 32.6s\tremaining: 3.42s\n",
      "905:\tlearn: 5.5101781\ttotal: 32.7s\tremaining: 3.39s\n",
      "906:\tlearn: 5.5098358\ttotal: 32.7s\tremaining: 3.35s\n",
      "907:\tlearn: 5.5097166\ttotal: 32.7s\tremaining: 3.32s\n",
      "908:\tlearn: 5.5093287\ttotal: 32.8s\tremaining: 3.28s\n",
      "909:\tlearn: 5.5093200\ttotal: 32.8s\tremaining: 3.24s\n",
      "910:\tlearn: 5.5084763\ttotal: 32.9s\tremaining: 3.21s\n",
      "911:\tlearn: 5.5080704\ttotal: 32.9s\tremaining: 3.17s\n",
      "912:\tlearn: 5.5079513\ttotal: 32.9s\tremaining: 3.14s\n",
      "913:\tlearn: 5.5078297\ttotal: 33s\tremaining: 3.1s\n",
      "914:\tlearn: 5.5077609\ttotal: 33s\tremaining: 3.07s\n",
      "915:\tlearn: 5.5076647\ttotal: 33.1s\tremaining: 3.03s\n",
      "916:\tlearn: 5.5066717\ttotal: 33.1s\tremaining: 3s\n",
      "917:\tlearn: 5.5065175\ttotal: 33.1s\tremaining: 2.96s\n",
      "918:\tlearn: 5.5063353\ttotal: 33.2s\tremaining: 2.92s\n",
      "919:\tlearn: 5.5059403\ttotal: 33.2s\tremaining: 2.89s\n",
      "920:\tlearn: 5.5059120\ttotal: 33.3s\tremaining: 2.85s\n",
      "921:\tlearn: 5.5059114\ttotal: 33.3s\tremaining: 2.82s\n",
      "922:\tlearn: 5.5052672\ttotal: 33.3s\tremaining: 2.78s\n",
      "923:\tlearn: 5.5049496\ttotal: 33.4s\tremaining: 2.74s\n",
      "924:\tlearn: 5.5049224\ttotal: 33.4s\tremaining: 2.71s\n",
      "925:\tlearn: 5.5041313\ttotal: 33.4s\tremaining: 2.67s\n",
      "926:\tlearn: 5.5040836\ttotal: 33.5s\tremaining: 2.64s\n",
      "927:\tlearn: 5.5040504\ttotal: 33.5s\tremaining: 2.6s\n",
      "928:\tlearn: 5.5040027\ttotal: 33.6s\tremaining: 2.56s\n",
      "929:\tlearn: 5.5033934\ttotal: 33.6s\tremaining: 2.53s\n",
      "930:\tlearn: 5.5033928\ttotal: 33.6s\tremaining: 2.49s\n",
      "931:\tlearn: 5.5026852\ttotal: 33.7s\tremaining: 2.46s\n",
      "932:\tlearn: 5.5026759\ttotal: 33.7s\tremaining: 2.42s\n",
      "933:\tlearn: 5.5025165\ttotal: 33.8s\tremaining: 2.39s\n",
      "934:\tlearn: 5.5024644\ttotal: 33.8s\tremaining: 2.35s\n",
      "935:\tlearn: 5.5023299\ttotal: 33.9s\tremaining: 2.31s\n",
      "936:\tlearn: 5.5020711\ttotal: 33.9s\tremaining: 2.28s\n",
      "937:\tlearn: 5.5016246\ttotal: 34s\tremaining: 2.25s\n",
      "938:\tlearn: 5.5004074\ttotal: 34s\tremaining: 2.21s\n",
      "939:\tlearn: 5.5003202\ttotal: 34s\tremaining: 2.17s\n",
      "940:\tlearn: 5.5003135\ttotal: 34.1s\tremaining: 2.14s\n",
      "941:\tlearn: 5.5003098\ttotal: 34.1s\tremaining: 2.1s\n",
      "942:\tlearn: 5.5003093\ttotal: 34.1s\tremaining: 2.06s\n",
      "943:\tlearn: 5.4983360\ttotal: 34.2s\tremaining: 2.03s\n",
      "944:\tlearn: 5.4983360\ttotal: 34.2s\tremaining: 1.99s\n",
      "945:\tlearn: 5.4983211\ttotal: 34.2s\tremaining: 1.95s\n",
      "946:\tlearn: 5.4973652\ttotal: 34.3s\tremaining: 1.92s\n",
      "947:\tlearn: 5.4972477\ttotal: 34.3s\tremaining: 1.88s\n",
      "948:\tlearn: 5.4972477\ttotal: 34.3s\tremaining: 1.84s\n",
      "949:\tlearn: 5.4970058\ttotal: 34.4s\tremaining: 1.81s\n",
      "950:\tlearn: 5.4970054\ttotal: 34.4s\tremaining: 1.77s\n",
      "951:\tlearn: 5.4969982\ttotal: 34.4s\tremaining: 1.74s\n",
      "952:\tlearn: 5.4967389\ttotal: 34.5s\tremaining: 1.7s\n",
      "953:\tlearn: 5.4967223\ttotal: 34.5s\tremaining: 1.66s\n",
      "954:\tlearn: 5.4965751\ttotal: 34.6s\tremaining: 1.63s\n",
      "955:\tlearn: 5.4961460\ttotal: 34.6s\tremaining: 1.59s\n",
      "956:\tlearn: 5.4961394\ttotal: 34.6s\tremaining: 1.55s\n",
      "957:\tlearn: 5.4961332\ttotal: 34.6s\tremaining: 1.52s\n",
      "958:\tlearn: 5.4961171\ttotal: 34.7s\tremaining: 1.48s\n",
      "959:\tlearn: 5.4958517\ttotal: 34.7s\tremaining: 1.45s\n",
      "960:\tlearn: 5.4956569\ttotal: 34.8s\tremaining: 1.41s\n",
      "961:\tlearn: 5.4956126\ttotal: 34.8s\tremaining: 1.37s\n"
     ]
    },
    {
     "name": "stdout",
     "output_type": "stream",
     "text": [
      "962:\tlearn: 5.4948949\ttotal: 34.8s\tremaining: 1.34s\n",
      "963:\tlearn: 5.4948945\ttotal: 34.9s\tremaining: 1.3s\n",
      "964:\tlearn: 5.4944829\ttotal: 34.9s\tremaining: 1.27s\n",
      "965:\tlearn: 5.4942406\ttotal: 35s\tremaining: 1.23s\n",
      "966:\tlearn: 5.4940810\ttotal: 35s\tremaining: 1.19s\n",
      "967:\tlearn: 5.4940762\ttotal: 35s\tremaining: 1.16s\n",
      "968:\tlearn: 5.4940762\ttotal: 35s\tremaining: 1.12s\n",
      "969:\tlearn: 5.4939837\ttotal: 35.1s\tremaining: 1.08s\n",
      "970:\tlearn: 5.4939771\ttotal: 35.1s\tremaining: 1.05s\n",
      "971:\tlearn: 5.4938042\ttotal: 35.2s\tremaining: 1.01s\n",
      "972:\tlearn: 5.4938042\ttotal: 35.2s\tremaining: 976ms\n",
      "973:\tlearn: 5.4937887\ttotal: 35.2s\tremaining: 940ms\n",
      "974:\tlearn: 5.4937720\ttotal: 35.3s\tremaining: 904ms\n",
      "975:\tlearn: 5.4935956\ttotal: 35.3s\tremaining: 868ms\n",
      "976:\tlearn: 5.4920138\ttotal: 35.3s\tremaining: 832ms\n",
      "977:\tlearn: 5.4916303\ttotal: 35.4s\tremaining: 796ms\n",
      "978:\tlearn: 5.4906328\ttotal: 35.4s\tremaining: 760ms\n",
      "979:\tlearn: 5.4906324\ttotal: 35.5s\tremaining: 724ms\n",
      "980:\tlearn: 5.4905759\ttotal: 35.5s\tremaining: 688ms\n",
      "981:\tlearn: 5.4904738\ttotal: 35.5s\tremaining: 651ms\n",
      "982:\tlearn: 5.4897611\ttotal: 35.6s\tremaining: 615ms\n",
      "983:\tlearn: 5.4895513\ttotal: 35.6s\tremaining: 579ms\n",
      "984:\tlearn: 5.4890619\ttotal: 35.7s\tremaining: 543ms\n",
      "985:\tlearn: 5.4883699\ttotal: 35.7s\tremaining: 507ms\n",
      "986:\tlearn: 5.4883609\ttotal: 35.7s\tremaining: 471ms\n",
      "987:\tlearn: 5.4879829\ttotal: 35.8s\tremaining: 435ms\n",
      "988:\tlearn: 5.4879801\ttotal: 35.8s\tremaining: 398ms\n",
      "989:\tlearn: 5.4879801\ttotal: 35.8s\tremaining: 362ms\n",
      "990:\tlearn: 5.4877124\ttotal: 35.9s\tremaining: 326ms\n",
      "991:\tlearn: 5.4877124\ttotal: 35.9s\tremaining: 290ms\n",
      "992:\tlearn: 5.4867699\ttotal: 36s\tremaining: 253ms\n",
      "993:\tlearn: 5.4867698\ttotal: 36s\tremaining: 217ms\n",
      "994:\tlearn: 5.4867556\ttotal: 36s\tremaining: 181ms\n",
      "995:\tlearn: 5.4863487\ttotal: 36.1s\tremaining: 145ms\n",
      "996:\tlearn: 5.4863422\ttotal: 36.1s\tremaining: 109ms\n",
      "997:\tlearn: 5.4861626\ttotal: 36.1s\tremaining: 72.4ms\n",
      "998:\tlearn: 5.4861324\ttotal: 36.2s\tremaining: 36.2ms\n",
      "999:\tlearn: 5.4856869\ttotal: 36.2s\tremaining: 0us\n"
     ]
    },
    {
     "data": {
      "text/plain": [
       "<catboost.core.CatBoostRegressor at 0x13ed8d1a7b8>"
      ]
     },
     "execution_count": 89,
     "metadata": {},
     "output_type": "execute_result"
    }
   ],
   "source": [
    "from catboost import CatBoostRegressor\n",
    "\n",
    "model_cat = CatBoostRegressor()\n",
    "\n",
    "# Specify cathegorical variable \n",
    "cat_features = [0, 1, 2, 3, 4, 5] \n",
    "model_cat.fit(X_train, y_train, cat_features)\n",
    "# model_cat.fit(X_train, y_train)"
   ]
  },
  {
   "cell_type": "code",
   "execution_count": 90,
   "metadata": {},
   "outputs": [],
   "source": [
    "preds = model_cat.predict(X_test)\n",
    "\n",
    "preds = np.rint(preds)"
   ]
  },
  {
   "cell_type": "code",
   "execution_count": 91,
   "metadata": {},
   "outputs": [
    {
     "name": "stdout",
     "output_type": "stream",
     "text": [
      "3.822632423756019\n"
     ]
    }
   ],
   "source": [
    "print (mean_absolute_error(preds,y_test))"
   ]
  },
  {
   "cell_type": "code",
   "execution_count": null,
   "metadata": {},
   "outputs": [],
   "source": []
  },
  {
   "cell_type": "code",
   "execution_count": null,
   "metadata": {},
   "outputs": [],
   "source": []
  },
  {
   "cell_type": "markdown",
   "metadata": {},
   "source": [
    "## XGBoost"
   ]
  },
  {
   "cell_type": "code",
   "execution_count": 51,
   "metadata": {},
   "outputs": [],
   "source": [
    "from xgboost import XGBClassifier\n",
    "from sklearn.metrics import accuracy_score\n",
    "import xgboost as xgb"
   ]
  },
  {
   "cell_type": "code",
   "execution_count": 52,
   "metadata": {},
   "outputs": [
    {
     "name": "stdout",
     "output_type": "stream",
     "text": [
      "<class 'pandas.core.frame.DataFrame'>\n",
      "Int64Index: 6228 entries, 0 to 6248\n",
      "Data columns (total 5 columns):\n",
      "travel_date     6228 non-null int64\n",
      "travel_time     6228 non-null int64\n",
      "travel_from     6228 non-null int8\n",
      "car_type        6228 non-null int8\n",
      "max_capacity    6228 non-null int64\n",
      "dtypes: int64(3), int8(2)\n",
      "memory usage: 206.8 KB\n"
     ]
    }
   ],
   "source": [
    "X.info()"
   ]
  },
  {
   "cell_type": "code",
   "execution_count": 92,
   "metadata": {},
   "outputs": [],
   "source": [
    "xgb_model = xgb.XGBRegressor()\n",
    "\n",
    "xgb_model.fit(X_train, y_train)\n",
    "# xgb_model.fit(X, y)\n",
    "\n",
    "\n",
    "y_pred_xgb = xgb_model.predict(X_test)"
   ]
  },
  {
   "cell_type": "code",
   "execution_count": 93,
   "metadata": {},
   "outputs": [
    {
     "name": "stdout",
     "output_type": "stream",
     "text": [
      "3.982234814193811\n"
     ]
    }
   ],
   "source": [
    "print (mean_absolute_error(y_pred_xgb,y_test))"
   ]
  },
  {
   "cell_type": "markdown",
   "metadata": {},
   "source": [
    "### All dataset (For the cometition purpose)"
   ]
  },
  {
   "cell_type": "code",
   "execution_count": 227,
   "metadata": {},
   "outputs": [],
   "source": [
    "# model_all = RandomForestRegressor(n_estimators=100, criterion=\"mae\", n_jobs=-1)\n",
    "model_all = RandomForestRegressor(n_estimators=100, criterion='mae', max_depth=None, \n",
    "                                  min_samples_split=2, min_samples_leaf=1, min_weight_fraction_leaf=0.0,\n",
    "                                  max_features='auto', max_leaf_nodes=None, min_impurity_decrease=0.0, \n",
    "                                  min_impurity_split=None, bootstrap=True, oob_score=False, n_jobs=-1, \n",
    "                                  random_state=None, verbose=0, warm_start=False)"
   ]
  },
  {
   "cell_type": "code",
   "execution_count": 228,
   "metadata": {},
   "outputs": [
    {
     "data": {
      "text/plain": [
       "RandomForestRegressor(bootstrap=True, criterion='mae', max_depth=None,\n",
       "           max_features='auto', max_leaf_nodes=None,\n",
       "           min_impurity_decrease=0.0, min_impurity_split=None,\n",
       "           min_samples_leaf=1, min_samples_split=2,\n",
       "           min_weight_fraction_leaf=0.0, n_estimators=100, n_jobs=-1,\n",
       "           oob_score=False, random_state=None, verbose=0, warm_start=False)"
      ]
     },
     "execution_count": 228,
     "metadata": {},
     "output_type": "execute_result"
    }
   ],
   "source": [
    "model_all.fit(X_comp,y)"
   ]
  },
  {
   "cell_type": "code",
   "execution_count": 229,
   "metadata": {},
   "outputs": [],
   "source": [
    "y_preds_all = model_all.predict(X)"
   ]
  },
  {
   "cell_type": "code",
   "execution_count": 230,
   "metadata": {},
   "outputs": [],
   "source": [
    "y_preds_all = np.rint(y_preds_all)"
   ]
  },
  {
   "cell_type": "code",
   "execution_count": 231,
   "metadata": {},
   "outputs": [
    {
     "data": {
      "text/html": [
       "<div>\n",
       "<style scoped>\n",
       "    .dataframe tbody tr th:only-of-type {\n",
       "        vertical-align: middle;\n",
       "    }\n",
       "\n",
       "    .dataframe tbody tr th {\n",
       "        vertical-align: top;\n",
       "    }\n",
       "\n",
       "    .dataframe thead th {\n",
       "        text-align: right;\n",
       "    }\n",
       "</style>\n",
       "<table border=\"1\" class=\"dataframe\">\n",
       "  <thead>\n",
       "    <tr style=\"text-align: right;\">\n",
       "      <th></th>\n",
       "      <th>Day_week</th>\n",
       "      <th>Class_Data</th>\n",
       "      <th>Time_classify</th>\n",
       "      <th>travel_time</th>\n",
       "      <th>travel_from</th>\n",
       "      <th>car_type</th>\n",
       "      <th>max_capacity</th>\n",
       "    </tr>\n",
       "  </thead>\n",
       "  <tbody>\n",
       "    <tr>\n",
       "      <th>0</th>\n",
       "      <td>2</td>\n",
       "      <td>2</td>\n",
       "      <td>1</td>\n",
       "      <td>435</td>\n",
       "      <td>7</td>\n",
       "      <td>0</td>\n",
       "      <td>49</td>\n",
       "    </tr>\n",
       "    <tr>\n",
       "      <th>1</th>\n",
       "      <td>0</td>\n",
       "      <td>2</td>\n",
       "      <td>1</td>\n",
       "      <td>432</td>\n",
       "      <td>7</td>\n",
       "      <td>0</td>\n",
       "      <td>49</td>\n",
       "    </tr>\n",
       "    <tr>\n",
       "      <th>2</th>\n",
       "      <td>0</td>\n",
       "      <td>2</td>\n",
       "      <td>1</td>\n",
       "      <td>425</td>\n",
       "      <td>3</td>\n",
       "      <td>0</td>\n",
       "      <td>49</td>\n",
       "    </tr>\n",
       "    <tr>\n",
       "      <th>3</th>\n",
       "      <td>1</td>\n",
       "      <td>2</td>\n",
       "      <td>1</td>\n",
       "      <td>430</td>\n",
       "      <td>1</td>\n",
       "      <td>0</td>\n",
       "      <td>49</td>\n",
       "    </tr>\n",
       "    <tr>\n",
       "      <th>4</th>\n",
       "      <td>1</td>\n",
       "      <td>2</td>\n",
       "      <td>1</td>\n",
       "      <td>432</td>\n",
       "      <td>7</td>\n",
       "      <td>0</td>\n",
       "      <td>49</td>\n",
       "    </tr>\n",
       "  </tbody>\n",
       "</table>\n",
       "</div>"
      ],
      "text/plain": [
       "   Day_week  Class_Data  Time_classify  travel_time  travel_from  car_type  \\\n",
       "0         2           2              1          435            7         0   \n",
       "1         0           2              1          432            7         0   \n",
       "2         0           2              1          425            3         0   \n",
       "3         1           2              1          430            1         0   \n",
       "4         1           2              1          432            7         0   \n",
       "\n",
       "   max_capacity  \n",
       "0            49  \n",
       "1            49  \n",
       "2            49  \n",
       "3            49  \n",
       "4            49  "
      ]
     },
     "execution_count": 231,
     "metadata": {},
     "output_type": "execute_result"
    }
   ],
   "source": [
    "X.head()"
   ]
  },
  {
   "cell_type": "code",
   "execution_count": null,
   "metadata": {},
   "outputs": [],
   "source": []
  },
  {
   "cell_type": "markdown",
   "metadata": {},
   "source": [
    "#### Error Checking"
   ]
  },
  {
   "cell_type": "code",
   "execution_count": 232,
   "metadata": {},
   "outputs": [
    {
     "name": "stdout",
     "output_type": "stream",
     "text": [
      "2.9373795761079\n"
     ]
    }
   ],
   "source": [
    "print (mean_absolute_error(y_preds_all,y))"
   ]
  },
  {
   "cell_type": "markdown",
   "metadata": {},
   "source": [
    "Using rint()\n",
    "with id : 1.1870699311889903\n",
    "with id and travel_to : 1.172827652424388\n"
   ]
  },
  {
   "cell_type": "code",
   "execution_count": 938,
   "metadata": {
    "scrolled": false
   },
   "outputs": [
    {
     "name": "stdout",
     "output_type": "stream",
     "text": [
      "<class 'pandas.core.frame.DataFrame'>\n",
      "RangeIndex: 6249 entries, 0 to 6248\n",
      "Data columns (total 5 columns):\n",
      "Day_week        6249 non-null int64\n",
      "travel_time     6249 non-null int64\n",
      "travel_from     6249 non-null int8\n",
      "car_type        6249 non-null int8\n",
      "max_capacity    6249 non-null int64\n",
      "dtypes: int64(3), int8(2)\n",
      "memory usage: 158.7 KB\n"
     ]
    }
   ],
   "source": [
    "X.info()"
   ]
  },
  {
   "cell_type": "code",
   "execution_count": null,
   "metadata": {},
   "outputs": [],
   "source": []
  },
  {
   "cell_type": "code",
   "execution_count": null,
   "metadata": {},
   "outputs": [],
   "source": []
  },
  {
   "cell_type": "code",
   "execution_count": null,
   "metadata": {},
   "outputs": [],
   "source": []
  },
  {
   "cell_type": "markdown",
   "metadata": {},
   "source": [
    "# Testing "
   ]
  },
  {
   "cell_type": "code",
   "execution_count": 209,
   "metadata": {},
   "outputs": [],
   "source": [
    "df_test_set = pd.read_csv('test_questions.csv', low_memory=False)"
   ]
  },
  {
   "cell_type": "code",
   "execution_count": 210,
   "metadata": {},
   "outputs": [
    {
     "data": {
      "text/plain": [
       "49    599\n",
       "11    512\n",
       "Name: max_capacity, dtype: int64"
      ]
     },
     "execution_count": 210,
     "metadata": {},
     "output_type": "execute_result"
    }
   ],
   "source": [
    "df_test_set.max_capacity.value_counts()"
   ]
  },
  {
   "cell_type": "code",
   "execution_count": 211,
   "metadata": {},
   "outputs": [
    {
     "data": {
      "text/html": [
       "<div>\n",
       "<style scoped>\n",
       "    .dataframe tbody tr th:only-of-type {\n",
       "        vertical-align: middle;\n",
       "    }\n",
       "\n",
       "    .dataframe tbody tr th {\n",
       "        vertical-align: top;\n",
       "    }\n",
       "\n",
       "    .dataframe thead th {\n",
       "        text-align: right;\n",
       "    }\n",
       "</style>\n",
       "<table border=\"1\" class=\"dataframe\">\n",
       "  <thead>\n",
       "    <tr style=\"text-align: right;\">\n",
       "      <th></th>\n",
       "      <th>ride_id</th>\n",
       "      <th>travel_date</th>\n",
       "      <th>travel_time</th>\n",
       "      <th>travel_from</th>\n",
       "      <th>travel_to</th>\n",
       "      <th>car_type</th>\n",
       "      <th>max_capacity</th>\n",
       "    </tr>\n",
       "  </thead>\n",
       "  <tbody>\n",
       "    <tr>\n",
       "      <th>0</th>\n",
       "      <td>247</td>\n",
       "      <td>2018-05-07</td>\n",
       "      <td>07:06</td>\n",
       "      <td>Kisii</td>\n",
       "      <td>Nairobi</td>\n",
       "      <td>Bus</td>\n",
       "      <td>49</td>\n",
       "    </tr>\n",
       "    <tr>\n",
       "      <th>1</th>\n",
       "      <td>256</td>\n",
       "      <td>2018-05-06</td>\n",
       "      <td>11:08</td>\n",
       "      <td>Kisii</td>\n",
       "      <td>Nairobi</td>\n",
       "      <td>shuttle</td>\n",
       "      <td>11</td>\n",
       "    </tr>\n",
       "    <tr>\n",
       "      <th>2</th>\n",
       "      <td>275</td>\n",
       "      <td>2018-05-04</td>\n",
       "      <td>05:00</td>\n",
       "      <td>Kisii</td>\n",
       "      <td>Nairobi</td>\n",
       "      <td>shuttle</td>\n",
       "      <td>11</td>\n",
       "    </tr>\n",
       "    <tr>\n",
       "      <th>3</th>\n",
       "      <td>285</td>\n",
       "      <td>2018-05-04</td>\n",
       "      <td>09:10</td>\n",
       "      <td>Kisii</td>\n",
       "      <td>Nairobi</td>\n",
       "      <td>shuttle</td>\n",
       "      <td>11</td>\n",
       "    </tr>\n",
       "    <tr>\n",
       "      <th>4</th>\n",
       "      <td>286</td>\n",
       "      <td>2018-05-04</td>\n",
       "      <td>09:20</td>\n",
       "      <td>Kisii</td>\n",
       "      <td>Nairobi</td>\n",
       "      <td>shuttle</td>\n",
       "      <td>11</td>\n",
       "    </tr>\n",
       "  </tbody>\n",
       "</table>\n",
       "</div>"
      ],
      "text/plain": [
       "   ride_id travel_date travel_time travel_from travel_to car_type  \\\n",
       "0      247  2018-05-07       07:06       Kisii   Nairobi      Bus   \n",
       "1      256  2018-05-06       11:08       Kisii   Nairobi  shuttle   \n",
       "2      275  2018-05-04       05:00       Kisii   Nairobi  shuttle   \n",
       "3      285  2018-05-04       09:10       Kisii   Nairobi  shuttle   \n",
       "4      286  2018-05-04       09:20       Kisii   Nairobi  shuttle   \n",
       "\n",
       "   max_capacity  \n",
       "0            49  \n",
       "1            11  \n",
       "2            11  \n",
       "3            11  \n",
       "4            11  "
      ]
     },
     "execution_count": 211,
     "metadata": {},
     "output_type": "execute_result"
    }
   ],
   "source": [
    "df_test_set.head()"
   ]
  },
  {
   "cell_type": "code",
   "execution_count": 212,
   "metadata": {},
   "outputs": [],
   "source": [
    "df_test_set[\"Hour\"]= df_test_set[\"travel_time\"].str.split(':').apply(lambda x: int(x[0]))\n",
    "df_test_set[\"Minute\"]= df_test_set[\"travel_time\"].str.split(':').apply(lambda x: int(x[1]))\n",
    "\n",
    "df_test_set['travel_date'] = pd.to_datetime(df_test_set['travel_date'])\n",
    "df_test_set['Day_week'] = df_test_set['travel_date'].dt.strftime('%w')\n",
    "df_test_set['Day_week'] = pd.to_numeric(df_test_set['Day_week'])\n",
    "\n",
    "df_test_set['year_Month'] = df_test_set['travel_date'].dt.strftime('%Y-%m')\n",
    "\n",
    "df_test_set[\"Day\"]= df_test_set['travel_date'].dt.strftime('%d')\n",
    "df_test_set[\"Month\"]= df_test_set['travel_date'].dt.strftime('%m')\n",
    "df_test_set[\"year\"]= df_test_set['travel_date'].dt.strftime('%Y')\n",
    "\n",
    "# def classOur(x) :\n",
    "#     if (int(x[0])==7):\n",
    "#         return 0\n",
    "#     if (int(x[0])>19):\n",
    "#         return 1\n",
    "#     return 2\n",
    "\n",
    "def classOur(x) :\n",
    "    if (int(x[0])==7):\n",
    "        return 1\n",
    "    return 2\n",
    "\n",
    "df_test_set[\"Time_classify\"] = df_test_set[\"travel_time\"].str.split(':').apply(classOur)\n",
    "\n",
    "def classProv(x) :\n",
    "    if (x[0]=='Kisii'):\n",
    "        return 1\n",
    "    return 2\n",
    "df_test_set[\"Class_Prov\"] = df_test_set[\"travel_from\"].str.split(':').apply(classProv)\n",
    "\n"
   ]
  },
  {
   "cell_type": "code",
   "execution_count": 213,
   "metadata": {},
   "outputs": [],
   "source": [
    "def classdate(x) :\n",
    "#     if (x[0]=='2018/01' or x[0]=='2018/02' or x[0]=='2018/03' or x[0]=='2018/04' or x[0]=='2017/12'):\n",
    "    if (((x[0]=='2017') and (x[1]=='12')) or \n",
    "       ((x[0]=='2018') and (x[1]=='01')) or\n",
    "       ((x[0]=='2018') and (x[1]=='02')) or\n",
    "       ((x[0]=='2018') and (x[1]=='03')) or\n",
    "       ((x[0]=='2018') and (x[1]=='04'))):\n",
    "        return 1\n",
    "    return 2\n",
    "df_test_set[\"Class_Data\"] = df_test_set[\"year_Month\"].str.split('-').apply(classdate)\n"
   ]
  },
  {
   "cell_type": "code",
   "execution_count": 214,
   "metadata": {},
   "outputs": [],
   "source": [
    "# df_test_set[\"travel_date\"] = pd.to_datetime(df_test_set[\"travel_date\"],infer_datetime_format=True)\n",
    "# df_test_set[\"travel_date\"] = df_test_set[\"travel_date\"].dt.dayofweek #change the full date to day of week\n",
    "\n",
    "df_test_set[\"car_type\"] = pd.Categorical(df_test_set[\"car_type\"])\n",
    "# car_type_categories = data_revised.car_type.cat.categories\n",
    "df_test_set[\"car_type\"] = df_test_set.car_type.cat.codes\n",
    "\n",
    "df_test_set[\"travel_from\"] = pd.Categorical(df_test_set[\"travel_from\"])\n",
    "# travel_from_categories = data_revised.travel_from.cat.categories\n",
    "df_test_set[\"travel_from\"] = df_test_set.travel_from.cat.codes\n",
    "\n",
    "df_test_set[\"travel_to\"] = pd.Categorical(df_test_set[\"travel_to\"])\n",
    "df_test_set[\"travel_to\"] = df_test_set.travel_to.cat.codes\n",
    "\n",
    "df_test_set[\"travel_time\"] = df_test_set[\"travel_time\"].str.split(':').apply(lambda x: int(x[0]) * 60 + int(x[1]))\n",
    "\n",
    "# df_test_set[\"travel_time\"] = df_test_set[\"travel_time\"].str.split(':').apply(lambda x: int(x[0]))"
   ]
  },
  {
   "cell_type": "code",
   "execution_count": 207,
   "metadata": {},
   "outputs": [
    {
     "data": {
      "text/plain": [
       "<matplotlib.axes._subplots.AxesSubplot at 0x2868e3f47f0>"
      ]
     },
     "execution_count": 207,
     "metadata": {},
     "output_type": "execute_result"
    },
    {
     "data": {
      "image/png": "[encoded data removed]",
      "text/plain": [
       "<Figure size 432x288 with 1 Axes>"
      ]
     },
     "metadata": {
      "needs_background": "light"
     },
     "output_type": "display_data"
    }
   ],
   "source": [
    "df_test_set.year_Month.value_counts().plot.bar()"
   ]
  },
  {
   "cell_type": "code",
   "execution_count": 153,
   "metadata": {},
   "outputs": [
    {
     "name": "stdout",
     "output_type": "stream",
     "text": [
      "<class 'pandas.core.frame.DataFrame'>\n",
      "RangeIndex: 1111 entries, 0 to 1110\n",
      "Data columns (total 17 columns):\n",
      "ride_id          1111 non-null int64\n",
      "travel_date      1111 non-null datetime64[ns]\n",
      "travel_time      1111 non-null int64\n",
      "travel_from      1111 non-null int8\n",
      "travel_to        1111 non-null int8\n",
      "car_type         1111 non-null int8\n",
      "max_capacity     1111 non-null int64\n",
      "Hour             1111 non-null int64\n",
      "Minute           1111 non-null int64\n",
      "Day_week         1111 non-null int64\n",
      "year_Month       1111 non-null object\n",
      "Day              1111 non-null object\n",
      "Month            1111 non-null object\n",
      "year             1111 non-null object\n",
      "Time_classify    1111 non-null int64\n",
      "Class_Prov       1111 non-null int64\n",
      "Class_Data       1111 non-null int64\n",
      "dtypes: datetime64[ns](1), int64(9), int8(3), object(4)\n",
      "memory usage: 124.8+ KB\n"
     ]
    }
   ],
   "source": [
    "df_test_set.info()"
   ]
  },
  {
   "cell_type": "code",
   "execution_count": 233,
   "metadata": {},
   "outputs": [
    {
     "data": {
      "text/html": [
       "<div>\n",
       "<style scoped>\n",
       "    .dataframe tbody tr th:only-of-type {\n",
       "        vertical-align: middle;\n",
       "    }\n",
       "\n",
       "    .dataframe tbody tr th {\n",
       "        vertical-align: top;\n",
       "    }\n",
       "\n",
       "    .dataframe thead th {\n",
       "        text-align: right;\n",
       "    }\n",
       "</style>\n",
       "<table border=\"1\" class=\"dataframe\">\n",
       "  <thead>\n",
       "    <tr style=\"text-align: right;\">\n",
       "      <th></th>\n",
       "      <th>Day_week</th>\n",
       "      <th>Class_Data</th>\n",
       "      <th>Time_classify</th>\n",
       "      <th>travel_time</th>\n",
       "      <th>travel_from</th>\n",
       "      <th>car_type</th>\n",
       "      <th>max_capacity</th>\n",
       "    </tr>\n",
       "  </thead>\n",
       "  <tbody>\n",
       "    <tr>\n",
       "      <th>0</th>\n",
       "      <td>1</td>\n",
       "      <td>2</td>\n",
       "      <td>1</td>\n",
       "      <td>426</td>\n",
       "      <td>5</td>\n",
       "      <td>0</td>\n",
       "      <td>49</td>\n",
       "    </tr>\n",
       "    <tr>\n",
       "      <th>1</th>\n",
       "      <td>0</td>\n",
       "      <td>2</td>\n",
       "      <td>2</td>\n",
       "      <td>668</td>\n",
       "      <td>5</td>\n",
       "      <td>1</td>\n",
       "      <td>11</td>\n",
       "    </tr>\n",
       "    <tr>\n",
       "      <th>2</th>\n",
       "      <td>5</td>\n",
       "      <td>2</td>\n",
       "      <td>2</td>\n",
       "      <td>300</td>\n",
       "      <td>5</td>\n",
       "      <td>1</td>\n",
       "      <td>11</td>\n",
       "    </tr>\n",
       "    <tr>\n",
       "      <th>3</th>\n",
       "      <td>5</td>\n",
       "      <td>2</td>\n",
       "      <td>2</td>\n",
       "      <td>550</td>\n",
       "      <td>5</td>\n",
       "      <td>1</td>\n",
       "      <td>11</td>\n",
       "    </tr>\n",
       "    <tr>\n",
       "      <th>4</th>\n",
       "      <td>5</td>\n",
       "      <td>2</td>\n",
       "      <td>2</td>\n",
       "      <td>560</td>\n",
       "      <td>5</td>\n",
       "      <td>1</td>\n",
       "      <td>11</td>\n",
       "    </tr>\n",
       "  </tbody>\n",
       "</table>\n",
       "</div>"
      ],
      "text/plain": [
       "   Day_week  Class_Data  Time_classify  travel_time  travel_from  car_type  \\\n",
       "0         1           2              1          426            5         0   \n",
       "1         0           2              2          668            5         1   \n",
       "2         5           2              2          300            5         1   \n",
       "3         5           2              2          550            5         1   \n",
       "4         5           2              2          560            5         1   \n",
       "\n",
       "   max_capacity  \n",
       "0            49  \n",
       "1            11  \n",
       "2            11  \n",
       "3            11  \n",
       "4            11  "
      ]
     },
     "execution_count": 233,
     "metadata": {},
     "output_type": "execute_result"
    }
   ],
   "source": [
    "X_ = df_test_set[[\"Day_week\", \"Class_Data\",  \"Time_classify\", \"travel_time\", \"travel_from\", \"car_type\", \"max_capacity\"]]\n",
    "# X_ = df_test_set[[\"Month\", \"travel_time\", \"travel_from\", \"car_type\", \"max_capacity\"]]\n",
    "\n",
    "X_.head()                    "
   ]
  },
  {
   "cell_type": "code",
   "execution_count": 216,
   "metadata": {},
   "outputs": [
    {
     "data": {
      "text/html": [
       "<div>\n",
       "<style scoped>\n",
       "    .dataframe tbody tr th:only-of-type {\n",
       "        vertical-align: middle;\n",
       "    }\n",
       "\n",
       "    .dataframe tbody tr th {\n",
       "        vertical-align: top;\n",
       "    }\n",
       "\n",
       "    .dataframe thead th {\n",
       "        text-align: right;\n",
       "    }\n",
       "</style>\n",
       "<table border=\"1\" class=\"dataframe\">\n",
       "  <thead>\n",
       "    <tr style=\"text-align: right;\">\n",
       "      <th></th>\n",
       "      <th>Day_week</th>\n",
       "      <th>Class_Data</th>\n",
       "      <th>Class_Prov</th>\n",
       "      <th>Time_classify</th>\n",
       "      <th>travel_time</th>\n",
       "      <th>travel_from</th>\n",
       "      <th>car_type</th>\n",
       "      <th>max_capacity</th>\n",
       "    </tr>\n",
       "  </thead>\n",
       "  <tbody>\n",
       "    <tr>\n",
       "      <th>0</th>\n",
       "      <td>1</td>\n",
       "      <td>2</td>\n",
       "      <td>1</td>\n",
       "      <td>1</td>\n",
       "      <td>426</td>\n",
       "      <td>5</td>\n",
       "      <td>0</td>\n",
       "      <td>49</td>\n",
       "    </tr>\n",
       "    <tr>\n",
       "      <th>1</th>\n",
       "      <td>0</td>\n",
       "      <td>2</td>\n",
       "      <td>1</td>\n",
       "      <td>2</td>\n",
       "      <td>668</td>\n",
       "      <td>5</td>\n",
       "      <td>1</td>\n",
       "      <td>11</td>\n",
       "    </tr>\n",
       "    <tr>\n",
       "      <th>2</th>\n",
       "      <td>5</td>\n",
       "      <td>2</td>\n",
       "      <td>1</td>\n",
       "      <td>2</td>\n",
       "      <td>300</td>\n",
       "      <td>5</td>\n",
       "      <td>1</td>\n",
       "      <td>11</td>\n",
       "    </tr>\n",
       "    <tr>\n",
       "      <th>3</th>\n",
       "      <td>5</td>\n",
       "      <td>2</td>\n",
       "      <td>1</td>\n",
       "      <td>2</td>\n",
       "      <td>550</td>\n",
       "      <td>5</td>\n",
       "      <td>1</td>\n",
       "      <td>11</td>\n",
       "    </tr>\n",
       "    <tr>\n",
       "      <th>4</th>\n",
       "      <td>5</td>\n",
       "      <td>2</td>\n",
       "      <td>1</td>\n",
       "      <td>2</td>\n",
       "      <td>560</td>\n",
       "      <td>5</td>\n",
       "      <td>1</td>\n",
       "      <td>11</td>\n",
       "    </tr>\n",
       "  </tbody>\n",
       "</table>\n",
       "</div>"
      ],
      "text/plain": [
       "   Day_week  Class_Data  Class_Prov  Time_classify  travel_time  travel_from  \\\n",
       "0         1           2           1              1          426            5   \n",
       "1         0           2           1              2          668            5   \n",
       "2         5           2           1              2          300            5   \n",
       "3         5           2           1              2          550            5   \n",
       "4         5           2           1              2          560            5   \n",
       "\n",
       "   car_type  max_capacity  \n",
       "0         0            49  \n",
       "1         1            11  \n",
       "2         1            11  \n",
       "3         1            11  \n",
       "4         1            11  "
      ]
     },
     "execution_count": 216,
     "metadata": {},
     "output_type": "execute_result"
    }
   ],
   "source": [
    "X_.head()                    "
   ]
  },
  {
   "cell_type": "code",
   "execution_count": 217,
   "metadata": {},
   "outputs": [],
   "source": [
    "# from sklearn import preprocessing\n",
    "# X_ = preprocessing.StandardScaler().fit(X).transform(X)"
   ]
  },
  {
   "cell_type": "code",
   "execution_count": 234,
   "metadata": {},
   "outputs": [],
   "source": [
    "test_set_predictions = model_all.predict(X_)\n",
    "# test_set_predictions = model_cat.predict(X_)"
   ]
  },
  {
   "cell_type": "code",
   "execution_count": 235,
   "metadata": {},
   "outputs": [],
   "source": [
    "test_set_predictions = np.rint(test_set_predictions)"
   ]
  },
  {
   "cell_type": "code",
   "execution_count": 236,
   "metadata": {},
   "outputs": [],
   "source": [
    "# test_set_predictions[:10]"
   ]
  },
  {
   "cell_type": "code",
   "execution_count": 237,
   "metadata": {},
   "outputs": [
    {
     "data": {
      "text/html": [
       "<div>\n",
       "<style scoped>\n",
       "    .dataframe tbody tr th:only-of-type {\n",
       "        vertical-align: middle;\n",
       "    }\n",
       "\n",
       "    .dataframe tbody tr th {\n",
       "        vertical-align: top;\n",
       "    }\n",
       "\n",
       "    .dataframe thead th {\n",
       "        text-align: right;\n",
       "    }\n",
       "</style>\n",
       "<table border=\"1\" class=\"dataframe\">\n",
       "  <thead>\n",
       "    <tr style=\"text-align: right;\">\n",
       "      <th></th>\n",
       "      <th>ride_id</th>\n",
       "      <th>number_of_ticket</th>\n",
       "    </tr>\n",
       "  </thead>\n",
       "  <tbody>\n",
       "    <tr>\n",
       "      <th>0</th>\n",
       "      <td>247</td>\n",
       "      <td>9.0</td>\n",
       "    </tr>\n",
       "    <tr>\n",
       "      <th>1</th>\n",
       "      <td>256</td>\n",
       "      <td>4.0</td>\n",
       "    </tr>\n",
       "    <tr>\n",
       "      <th>2</th>\n",
       "      <td>275</td>\n",
       "      <td>2.0</td>\n",
       "    </tr>\n",
       "    <tr>\n",
       "      <th>3</th>\n",
       "      <td>285</td>\n",
       "      <td>9.0</td>\n",
       "    </tr>\n",
       "    <tr>\n",
       "      <th>4</th>\n",
       "      <td>286</td>\n",
       "      <td>9.0</td>\n",
       "    </tr>\n",
       "  </tbody>\n",
       "</table>\n",
       "</div>"
      ],
      "text/plain": [
       "   ride_id  number_of_ticket\n",
       "0      247               9.0\n",
       "1      256               4.0\n",
       "2      275               2.0\n",
       "3      285               9.0\n",
       "4      286               9.0"
      ]
     },
     "execution_count": 237,
     "metadata": {},
     "output_type": "execute_result"
    }
   ],
   "source": [
    "d = {'ride_id': df_test_set[\"ride_id\"], 'number_of_ticket': test_set_predictions}\n",
    "df_predictions = pd.DataFrame(data=d)\n",
    "df_predictions = df_predictions[['ride_id','number_of_ticket']]\n",
    "\n",
    "df_predictions.head()"
   ]
  },
  {
   "cell_type": "markdown",
   "metadata": {},
   "source": [
    "Saving our file"
   ]
  },
  {
   "cell_type": "code",
   "execution_count": 238,
   "metadata": {},
   "outputs": [],
   "source": [
    "df_predictions.to_csv('predi_2.9.csv', index=False) #save to csv file"
   ]
  },
  {
   "cell_type": "code",
   "execution_count": null,
   "metadata": {},
   "outputs": [],
   "source": []
  },
  {
   "cell_type": "markdown",
   "metadata": {},
   "source": [
    "### This is just for fun, supposing that the first five rowns in the sample submission are true"
   ]
  },
  {
   "cell_type": "code",
   "execution_count": 409,
   "metadata": {},
   "outputs": [
    {
     "data": {
      "text/html": [
       "<div>\n",
       "<style scoped>\n",
       "    .dataframe tbody tr th:only-of-type {\n",
       "        vertical-align: middle;\n",
       "    }\n",
       "\n",
       "    .dataframe tbody tr th {\n",
       "        vertical-align: top;\n",
       "    }\n",
       "\n",
       "    .dataframe thead th {\n",
       "        text-align: right;\n",
       "    }\n",
       "</style>\n",
       "<table border=\"1\" class=\"dataframe\">\n",
       "  <thead>\n",
       "    <tr style=\"text-align: right;\">\n",
       "      <th></th>\n",
       "      <th>ride_id</th>\n",
       "      <th>number_of_ticket</th>\n",
       "    </tr>\n",
       "  </thead>\n",
       "  <tbody>\n",
       "    <tr>\n",
       "      <th>0</th>\n",
       "      <td>247</td>\n",
       "      <td>4.0</td>\n",
       "    </tr>\n",
       "    <tr>\n",
       "      <th>1</th>\n",
       "      <td>256</td>\n",
       "      <td>2.0</td>\n",
       "    </tr>\n",
       "    <tr>\n",
       "      <th>2</th>\n",
       "      <td>275</td>\n",
       "      <td>5.0</td>\n",
       "    </tr>\n",
       "    <tr>\n",
       "      <th>3</th>\n",
       "      <td>285</td>\n",
       "      <td>7.0</td>\n",
       "    </tr>\n",
       "    <tr>\n",
       "      <th>4</th>\n",
       "      <td>286</td>\n",
       "      <td>9.0</td>\n",
       "    </tr>\n",
       "  </tbody>\n",
       "</table>\n",
       "</div>"
      ],
      "text/plain": [
       "   ride_id  number_of_ticket\n",
       "0      247               4.0\n",
       "1      256               2.0\n",
       "2      275               5.0\n",
       "3      285               7.0\n",
       "4      286               9.0"
      ]
     },
     "execution_count": 409,
     "metadata": {},
     "output_type": "execute_result"
    }
   ],
   "source": [
    "df_test = pd.read_csv('sample_submission.csv', low_memory=False)\n",
    "df_test.head()"
   ]
  },
  {
   "cell_type": "code",
   "execution_count": 410,
   "metadata": {},
   "outputs": [],
   "source": [
    "y_test_ = df_test.number_of_ticket"
   ]
  },
  {
   "cell_type": "code",
   "execution_count": 871,
   "metadata": {},
   "outputs": [
    {
     "name": "stdout",
     "output_type": "stream",
     "text": [
      "3.4\n"
     ]
    }
   ],
   "source": [
    "print (mean_absolute_error(test_set_predictions[:5],y_test_[:5]))"
   ]
  }
 ],
 "metadata": {
  "kernelspec": {
   "display_name": "Python 3",
   "language": "python",
   "name": "python3"
  },
  "language_info": {
   "codemirror_mode": {
    "name": "ipython",
    "version": 3
   },
   "file_extension": ".py",
   "mimetype": "text/x-python",
   "name": "python",
   "nbconvert_exporter": "python",
   "pygments_lexer": "ipython3",
   "version": "3.7.1"
  }
 },
 "nbformat": 4,
 "nbformat_minor": 2
}
